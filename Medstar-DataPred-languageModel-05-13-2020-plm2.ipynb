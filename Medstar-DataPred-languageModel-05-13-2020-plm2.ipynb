{
 "cells": [
  {
   "cell_type": "code",
   "execution_count": 1,
   "metadata": {},
   "outputs": [],
   "source": [
    "%reload_ext autoreload\n",
    "%autoreload 2\n",
    "%matplotlib inline"
   ]
  },
  {
   "cell_type": "code",
   "execution_count": 2,
   "metadata": {},
   "outputs": [],
   "source": [
    "from fastai.text import *"
   ]
  },
  {
   "cell_type": "code",
   "execution_count": 3,
   "metadata": {},
   "outputs": [],
   "source": [
    "torch.cuda.set_device(2)"
   ]
  },
  {
   "cell_type": "code",
   "execution_count": 4,
   "metadata": {},
   "outputs": [],
   "source": [
    "data=pd.read_csv('/data2/datasets/medstar/breast_pathology/lookup.csv')"
   ]
  },
  {
   "cell_type": "code",
   "execution_count": 5,
   "metadata": {},
   "outputs": [
    {
     "data": {
      "text/html": [
       "<div>\n",
       "<style scoped>\n",
       "    .dataframe tbody tr th:only-of-type {\n",
       "        vertical-align: middle;\n",
       "    }\n",
       "\n",
       "    .dataframe tbody tr th {\n",
       "        vertical-align: top;\n",
       "    }\n",
       "\n",
       "    .dataframe thead th {\n",
       "        text-align: right;\n",
       "    }\n",
       "</style>\n",
       "<table border=\"1\" class=\"dataframe\">\n",
       "  <thead>\n",
       "    <tr style=\"text-align: right;\">\n",
       "      <th></th>\n",
       "      <th>File Name</th>\n",
       "      <th>Path</th>\n",
       "      <th>Notes</th>\n",
       "    </tr>\n",
       "  </thead>\n",
       "  <tbody>\n",
       "    <tr>\n",
       "      <th>0</th>\n",
       "      <td>522a68932d261e3d9c07db8f93073d05.txt</td>\n",
       "      <td>Benign</td>\n",
       "      <td>NaN</td>\n",
       "    </tr>\n",
       "    <tr>\n",
       "      <th>1</th>\n",
       "      <td>1554f75ecbb52e6ade28b3158e47e4a5.txt</td>\n",
       "      <td>Benign</td>\n",
       "      <td>NaN</td>\n",
       "    </tr>\n",
       "    <tr>\n",
       "      <th>2</th>\n",
       "      <td>df2c9febb31db2795e65a057507e3c9a.txt</td>\n",
       "      <td>Benign</td>\n",
       "      <td>NaN</td>\n",
       "    </tr>\n",
       "    <tr>\n",
       "      <th>3</th>\n",
       "      <td>0d41aa9f8d070227f0ee83f73b4480c1.txt</td>\n",
       "      <td>Benign</td>\n",
       "      <td>NaN</td>\n",
       "    </tr>\n",
       "    <tr>\n",
       "      <th>4</th>\n",
       "      <td>df610ecbbffe4c0fad802718425ee7b3.txt</td>\n",
       "      <td>Benign</td>\n",
       "      <td>NaN</td>\n",
       "    </tr>\n",
       "  </tbody>\n",
       "</table>\n",
       "</div>"
      ],
      "text/plain": [
       "                             File Name     Path Notes\n",
       "0  522a68932d261e3d9c07db8f93073d05.txt  Benign   NaN\n",
       "1  1554f75ecbb52e6ade28b3158e47e4a5.txt  Benign   NaN\n",
       "2  df2c9febb31db2795e65a057507e3c9a.txt  Benign   NaN\n",
       "3  0d41aa9f8d070227f0ee83f73b4480c1.txt  Benign   NaN\n",
       "4  df610ecbbffe4c0fad802718425ee7b3.txt  Benign   NaN"
      ]
     },
     "execution_count": 5,
     "metadata": {},
     "output_type": "execute_result"
    }
   ],
   "source": [
    "data.head()"
   ]
  },
  {
   "cell_type": "code",
   "execution_count": 6,
   "metadata": {},
   "outputs": [
    {
     "data": {
      "text/html": [
       "<div>\n",
       "<style scoped>\n",
       "    .dataframe tbody tr th:only-of-type {\n",
       "        vertical-align: middle;\n",
       "    }\n",
       "\n",
       "    .dataframe tbody tr th {\n",
       "        vertical-align: top;\n",
       "    }\n",
       "\n",
       "    .dataframe thead th {\n",
       "        text-align: right;\n",
       "    }\n",
       "</style>\n",
       "<table border=\"1\" class=\"dataframe\">\n",
       "  <thead>\n",
       "    <tr style=\"text-align: right;\">\n",
       "      <th></th>\n",
       "      <th>File Name</th>\n",
       "      <th>Path</th>\n",
       "      <th>Notes</th>\n",
       "    </tr>\n",
       "  </thead>\n",
       "  <tbody>\n",
       "    <tr>\n",
       "      <th>count</th>\n",
       "      <td>2658</td>\n",
       "      <td>2658</td>\n",
       "      <td>197</td>\n",
       "    </tr>\n",
       "    <tr>\n",
       "      <th>unique</th>\n",
       "      <td>2207</td>\n",
       "      <td>3</td>\n",
       "      <td>1</td>\n",
       "    </tr>\n",
       "    <tr>\n",
       "      <th>top</th>\n",
       "      <td>6310296a6e942e107bbd0da5bf082dbe.txt</td>\n",
       "      <td>Benign</td>\n",
       "      <td>HRL</td>\n",
       "    </tr>\n",
       "    <tr>\n",
       "      <th>freq</th>\n",
       "      <td>8</td>\n",
       "      <td>1924</td>\n",
       "      <td>197</td>\n",
       "    </tr>\n",
       "  </tbody>\n",
       "</table>\n",
       "</div>"
      ],
      "text/plain": [
       "                                  File Name     Path Notes\n",
       "count                                   2658    2658   197\n",
       "unique                                  2207       3     1\n",
       "top     6310296a6e942e107bbd0da5bf082dbe.txt  Benign   HRL\n",
       "freq                                       8    1924   197"
      ]
     },
     "execution_count": 6,
     "metadata": {},
     "output_type": "execute_result"
    }
   ],
   "source": [
    "data.describe()"
   ]
  },
  {
   "cell_type": "code",
   "execution_count": 7,
   "metadata": {},
   "outputs": [
    {
     "data": {
      "text/plain": [
       "Benign       1924\n",
       "Malignant     729\n",
       "benign          5\n",
       "Name: Path, dtype: int64"
      ]
     },
     "execution_count": 7,
     "metadata": {},
     "output_type": "execute_result"
    }
   ],
   "source": [
    "data['Path'].value_counts()"
   ]
  },
  {
   "cell_type": "code",
   "execution_count": 8,
   "metadata": {},
   "outputs": [
    {
     "data": {
      "text/plain": [
       "array(['Benign', 'Malignant', 'benign'], dtype=object)"
      ]
     },
     "execution_count": 8,
     "metadata": {},
     "output_type": "execute_result"
    }
   ],
   "source": [
    "data['Path'].unique()"
   ]
  },
  {
   "cell_type": "code",
   "execution_count": 9,
   "metadata": {},
   "outputs": [],
   "source": [
    "data['Path'].replace(regex='benign', value='Benign', inplace=True)"
   ]
  },
  {
   "cell_type": "code",
   "execution_count": 10,
   "metadata": {},
   "outputs": [
    {
     "data": {
      "text/plain": [
       "Benign       1929\n",
       "Malignant     729\n",
       "Name: Path, dtype: int64"
      ]
     },
     "execution_count": 10,
     "metadata": {},
     "output_type": "execute_result"
    }
   ],
   "source": [
    "data['Path'].value_counts()"
   ]
  },
  {
   "cell_type": "code",
   "execution_count": 11,
   "metadata": {},
   "outputs": [
    {
     "data": {
      "text/plain": [
       "HRL    197\n",
       "Name: Notes, dtype: int64"
      ]
     },
     "execution_count": 11,
     "metadata": {},
     "output_type": "execute_result"
    }
   ],
   "source": [
    "data['Notes'].value_counts()"
   ]
  },
  {
   "cell_type": "code",
   "execution_count": 12,
   "metadata": {},
   "outputs": [
    {
     "data": {
      "text/plain": [
       "array([nan, 'HRL'], dtype=object)"
      ]
     },
     "execution_count": 12,
     "metadata": {},
     "output_type": "execute_result"
    }
   ],
   "source": [
    "data['Notes'].unique()"
   ]
  },
  {
   "cell_type": "code",
   "execution_count": 20,
   "metadata": {},
   "outputs": [
    {
     "data": {
      "text/plain": [
       "0"
      ]
     },
     "execution_count": 20,
     "metadata": {},
     "output_type": "execute_result"
    }
   ],
   "source": [
    "data['File Name '].isna().sum()"
   ]
  },
  {
   "cell_type": "code",
   "execution_count": 13,
   "metadata": {},
   "outputs": [],
   "source": [
    "def func(x):\n",
    "    text=open(os.path.join(path,x))\n",
    "    return text.read()"
   ]
  },
  {
   "cell_type": "code",
   "execution_count": 14,
   "metadata": {},
   "outputs": [],
   "source": [
    "path='/data2/datasets/medstar/breast_pathology/pathology_anonymized_report'"
   ]
  },
  {
   "cell_type": "code",
   "execution_count": 15,
   "metadata": {},
   "outputs": [],
   "source": [
    "data['text']=data['File Name '].apply(func)"
   ]
  },
  {
   "cell_type": "code",
   "execution_count": 16,
   "metadata": {},
   "outputs": [
    {
     "data": {
      "text/html": [
       "<div>\n",
       "<style scoped>\n",
       "    .dataframe tbody tr th:only-of-type {\n",
       "        vertical-align: middle;\n",
       "    }\n",
       "\n",
       "    .dataframe tbody tr th {\n",
       "        vertical-align: top;\n",
       "    }\n",
       "\n",
       "    .dataframe thead th {\n",
       "        text-align: right;\n",
       "    }\n",
       "</style>\n",
       "<table border=\"1\" class=\"dataframe\">\n",
       "  <thead>\n",
       "    <tr style=\"text-align: right;\">\n",
       "      <th></th>\n",
       "      <th>File Name</th>\n",
       "      <th>Path</th>\n",
       "      <th>Notes</th>\n",
       "      <th>text</th>\n",
       "    </tr>\n",
       "  </thead>\n",
       "  <tbody>\n",
       "    <tr>\n",
       "      <th>0</th>\n",
       "      <td>522a68932d261e3d9c07db8f93073d05.txt</td>\n",
       "      <td>Benign</td>\n",
       "      <td>NaN</td>\n",
       "      <td>Final Diagnosis\\n\\nBREAST, LEFT, BIOPSY;\\n -\\t...</td>\n",
       "    </tr>\n",
       "    <tr>\n",
       "      <th>1</th>\n",
       "      <td>1554f75ecbb52e6ade28b3158e47e4a5.txt</td>\n",
       "      <td>Benign</td>\n",
       "      <td>NaN</td>\n",
       "      <td>Source of Specimen\\nA\\tBRST BX EXC MRG\\tLEFT B...</td>\n",
       "    </tr>\n",
       "    <tr>\n",
       "      <th>2</th>\n",
       "      <td>df2c9febb31db2795e65a057507e3c9a.txt</td>\n",
       "      <td>Benign</td>\n",
       "      <td>NaN</td>\n",
       "      <td>Source of Specimen\\nA\\tRIGHT BREAST 9 GAUGE\\n\\...</td>\n",
       "    </tr>\n",
       "    <tr>\n",
       "      <th>3</th>\n",
       "      <td>0d41aa9f8d070227f0ee83f73b4480c1.txt</td>\n",
       "      <td>Benign</td>\n",
       "      <td>NaN</td>\n",
       "      <td>Source of Specimen\\nA\\tLT BREAST BX  9 GAUGE\\n...</td>\n",
       "    </tr>\n",
       "    <tr>\n",
       "      <th>4</th>\n",
       "      <td>df610ecbbffe4c0fad802718425ee7b3.txt</td>\n",
       "      <td>Benign</td>\n",
       "      <td>NaN</td>\n",
       "      <td>Source of Specimen\\nA\\t9 GAUGE RT BREAST STERE...</td>\n",
       "    </tr>\n",
       "  </tbody>\n",
       "</table>\n",
       "</div>"
      ],
      "text/plain": [
       "                             File Name     Path Notes  \\\n",
       "0  522a68932d261e3d9c07db8f93073d05.txt  Benign   NaN   \n",
       "1  1554f75ecbb52e6ade28b3158e47e4a5.txt  Benign   NaN   \n",
       "2  df2c9febb31db2795e65a057507e3c9a.txt  Benign   NaN   \n",
       "3  0d41aa9f8d070227f0ee83f73b4480c1.txt  Benign   NaN   \n",
       "4  df610ecbbffe4c0fad802718425ee7b3.txt  Benign   NaN   \n",
       "\n",
       "                                                text  \n",
       "0  Final Diagnosis\\n\\nBREAST, LEFT, BIOPSY;\\n -\\t...  \n",
       "1  Source of Specimen\\nA\\tBRST BX EXC MRG\\tLEFT B...  \n",
       "2  Source of Specimen\\nA\\tRIGHT BREAST 9 GAUGE\\n\\...  \n",
       "3  Source of Specimen\\nA\\tLT BREAST BX  9 GAUGE\\n...  \n",
       "4  Source of Specimen\\nA\\t9 GAUGE RT BREAST STERE...  "
      ]
     },
     "execution_count": 16,
     "metadata": {},
     "output_type": "execute_result"
    }
   ],
   "source": [
    "data.head()"
   ]
  },
  {
   "cell_type": "code",
   "execution_count": 38,
   "metadata": {},
   "outputs": [
    {
     "data": {
      "text/plain": [
       "451"
      ]
     },
     "execution_count": 38,
     "metadata": {},
     "output_type": "execute_result"
    }
   ],
   "source": [
    "data.duplicated('File Name ').sum()"
   ]
  },
  {
   "cell_type": "code",
   "execution_count": 44,
   "metadata": {},
   "outputs": [
    {
     "data": {
      "text/plain": [
       "6310296a6e942e107bbd0da5bf082dbe.txt    8\n",
       "e001bc7376389d312b44c0776d7bc21c.txt    5\n",
       "e15afda0f6a3ee205f908ff6816d4469.txt    5\n",
       "2595d31ad5efe0a2ad65df21683883b2.txt    4\n",
       "1f4d1c8291b76e6c4a6b7aed722ae660.txt    4\n",
       "                                       ..\n",
       "d7a266d456c65d16b1aa4939f7cd557e.txt    1\n",
       "6e0c4103483cb11cdf1ba8a0be583080.txt    1\n",
       "56f8b9d4e52e0b168320daa2e478fb86.txt    1\n",
       "ff1387130a61f15b93874c7f30d0f0c2.txt    1\n",
       "410c88d69d2126e3d2de06033675e25f.txt    1\n",
       "Name: File Name , Length: 2207, dtype: int64"
      ]
     },
     "execution_count": 44,
     "metadata": {},
     "output_type": "execute_result"
    }
   ],
   "source": [
    "data['File Name '].value_counts()"
   ]
  },
  {
   "cell_type": "code",
   "execution_count": 45,
   "metadata": {},
   "outputs": [
    {
     "data": {
      "text/html": [
       "<div>\n",
       "<style scoped>\n",
       "    .dataframe tbody tr th:only-of-type {\n",
       "        vertical-align: middle;\n",
       "    }\n",
       "\n",
       "    .dataframe tbody tr th {\n",
       "        vertical-align: top;\n",
       "    }\n",
       "\n",
       "    .dataframe thead th {\n",
       "        text-align: right;\n",
       "    }\n",
       "</style>\n",
       "<table border=\"1\" class=\"dataframe\">\n",
       "  <thead>\n",
       "    <tr style=\"text-align: right;\">\n",
       "      <th></th>\n",
       "      <th>File Name</th>\n",
       "      <th>Path</th>\n",
       "      <th>Notes</th>\n",
       "      <th>text</th>\n",
       "    </tr>\n",
       "  </thead>\n",
       "  <tbody>\n",
       "    <tr>\n",
       "      <th>1405</th>\n",
       "      <td>6310296a6e942e107bbd0da5bf082dbe.txt</td>\n",
       "      <td>Malignant</td>\n",
       "      <td>NaN</td>\n",
       "      <td>Final Diagnosis\\nRight breast (7 o'clock), cor...</td>\n",
       "    </tr>\n",
       "    <tr>\n",
       "      <th>1406</th>\n",
       "      <td>6310296a6e942e107bbd0da5bf082dbe.txt</td>\n",
       "      <td>Malignant</td>\n",
       "      <td>NaN</td>\n",
       "      <td>Final Diagnosis\\nRight breast (7 o'clock), cor...</td>\n",
       "    </tr>\n",
       "    <tr>\n",
       "      <th>1408</th>\n",
       "      <td>6310296a6e942e107bbd0da5bf082dbe.txt</td>\n",
       "      <td>Malignant</td>\n",
       "      <td>NaN</td>\n",
       "      <td>Final Diagnosis\\nRight breast (7 o'clock), cor...</td>\n",
       "    </tr>\n",
       "    <tr>\n",
       "      <th>1409</th>\n",
       "      <td>6310296a6e942e107bbd0da5bf082dbe.txt</td>\n",
       "      <td>Malignant</td>\n",
       "      <td>NaN</td>\n",
       "      <td>Final Diagnosis\\nRight breast (7 o'clock), cor...</td>\n",
       "    </tr>\n",
       "    <tr>\n",
       "      <th>1411</th>\n",
       "      <td>6310296a6e942e107bbd0da5bf082dbe.txt</td>\n",
       "      <td>Malignant</td>\n",
       "      <td>NaN</td>\n",
       "      <td>Final Diagnosis\\nRight breast (7 o'clock), cor...</td>\n",
       "    </tr>\n",
       "    <tr>\n",
       "      <th>1412</th>\n",
       "      <td>6310296a6e942e107bbd0da5bf082dbe.txt</td>\n",
       "      <td>Malignant</td>\n",
       "      <td>NaN</td>\n",
       "      <td>Final Diagnosis\\nRight breast (7 o'clock), cor...</td>\n",
       "    </tr>\n",
       "    <tr>\n",
       "      <th>1422</th>\n",
       "      <td>6310296a6e942e107bbd0da5bf082dbe.txt</td>\n",
       "      <td>Benign</td>\n",
       "      <td>NaN</td>\n",
       "      <td>Final Diagnosis\\nRight breast (7 o'clock), cor...</td>\n",
       "    </tr>\n",
       "    <tr>\n",
       "      <th>1423</th>\n",
       "      <td>6310296a6e942e107bbd0da5bf082dbe.txt</td>\n",
       "      <td>Benign</td>\n",
       "      <td>NaN</td>\n",
       "      <td>Final Diagnosis\\nRight breast (7 o'clock), cor...</td>\n",
       "    </tr>\n",
       "  </tbody>\n",
       "</table>\n",
       "</div>"
      ],
      "text/plain": [
       "                                File Name        Path Notes  \\\n",
       "1405  6310296a6e942e107bbd0da5bf082dbe.txt  Malignant   NaN   \n",
       "1406  6310296a6e942e107bbd0da5bf082dbe.txt  Malignant   NaN   \n",
       "1408  6310296a6e942e107bbd0da5bf082dbe.txt  Malignant   NaN   \n",
       "1409  6310296a6e942e107bbd0da5bf082dbe.txt  Malignant   NaN   \n",
       "1411  6310296a6e942e107bbd0da5bf082dbe.txt  Malignant   NaN   \n",
       "1412  6310296a6e942e107bbd0da5bf082dbe.txt  Malignant   NaN   \n",
       "1422  6310296a6e942e107bbd0da5bf082dbe.txt     Benign   NaN   \n",
       "1423  6310296a6e942e107bbd0da5bf082dbe.txt     Benign   NaN   \n",
       "\n",
       "                                                   text  \n",
       "1405  Final Diagnosis\\nRight breast (7 o'clock), cor...  \n",
       "1406  Final Diagnosis\\nRight breast (7 o'clock), cor...  \n",
       "1408  Final Diagnosis\\nRight breast (7 o'clock), cor...  \n",
       "1409  Final Diagnosis\\nRight breast (7 o'clock), cor...  \n",
       "1411  Final Diagnosis\\nRight breast (7 o'clock), cor...  \n",
       "1412  Final Diagnosis\\nRight breast (7 o'clock), cor...  \n",
       "1422  Final Diagnosis\\nRight breast (7 o'clock), cor...  \n",
       "1423  Final Diagnosis\\nRight breast (7 o'clock), cor...  "
      ]
     },
     "execution_count": 45,
     "metadata": {},
     "output_type": "execute_result"
    }
   ],
   "source": [
    "data[data['File Name ']=='6310296a6e942e107bbd0da5bf082dbe.txt']"
   ]
  },
  {
   "cell_type": "code",
   "execution_count": 17,
   "metadata": {},
   "outputs": [],
   "source": [
    "data.drop_duplicates('File Name ',inplace=True)"
   ]
  },
  {
   "cell_type": "code",
   "execution_count": 48,
   "metadata": {},
   "outputs": [
    {
     "data": {
      "text/plain": [
       "0"
      ]
     },
     "execution_count": 48,
     "metadata": {},
     "output_type": "execute_result"
    }
   ],
   "source": [
    "data.duplicated().sum()"
   ]
  },
  {
   "cell_type": "markdown",
   "metadata": {},
   "source": [
    "# Preparing Pathology data"
   ]
  },
  {
   "cell_type": "code",
   "execution_count": 18,
   "metadata": {},
   "outputs": [],
   "source": [
    "df3=pd.DataFrame(data['text'])"
   ]
  },
  {
   "cell_type": "code",
   "execution_count": 19,
   "metadata": {},
   "outputs": [
    {
     "data": {
      "text/html": [
       "<div>\n",
       "<style scoped>\n",
       "    .dataframe tbody tr th:only-of-type {\n",
       "        vertical-align: middle;\n",
       "    }\n",
       "\n",
       "    .dataframe tbody tr th {\n",
       "        vertical-align: top;\n",
       "    }\n",
       "\n",
       "    .dataframe thead th {\n",
       "        text-align: right;\n",
       "    }\n",
       "</style>\n",
       "<table border=\"1\" class=\"dataframe\">\n",
       "  <thead>\n",
       "    <tr style=\"text-align: right;\">\n",
       "      <th></th>\n",
       "      <th>text</th>\n",
       "    </tr>\n",
       "  </thead>\n",
       "  <tbody>\n",
       "    <tr>\n",
       "      <th>0</th>\n",
       "      <td>Final Diagnosis\\n\\nBREAST, LEFT, BIOPSY;\\n -\\t...</td>\n",
       "    </tr>\n",
       "    <tr>\n",
       "      <th>1</th>\n",
       "      <td>Source of Specimen\\nA\\tBRST BX EXC MRG\\tLEFT B...</td>\n",
       "    </tr>\n",
       "    <tr>\n",
       "      <th>2</th>\n",
       "      <td>Source of Specimen\\nA\\tRIGHT BREAST 9 GAUGE\\n\\...</td>\n",
       "    </tr>\n",
       "    <tr>\n",
       "      <th>3</th>\n",
       "      <td>Source of Specimen\\nA\\tLT BREAST BX  9 GAUGE\\n...</td>\n",
       "    </tr>\n",
       "    <tr>\n",
       "      <th>4</th>\n",
       "      <td>Source of Specimen\\nA\\t9 GAUGE RT BREAST STERE...</td>\n",
       "    </tr>\n",
       "  </tbody>\n",
       "</table>\n",
       "</div>"
      ],
      "text/plain": [
       "                                                text\n",
       "0  Final Diagnosis\\n\\nBREAST, LEFT, BIOPSY;\\n -\\t...\n",
       "1  Source of Specimen\\nA\\tBRST BX EXC MRG\\tLEFT B...\n",
       "2  Source of Specimen\\nA\\tRIGHT BREAST 9 GAUGE\\n\\...\n",
       "3  Source of Specimen\\nA\\tLT BREAST BX  9 GAUGE\\n...\n",
       "4  Source of Specimen\\nA\\t9 GAUGE RT BREAST STERE..."
      ]
     },
     "execution_count": 19,
     "metadata": {},
     "output_type": "execute_result"
    }
   ],
   "source": [
    "df3.head()"
   ]
  },
  {
   "cell_type": "markdown",
   "metadata": {},
   "source": [
    "# Language Model"
   ]
  },
  {
   "cell_type": "code",
   "execution_count": 21,
   "metadata": {},
   "outputs": [],
   "source": [
    "bs = 64  \n",
    "mypath=Path('/data2/itahir/MedstarProject')\n",
    "data_lm = (TextList.from_df(df3, path, cols='text')\n",
    "                .split_by_rand_pct(0.1)\n",
    "                .label_for_lm()\n",
    "                .databunch(bs=bs))"
   ]
  },
  {
   "cell_type": "code",
   "execution_count": 22,
   "metadata": {},
   "outputs": [],
   "source": [
    "data_lm.save('/data2/itahir/MedstarProject/p_data_lm2.pkl')"
   ]
  },
  {
   "cell_type": "code",
   "execution_count": 14,
   "metadata": {},
   "outputs": [],
   "source": [
    "bs = 64  \n",
    "mypath=Path('/data2/itahir/MedstarProject')"
   ]
  },
  {
   "cell_type": "code",
   "execution_count": 105,
   "metadata": {},
   "outputs": [],
   "source": [
    "data_lm = load_data(mypath, 'p_data_lm2.pkl', bs=bs)"
   ]
  },
  {
   "cell_type": "code",
   "execution_count": 25,
   "metadata": {},
   "outputs": [
    {
     "data": {
      "text/html": [
       "<table border=\"1\" class=\"dataframe\">\n",
       "  <thead>\n",
       "    <tr style=\"text-align: right;\">\n",
       "      <th>idx</th>\n",
       "      <th>text</th>\n",
       "    </tr>\n",
       "  </thead>\n",
       "  <tbody>\n",
       "    <tr>\n",
       "      <td>0</td>\n",
       "      <td>clinical xxmaj information \\n  xxup age female presents with right breast fibroadenoma , small nodule at 1 o’clock , left breast . xxmaj procedure : xxmaj left breast xxup us - guided biopsy , 14-gauge . \\n  xxmaj gross xxmaj description \\n  xxmaj the specimen is submitted in one part . \\n \\n  xxmaj specimen a is received in a single container with formalin and is</td>\n",
       "    </tr>\n",
       "    <tr>\n",
       "      <td>1</td>\n",
       "      <td>xxup lastname \\n \\n  xxmaj this report may contain tests developed by the xxmaj molecular xxmaj diagnostic xxmaj laboratory at xxmaj georgetown xxmaj university xxmaj hospital . xxmaj these tests have not been approved by the xxup u.s. xxmaj food and xxmaj drug xxmaj administration . xxmaj the xxup fda has determined that such approval is not necessary . xxmaj these tests are used for clinical purposes . xxmaj</td>\n",
       "    </tr>\n",
       "    <tr>\n",
       "      <td>2</td>\n",
       "      <td>right breast mass , 1 ( 0 ) \\n \\n  xxmaj resident xxmaj pathologist : xxup firstname xxup lastname \\n  xxmaj resident xxmaj pathologist : xxup firstname xxup lastname \\n \\n  xxmaj this report may contain tests developed by the xxmaj molecular xxmaj diagnostic xxmaj laboratory at xxmaj georgetown xxmaj university xxmaj hospital . xxmaj these tests have not been approved by the xxup u.s. xxmaj food</td>\n",
       "    </tr>\n",
       "    <tr>\n",
       "      <td>3</td>\n",
       "      <td>tumor # 1 , xxup fsc ( 0 ) \\n  b : \\t xxmaj brain tumor # 2 , 1 ( 0 ) \\n  c : \\t xxmaj brain tumor # 3 , xxup fsc ( 0 ) \\n  d : \\t xxmaj brain tumor # 4 , 1 ( 0 ) \\n  e : \\t xxmaj brain tumor # 5 , 1 ( 0 )</td>\n",
       "    </tr>\n",
       "    <tr>\n",
       "      <td>4</td>\n",
       "      <td>, xxup left , xxup needle xxup core xxup biopsy : \\n  - \\t xxup poorly xxup differentiated xxup infiltrating xxup ductal xxup carcinoma xxup corresponding xxup to xxup elston xxup 's xxup score xxup of 8 ( xxup tubule xxup formation = 3 , xxup nuclear xxup pleomorphism = 3 , xxup mitotic xxup index = 2 ) . \\n \\n  - \\t xxup no xxup evidence</td>\n",
       "    </tr>\n",
       "  </tbody>\n",
       "</table>"
      ],
      "text/plain": [
       "<IPython.core.display.HTML object>"
      ]
     },
     "metadata": {},
     "output_type": "display_data"
    }
   ],
   "source": [
    "data_lm.show_batch()"
   ]
  },
  {
   "cell_type": "code",
   "execution_count": 27,
   "metadata": {},
   "outputs": [],
   "source": [
    "learn = language_model_learner(data_lm, AWD_LSTM, drop_mult=0.3)"
   ]
  },
  {
   "cell_type": "code",
   "execution_count": 28,
   "metadata": {},
   "outputs": [
    {
     "data": {
      "text/html": [],
      "text/plain": [
       "<IPython.core.display.HTML object>"
      ]
     },
     "metadata": {},
     "output_type": "display_data"
    },
    {
     "name": "stdout",
     "output_type": "stream",
     "text": [
      "LR Finder is complete, type {learner_name}.recorder.plot() to see the graph.\n"
     ]
    }
   ],
   "source": [
    "learn.lr_find()"
   ]
  },
  {
   "cell_type": "code",
   "execution_count": 29,
   "metadata": {},
   "outputs": [
    {
     "data": {
      "image/png": "[encoded data removed]",
      "text/plain": [
       "<Figure size 432x288 with 1 Axes>"
      ]
     },
     "metadata": {
      "needs_background": "light"
     },
     "output_type": "display_data"
    }
   ],
   "source": [
    "learn.recorder.plot(skip_end=15)"
   ]
  },
  {
   "cell_type": "code",
   "execution_count": 30,
   "metadata": {},
   "outputs": [
    {
     "data": {
      "text/html": [
       "<table border=\"1\" class=\"dataframe\">\n",
       "  <thead>\n",
       "    <tr style=\"text-align: left;\">\n",
       "      <th>epoch</th>\n",
       "      <th>train_loss</th>\n",
       "      <th>valid_loss</th>\n",
       "      <th>accuracy</th>\n",
       "      <th>time</th>\n",
       "    </tr>\n",
       "  </thead>\n",
       "  <tbody>\n",
       "    <tr>\n",
       "      <td>0</td>\n",
       "      <td>0.829349</td>\n",
       "      <td>0.779220</td>\n",
       "      <td>0.824784</td>\n",
       "      <td>00:14</td>\n",
       "    </tr>\n",
       "  </tbody>\n",
       "</table>"
      ],
      "text/plain": [
       "<IPython.core.display.HTML object>"
      ]
     },
     "metadata": {},
     "output_type": "display_data"
    }
   ],
   "source": [
    "learn.fit_one_cycle(1, 1e-2, moms=(0.8,0.7))  "
   ]
  },
  {
   "cell_type": "code",
   "execution_count": 31,
   "metadata": {},
   "outputs": [],
   "source": [
    "learn.save('p_fit2_head')"
   ]
  },
  {
   "cell_type": "code",
   "execution_count": 32,
   "metadata": {},
   "outputs": [],
   "source": [
    "learn.load('p_fit2_head');"
   ]
  },
  {
   "cell_type": "code",
   "execution_count": 33,
   "metadata": {},
   "outputs": [],
   "source": [
    "learn.unfreeze()"
   ]
  },
  {
   "cell_type": "code",
   "execution_count": 34,
   "metadata": {},
   "outputs": [
    {
     "data": {
      "text/html": [],
      "text/plain": [
       "<IPython.core.display.HTML object>"
      ]
     },
     "metadata": {},
     "output_type": "display_data"
    },
    {
     "name": "stdout",
     "output_type": "stream",
     "text": [
      "LR Finder is complete, type {learner_name}.recorder.plot() to see the graph.\n",
      "Min numerical gradient: 1.91E-06\n",
      "Min loss divided by 10: 9.12E-04\n"
     ]
    },
    {
     "data": {
      "image/png": "[encoded data removed]",
      "text/plain": [
       "<Figure size 432x288 with 1 Axes>"
      ]
     },
     "metadata": {
      "needs_background": "light"
     },
     "output_type": "display_data"
    }
   ],
   "source": [
    "learn.lr_find()\n",
    "learn.recorder.plot(suggestion=True)"
   ]
  },
  {
   "cell_type": "code",
   "execution_count": 35,
   "metadata": {
    "scrolled": false
   },
   "outputs": [
    {
     "data": {
      "text/html": [
       "<table border=\"1\" class=\"dataframe\">\n",
       "  <thead>\n",
       "    <tr style=\"text-align: left;\">\n",
       "      <th>epoch</th>\n",
       "      <th>train_loss</th>\n",
       "      <th>valid_loss</th>\n",
       "      <th>accuracy</th>\n",
       "      <th>time</th>\n",
       "    </tr>\n",
       "  </thead>\n",
       "  <tbody>\n",
       "    <tr>\n",
       "      <td>0</td>\n",
       "      <td>0.687354</td>\n",
       "      <td>0.672238</td>\n",
       "      <td>0.840464</td>\n",
       "      <td>00:19</td>\n",
       "    </tr>\n",
       "    <tr>\n",
       "      <td>1</td>\n",
       "      <td>0.540035</td>\n",
       "      <td>0.582882</td>\n",
       "      <td>0.859759</td>\n",
       "      <td>00:19</td>\n",
       "    </tr>\n",
       "    <tr>\n",
       "      <td>2</td>\n",
       "      <td>0.502658</td>\n",
       "      <td>0.544438</td>\n",
       "      <td>0.867648</td>\n",
       "      <td>00:19</td>\n",
       "    </tr>\n",
       "    <tr>\n",
       "      <td>3</td>\n",
       "      <td>0.436378</td>\n",
       "      <td>0.534855</td>\n",
       "      <td>0.870613</td>\n",
       "      <td>00:19</td>\n",
       "    </tr>\n",
       "  </tbody>\n",
       "</table>"
      ],
      "text/plain": [
       "<IPython.core.display.HTML object>"
      ]
     },
     "metadata": {},
     "output_type": "display_data"
    }
   ],
   "source": [
    "learn.fit_one_cycle(4, slice(1e-6,1e-2), moms=(0.8,0.7))"
   ]
  },
  {
   "cell_type": "code",
   "execution_count": 36,
   "metadata": {},
   "outputs": [],
   "source": [
    "learn.save('p_fine_2tuned')"
   ]
  },
  {
   "cell_type": "code",
   "execution_count": 37,
   "metadata": {},
   "outputs": [],
   "source": [
    "learn.load('p_fine_2tuned');"
   ]
  },
  {
   "cell_type": "code",
   "execution_count": 38,
   "metadata": {},
   "outputs": [],
   "source": [
    "learn.unfreeze()"
   ]
  },
  {
   "cell_type": "code",
   "execution_count": 39,
   "metadata": {},
   "outputs": [
    {
     "data": {
      "text/html": [],
      "text/plain": [
       "<IPython.core.display.HTML object>"
      ]
     },
     "metadata": {},
     "output_type": "display_data"
    },
    {
     "name": "stdout",
     "output_type": "stream",
     "text": [
      "LR Finder is complete, type {learner_name}.recorder.plot() to see the graph.\n"
     ]
    },
    {
     "data": {
      "image/png": "[encoded data removed]",
      "text/plain": [
       "<Figure size 432x288 with 1 Axes>"
      ]
     },
     "metadata": {
      "needs_background": "light"
     },
     "output_type": "display_data"
    }
   ],
   "source": [
    "learn.lr_find()\n",
    "learn.recorder.plot(skip_end=15)"
   ]
  },
  {
   "cell_type": "code",
   "execution_count": 40,
   "metadata": {},
   "outputs": [
    {
     "data": {
      "text/html": [
       "<table border=\"1\" class=\"dataframe\">\n",
       "  <thead>\n",
       "    <tr style=\"text-align: left;\">\n",
       "      <th>epoch</th>\n",
       "      <th>train_loss</th>\n",
       "      <th>valid_loss</th>\n",
       "      <th>accuracy</th>\n",
       "      <th>time</th>\n",
       "    </tr>\n",
       "  </thead>\n",
       "  <tbody>\n",
       "    <tr>\n",
       "      <td>0</td>\n",
       "      <td>0.447037</td>\n",
       "      <td>0.533907</td>\n",
       "      <td>0.871024</td>\n",
       "      <td>00:19</td>\n",
       "    </tr>\n",
       "    <tr>\n",
       "      <td>1</td>\n",
       "      <td>0.444074</td>\n",
       "      <td>0.532169</td>\n",
       "      <td>0.871512</td>\n",
       "      <td>00:19</td>\n",
       "    </tr>\n",
       "    <tr>\n",
       "      <td>2</td>\n",
       "      <td>0.439750</td>\n",
       "      <td>0.529957</td>\n",
       "      <td>0.872126</td>\n",
       "      <td>00:19</td>\n",
       "    </tr>\n",
       "    <tr>\n",
       "      <td>3</td>\n",
       "      <td>0.442537</td>\n",
       "      <td>0.530885</td>\n",
       "      <td>0.872049</td>\n",
       "      <td>00:19</td>\n",
       "    </tr>\n",
       "  </tbody>\n",
       "</table>"
      ],
      "text/plain": [
       "<IPython.core.display.HTML object>"
      ]
     },
     "metadata": {},
     "output_type": "display_data"
    }
   ],
   "source": [
    "learn.fit_one_cycle(4, 1e-5, moms=(0.8,0.7))"
   ]
  },
  {
   "cell_type": "code",
   "execution_count": 41,
   "metadata": {},
   "outputs": [],
   "source": [
    "learn.save('p_fine_2tuned_10')"
   ]
  },
  {
   "cell_type": "code",
   "execution_count": 63,
   "metadata": {},
   "outputs": [],
   "source": [
    "learn.load('p_fine_2tuned_10');"
   ]
  },
  {
   "cell_type": "code",
   "execution_count": 64,
   "metadata": {},
   "outputs": [],
   "source": [
    "learn.save_encoder('p_fine_tuned_enc_6')"
   ]
  },
  {
   "cell_type": "markdown",
   "metadata": {},
   "source": [
    "# Data Split"
   ]
  },
  {
   "cell_type": "code",
   "execution_count": 10,
   "metadata": {},
   "outputs": [],
   "source": [
    "from sklearn.model_selection import StratifiedShuffleSplit"
   ]
  },
  {
   "cell_type": "code",
   "execution_count": 11,
   "metadata": {},
   "outputs": [],
   "source": [
    "split=StratifiedShuffleSplit(n_splits=1,test_size=0.2,random_state=42)"
   ]
  },
  {
   "cell_type": "code",
   "execution_count": 53,
   "metadata": {},
   "outputs": [],
   "source": [
    "data.to_csv('p_data')"
   ]
  },
  {
   "cell_type": "code",
   "execution_count": 4,
   "metadata": {},
   "outputs": [],
   "source": [
    "data=pd.read_csv('p_data')"
   ]
  },
  {
   "cell_type": "code",
   "execution_count": 5,
   "metadata": {},
   "outputs": [
    {
     "data": {
      "text/html": [
       "<div>\n",
       "<style scoped>\n",
       "    .dataframe tbody tr th:only-of-type {\n",
       "        vertical-align: middle;\n",
       "    }\n",
       "\n",
       "    .dataframe tbody tr th {\n",
       "        vertical-align: top;\n",
       "    }\n",
       "\n",
       "    .dataframe thead th {\n",
       "        text-align: right;\n",
       "    }\n",
       "</style>\n",
       "<table border=\"1\" class=\"dataframe\">\n",
       "  <thead>\n",
       "    <tr style=\"text-align: right;\">\n",
       "      <th></th>\n",
       "      <th>Unnamed: 0</th>\n",
       "      <th>File Name</th>\n",
       "      <th>Path</th>\n",
       "      <th>Notes</th>\n",
       "      <th>text</th>\n",
       "    </tr>\n",
       "  </thead>\n",
       "  <tbody>\n",
       "    <tr>\n",
       "      <th>0</th>\n",
       "      <td>0</td>\n",
       "      <td>522a68932d261e3d9c07db8f93073d05.txt</td>\n",
       "      <td>Benign</td>\n",
       "      <td>NaN</td>\n",
       "      <td>Final Diagnosis\\n\\nBREAST, LEFT, BIOPSY;\\n -\\t...</td>\n",
       "    </tr>\n",
       "    <tr>\n",
       "      <th>1</th>\n",
       "      <td>1</td>\n",
       "      <td>1554f75ecbb52e6ade28b3158e47e4a5.txt</td>\n",
       "      <td>Benign</td>\n",
       "      <td>NaN</td>\n",
       "      <td>Source of Specimen\\nA\\tBRST BX EXC MRG\\tLEFT B...</td>\n",
       "    </tr>\n",
       "    <tr>\n",
       "      <th>2</th>\n",
       "      <td>2</td>\n",
       "      <td>df2c9febb31db2795e65a057507e3c9a.txt</td>\n",
       "      <td>Benign</td>\n",
       "      <td>NaN</td>\n",
       "      <td>Source of Specimen\\nA\\tRIGHT BREAST 9 GAUGE\\n\\...</td>\n",
       "    </tr>\n",
       "    <tr>\n",
       "      <th>3</th>\n",
       "      <td>3</td>\n",
       "      <td>0d41aa9f8d070227f0ee83f73b4480c1.txt</td>\n",
       "      <td>Benign</td>\n",
       "      <td>NaN</td>\n",
       "      <td>Source of Specimen\\nA\\tLT BREAST BX  9 GAUGE\\n...</td>\n",
       "    </tr>\n",
       "    <tr>\n",
       "      <th>4</th>\n",
       "      <td>4</td>\n",
       "      <td>df610ecbbffe4c0fad802718425ee7b3.txt</td>\n",
       "      <td>Benign</td>\n",
       "      <td>NaN</td>\n",
       "      <td>Source of Specimen\\nA\\t9 GAUGE RT BREAST STERE...</td>\n",
       "    </tr>\n",
       "  </tbody>\n",
       "</table>\n",
       "</div>"
      ],
      "text/plain": [
       "   Unnamed: 0                            File Name     Path Notes  \\\n",
       "0           0  522a68932d261e3d9c07db8f93073d05.txt  Benign   NaN   \n",
       "1           1  1554f75ecbb52e6ade28b3158e47e4a5.txt  Benign   NaN   \n",
       "2           2  df2c9febb31db2795e65a057507e3c9a.txt  Benign   NaN   \n",
       "3           3  0d41aa9f8d070227f0ee83f73b4480c1.txt  Benign   NaN   \n",
       "4           4  df610ecbbffe4c0fad802718425ee7b3.txt  Benign   NaN   \n",
       "\n",
       "                                                text  \n",
       "0  Final Diagnosis\\n\\nBREAST, LEFT, BIOPSY;\\n -\\t...  \n",
       "1  Source of Specimen\\nA\\tBRST BX EXC MRG\\tLEFT B...  \n",
       "2  Source of Specimen\\nA\\tRIGHT BREAST 9 GAUGE\\n\\...  \n",
       "3  Source of Specimen\\nA\\tLT BREAST BX  9 GAUGE\\n...  \n",
       "4  Source of Specimen\\nA\\t9 GAUGE RT BREAST STERE...  "
      ]
     },
     "execution_count": 5,
     "metadata": {},
     "output_type": "execute_result"
    }
   ],
   "source": [
    "data.head()"
   ]
  },
  {
   "cell_type": "code",
   "execution_count": 6,
   "metadata": {},
   "outputs": [],
   "source": [
    "data.drop('Unnamed: 0', axis=1,inplace=True)"
   ]
  },
  {
   "cell_type": "code",
   "execution_count": 7,
   "metadata": {},
   "outputs": [
    {
     "data": {
      "text/plain": [
       "Index(['File Name ', 'Path', 'Notes', 'text'], dtype='object')"
      ]
     },
     "execution_count": 7,
     "metadata": {},
     "output_type": "execute_result"
    }
   ],
   "source": [
    "data.columns"
   ]
  },
  {
   "cell_type": "code",
   "execution_count": 8,
   "metadata": {},
   "outputs": [
    {
     "data": {
      "text/html": [
       "<div>\n",
       "<style scoped>\n",
       "    .dataframe tbody tr th:only-of-type {\n",
       "        vertical-align: middle;\n",
       "    }\n",
       "\n",
       "    .dataframe tbody tr th {\n",
       "        vertical-align: top;\n",
       "    }\n",
       "\n",
       "    .dataframe thead th {\n",
       "        text-align: right;\n",
       "    }\n",
       "</style>\n",
       "<table border=\"1\" class=\"dataframe\">\n",
       "  <thead>\n",
       "    <tr style=\"text-align: right;\">\n",
       "      <th></th>\n",
       "      <th>File Name</th>\n",
       "      <th>Path</th>\n",
       "      <th>Notes</th>\n",
       "      <th>text</th>\n",
       "    </tr>\n",
       "  </thead>\n",
       "  <tbody>\n",
       "    <tr>\n",
       "      <th>0</th>\n",
       "      <td>522a68932d261e3d9c07db8f93073d05.txt</td>\n",
       "      <td>Benign</td>\n",
       "      <td>NaN</td>\n",
       "      <td>Final Diagnosis\\n\\nBREAST, LEFT, BIOPSY;\\n -\\t...</td>\n",
       "    </tr>\n",
       "    <tr>\n",
       "      <th>1</th>\n",
       "      <td>1554f75ecbb52e6ade28b3158e47e4a5.txt</td>\n",
       "      <td>Benign</td>\n",
       "      <td>NaN</td>\n",
       "      <td>Source of Specimen\\nA\\tBRST BX EXC MRG\\tLEFT B...</td>\n",
       "    </tr>\n",
       "    <tr>\n",
       "      <th>2</th>\n",
       "      <td>df2c9febb31db2795e65a057507e3c9a.txt</td>\n",
       "      <td>Benign</td>\n",
       "      <td>NaN</td>\n",
       "      <td>Source of Specimen\\nA\\tRIGHT BREAST 9 GAUGE\\n\\...</td>\n",
       "    </tr>\n",
       "    <tr>\n",
       "      <th>3</th>\n",
       "      <td>0d41aa9f8d070227f0ee83f73b4480c1.txt</td>\n",
       "      <td>Benign</td>\n",
       "      <td>NaN</td>\n",
       "      <td>Source of Specimen\\nA\\tLT BREAST BX  9 GAUGE\\n...</td>\n",
       "    </tr>\n",
       "    <tr>\n",
       "      <th>4</th>\n",
       "      <td>df610ecbbffe4c0fad802718425ee7b3.txt</td>\n",
       "      <td>Benign</td>\n",
       "      <td>NaN</td>\n",
       "      <td>Source of Specimen\\nA\\t9 GAUGE RT BREAST STERE...</td>\n",
       "    </tr>\n",
       "  </tbody>\n",
       "</table>\n",
       "</div>"
      ],
      "text/plain": [
       "                             File Name     Path Notes  \\\n",
       "0  522a68932d261e3d9c07db8f93073d05.txt  Benign   NaN   \n",
       "1  1554f75ecbb52e6ade28b3158e47e4a5.txt  Benign   NaN   \n",
       "2  df2c9febb31db2795e65a057507e3c9a.txt  Benign   NaN   \n",
       "3  0d41aa9f8d070227f0ee83f73b4480c1.txt  Benign   NaN   \n",
       "4  df610ecbbffe4c0fad802718425ee7b3.txt  Benign   NaN   \n",
       "\n",
       "                                                text  \n",
       "0  Final Diagnosis\\n\\nBREAST, LEFT, BIOPSY;\\n -\\t...  \n",
       "1  Source of Specimen\\nA\\tBRST BX EXC MRG\\tLEFT B...  \n",
       "2  Source of Specimen\\nA\\tRIGHT BREAST 9 GAUGE\\n\\...  \n",
       "3  Source of Specimen\\nA\\tLT BREAST BX  9 GAUGE\\n...  \n",
       "4  Source of Specimen\\nA\\t9 GAUGE RT BREAST STERE...  "
      ]
     },
     "execution_count": 8,
     "metadata": {},
     "output_type": "execute_result"
    }
   ],
   "source": [
    "data.head()"
   ]
  },
  {
   "cell_type": "code",
   "execution_count": 61,
   "metadata": {},
   "outputs": [
    {
     "data": {
      "text/plain": [
       "Benign       1624\n",
       "Malignant     583\n",
       "Name: Path, dtype: int64"
      ]
     },
     "execution_count": 61,
     "metadata": {},
     "output_type": "execute_result"
    }
   ],
   "source": [
    "data['Path'].value_counts()"
   ]
  },
  {
   "cell_type": "code",
   "execution_count": 151,
   "metadata": {},
   "outputs": [],
   "source": [
    "for train_index, test_index in split.split(data,data['Path']):\n",
    "    train=data.loc[train_index]\n",
    "    test=data.loc[test_index]"
   ]
  },
  {
   "cell_type": "markdown",
   "metadata": {},
   "source": [
    "# Classifier"
   ]
  },
  {
   "cell_type": "code",
   "execution_count": 106,
   "metadata": {},
   "outputs": [],
   "source": [
    "data_clas = TextDataBunch.from_df(path=mypath, train_df=train, valid_df=test, text_cols=['text'], label_cols='Path', \n",
    "                                  vocab=data_lm.vocab)"
   ]
  },
  {
   "cell_type": "code",
   "execution_count": 107,
   "metadata": {},
   "outputs": [],
   "source": [
    "data_clas.save('p_data_clas1.pkl')"
   ]
  },
  {
   "cell_type": "code",
   "execution_count": 108,
   "metadata": {},
   "outputs": [],
   "source": [
    "data_clas = load_data(mypath, 'p_data_clas1.pkl', bs=bs)"
   ]
  },
  {
   "cell_type": "code",
   "execution_count": 68,
   "metadata": {},
   "outputs": [
    {
     "data": {
      "text/html": [
       "<table border=\"1\" class=\"dataframe\">\n",
       "  <thead>\n",
       "    <tr style=\"text-align: right;\">\n",
       "      <th>text</th>\n",
       "      <th>target</th>\n",
       "    </tr>\n",
       "  </thead>\n",
       "  <tbody>\n",
       "    <tr>\n",
       "      <td>xxbos xxmaj addendum \\n  xxmaj molecular xxmaj diagnostics xxmaj laboratory xxmaj report \\n  xxup her-2 xxmaj gene xxmaj amplification by xxmaj fluorescent xxmaj in - xxmaj situ xxmaj hybridization ( xxup fish ) \\n \\n  xxmaj tissue / block : \\t xxup a7 \\n \\n  xxmaj number of invasive tumor cells counted : \\t 40 xxmaj cells \\n \\n  xxup her-2 / xxup cen 17</td>\n",
       "      <td>Malignant</td>\n",
       "    </tr>\n",
       "    <tr>\n",
       "      <td>xxbos xxmaj addendum \\n  xxmaj oncotype - xxup dx xxmaj breast xxmaj cancer xxmaj assay was performed at xxmaj genomic xxmaj health . a report has been received and summarized as follows : \\n \\n  [ xxmaj for xxmaj specimen \" xxup xxunk \" representing right breast cancer ] \\n  xxmaj breast cancer recurrence score = 16 . \\n  xxup er xxmaj score = 7.2 (</td>\n",
       "      <td>Malignant</td>\n",
       "    </tr>\n",
       "    <tr>\n",
       "      <td>xxbos xxmaj addendum \\n  xxmaj oncotype - xxup dx xxmaj breast xxmaj cancer xxmaj assay was performed by xxmaj genomic xxmaj health . xxmaj results are reported as follows : \\n \\n  xxmaj breast cancer recurrence score = 21 \\n \\n  xxmaj the complete xxmaj genomic xxmaj health report was faxed to xxmaj dr. xxup firstname a copy of this report is maintained in xxup mguh xxmaj</td>\n",
       "      <td>Benign</td>\n",
       "    </tr>\n",
       "    <tr>\n",
       "      <td>xxbos xxmaj addendum \\n \\n \\n  xxup molecular xxup diagnostic xxup report \\n \\n  xxmaj her-2 / neu xxmaj gene xxmaj amplification by xxmaj fluorescent xxmaj in - xxmaj situ xxmaj hybridization ( xxup fish ) \\n \\n  xxmaj breast , left , wide local excision ( xxmaj specimen \" b \" ) : \\n  - \\t xxmaj intraductal and infiltrating ductal carcinoma . \\n \\n</td>\n",
       "      <td>Malignant</td>\n",
       "    </tr>\n",
       "    <tr>\n",
       "      <td>xxbos xxmaj source of xxmaj specimen \\n  a \\t xxmaj level 1a neck dissection \\n  b \\t xxmaj proximal margin lingual nerve \\n  c \\t xxmaj anterior margin sublingual gland \\n  d \\t xxmaj soft tissue margin of hyoid bone \\n  e \\t xxmaj tongue \\n  f \\t xxmaj retropharyngeal node \\n  g \\t xxmaj anterior mucosal margin \\n  h \\t xxmaj</td>\n",
       "      <td>Malignant</td>\n",
       "    </tr>\n",
       "  </tbody>\n",
       "</table>"
      ],
      "text/plain": [
       "<IPython.core.display.HTML object>"
      ]
     },
     "metadata": {},
     "output_type": "display_data"
    }
   ],
   "source": [
    "data_clas.show_batch()"
   ]
  },
  {
   "cell_type": "code",
   "execution_count": 109,
   "metadata": {},
   "outputs": [],
   "source": [
    "kappa = KappaScore()\n",
    "kappa.weights = \"quadratic\""
   ]
  },
  {
   "cell_type": "code",
   "execution_count": 110,
   "metadata": {},
   "outputs": [],
   "source": [
    "learn = text_classifier_learner(data_clas, AWD_LSTM, drop_mult=0.3,metrics=[kappa, accuracy, error_rate])\n",
    "learn.load_encoder('p_fine_tuned_enc_6'); #p_fine_tuned_enc_6"
   ]
  },
  {
   "cell_type": "code",
   "execution_count": 75,
   "metadata": {},
   "outputs": [
    {
     "data": {
      "text/html": [],
      "text/plain": [
       "<IPython.core.display.HTML object>"
      ]
     },
     "metadata": {},
     "output_type": "display_data"
    },
    {
     "name": "stdout",
     "output_type": "stream",
     "text": [
      "LR Finder is complete, type {learner_name}.recorder.plot() to see the graph.\n"
     ]
    }
   ],
   "source": [
    "learn.lr_find()"
   ]
  },
  {
   "cell_type": "code",
   "execution_count": 76,
   "metadata": {},
   "outputs": [
    {
     "data": {
      "image/png": "[encoded data removed]",
      "text/plain": [
       "<Figure size 432x288 with 1 Axes>"
      ]
     },
     "metadata": {
      "needs_background": "light"
     },
     "output_type": "display_data"
    }
   ],
   "source": [
    "learn.recorder.plot()"
   ]
  },
  {
   "cell_type": "code",
   "execution_count": 78,
   "metadata": {},
   "outputs": [
    {
     "data": {
      "text/html": [
       "<table border=\"1\" class=\"dataframe\">\n",
       "  <thead>\n",
       "    <tr style=\"text-align: left;\">\n",
       "      <th>epoch</th>\n",
       "      <th>train_loss</th>\n",
       "      <th>valid_loss</th>\n",
       "      <th>kappa_score</th>\n",
       "      <th>accuracy</th>\n",
       "      <th>error_rate</th>\n",
       "      <th>time</th>\n",
       "    </tr>\n",
       "  </thead>\n",
       "  <tbody>\n",
       "    <tr>\n",
       "      <td>0</td>\n",
       "      <td>0.572565</td>\n",
       "      <td>0.200781</td>\n",
       "      <td>0.801306</td>\n",
       "      <td>0.923077</td>\n",
       "      <td>0.076923</td>\n",
       "      <td>00:10</td>\n",
       "    </tr>\n",
       "  </tbody>\n",
       "</table>"
      ],
      "text/plain": [
       "<IPython.core.display.HTML object>"
      ]
     },
     "metadata": {},
     "output_type": "display_data"
    }
   ],
   "source": [
    "learn.fit_one_cycle(1, slice(1e-5,1e-1), moms=(0.8,0.7)) "
   ]
  },
  {
   "cell_type": "code",
   "execution_count": 79,
   "metadata": {},
   "outputs": [
    {
     "data": {
      "image/png": "[encoded data removed]",
      "text/plain": [
       "<Figure size 432x288 with 1 Axes>"
      ]
     },
     "metadata": {
      "needs_background": "light"
     },
     "output_type": "display_data"
    }
   ],
   "source": [
    "interp = ClassificationInterpretation.from_learner(learn)\n",
    "interp.plot_confusion_matrix()"
   ]
  },
  {
   "cell_type": "code",
   "execution_count": 80,
   "metadata": {},
   "outputs": [],
   "source": [
    "learn.save('p_first-00')"
   ]
  },
  {
   "cell_type": "code",
   "execution_count": 81,
   "metadata": {},
   "outputs": [],
   "source": [
    "learn.load('p_first-00');"
   ]
  },
  {
   "cell_type": "code",
   "execution_count": 82,
   "metadata": {},
   "outputs": [],
   "source": [
    "learn.freeze_to(-2)"
   ]
  },
  {
   "cell_type": "code",
   "execution_count": 83,
   "metadata": {},
   "outputs": [
    {
     "data": {
      "text/html": [],
      "text/plain": [
       "<IPython.core.display.HTML object>"
      ]
     },
     "metadata": {},
     "output_type": "display_data"
    },
    {
     "name": "stdout",
     "output_type": "stream",
     "text": [
      "LR Finder is complete, type {learner_name}.recorder.plot() to see the graph.\n"
     ]
    }
   ],
   "source": [
    "learn.lr_find()"
   ]
  },
  {
   "cell_type": "code",
   "execution_count": 84,
   "metadata": {},
   "outputs": [
    {
     "data": {
      "image/png": "[encoded data removed]",
      "text/plain": [
       "<Figure size 432x288 with 1 Axes>"
      ]
     },
     "metadata": {
      "needs_background": "light"
     },
     "output_type": "display_data"
    }
   ],
   "source": [
    "learn.recorder.plot()"
   ]
  },
  {
   "cell_type": "code",
   "execution_count": 85,
   "metadata": {},
   "outputs": [
    {
     "data": {
      "text/html": [
       "<table border=\"1\" class=\"dataframe\">\n",
       "  <thead>\n",
       "    <tr style=\"text-align: left;\">\n",
       "      <th>epoch</th>\n",
       "      <th>train_loss</th>\n",
       "      <th>valid_loss</th>\n",
       "      <th>kappa_score</th>\n",
       "      <th>accuracy</th>\n",
       "      <th>error_rate</th>\n",
       "      <th>time</th>\n",
       "    </tr>\n",
       "  </thead>\n",
       "  <tbody>\n",
       "    <tr>\n",
       "      <td>0</td>\n",
       "      <td>0.448545</td>\n",
       "      <td>0.163543</td>\n",
       "      <td>0.865958</td>\n",
       "      <td>0.947964</td>\n",
       "      <td>0.052036</td>\n",
       "      <td>00:12</td>\n",
       "    </tr>\n",
       "  </tbody>\n",
       "</table>"
      ],
      "text/plain": [
       "<IPython.core.display.HTML object>"
      ]
     },
     "metadata": {},
     "output_type": "display_data"
    }
   ],
   "source": [
    "learn.freeze_to(-2)\n",
    "learn.fit_one_cycle(1, slice(1e-4,1e-2), moms=(0.8,0.7))"
   ]
  },
  {
   "cell_type": "code",
   "execution_count": 86,
   "metadata": {},
   "outputs": [
    {
     "data": {
      "image/png": "[encoded data removed]",
      "text/plain": [
       "<Figure size 432x288 with 1 Axes>"
      ]
     },
     "metadata": {
      "needs_background": "light"
     },
     "output_type": "display_data"
    }
   ],
   "source": [
    "interp = ClassificationInterpretation.from_learner(learn)\n",
    "interp.plot_confusion_matrix()"
   ]
  },
  {
   "cell_type": "code",
   "execution_count": 87,
   "metadata": {},
   "outputs": [],
   "source": [
    "learn.save('p_second_00')"
   ]
  },
  {
   "cell_type": "code",
   "execution_count": 88,
   "metadata": {},
   "outputs": [],
   "source": [
    "learn.load('p_second_00');"
   ]
  },
  {
   "cell_type": "code",
   "execution_count": 94,
   "metadata": {},
   "outputs": [],
   "source": [
    "learn.freeze_to(-3)"
   ]
  },
  {
   "cell_type": "code",
   "execution_count": 95,
   "metadata": {},
   "outputs": [
    {
     "data": {
      "text/html": [],
      "text/plain": [
       "<IPython.core.display.HTML object>"
      ]
     },
     "metadata": {},
     "output_type": "display_data"
    },
    {
     "name": "stdout",
     "output_type": "stream",
     "text": [
      "LR Finder is complete, type {learner_name}.recorder.plot() to see the graph.\n"
     ]
    }
   ],
   "source": [
    "learn.lr_find()"
   ]
  },
  {
   "cell_type": "code",
   "execution_count": 96,
   "metadata": {},
   "outputs": [
    {
     "data": {
      "image/png": "[encoded data removed]",
      "text/plain": [
       "<Figure size 432x288 with 1 Axes>"
      ]
     },
     "metadata": {
      "needs_background": "light"
     },
     "output_type": "display_data"
    }
   ],
   "source": [
    "learn.recorder.plot()"
   ]
  },
  {
   "cell_type": "code",
   "execution_count": 97,
   "metadata": {},
   "outputs": [
    {
     "data": {
      "text/html": [
       "<table border=\"1\" class=\"dataframe\">\n",
       "  <thead>\n",
       "    <tr style=\"text-align: left;\">\n",
       "      <th>epoch</th>\n",
       "      <th>train_loss</th>\n",
       "      <th>valid_loss</th>\n",
       "      <th>kappa_score</th>\n",
       "      <th>accuracy</th>\n",
       "      <th>error_rate</th>\n",
       "      <th>time</th>\n",
       "    </tr>\n",
       "  </thead>\n",
       "  <tbody>\n",
       "    <tr>\n",
       "      <td>0</td>\n",
       "      <td>0.481773</td>\n",
       "      <td>0.158947</td>\n",
       "      <td>0.872832</td>\n",
       "      <td>0.950226</td>\n",
       "      <td>0.049774</td>\n",
       "      <td>00:16</td>\n",
       "    </tr>\n",
       "  </tbody>\n",
       "</table>"
      ],
      "text/plain": [
       "<IPython.core.display.HTML object>"
      ]
     },
     "metadata": {},
     "output_type": "display_data"
    }
   ],
   "source": [
    "learn.freeze_to(-3)\n",
    "learn.fit_one_cycle(1, 1e-6, moms=(0.8,0.7)) "
   ]
  },
  {
   "cell_type": "code",
   "execution_count": 98,
   "metadata": {},
   "outputs": [
    {
     "data": {
      "image/png": "[encoded data removed]",
      "text/plain": [
       "<Figure size 432x288 with 1 Axes>"
      ]
     },
     "metadata": {
      "needs_background": "light"
     },
     "output_type": "display_data"
    }
   ],
   "source": [
    "interp = ClassificationInterpretation.from_learner(learn)\n",
    "interp.plot_confusion_matrix()"
   ]
  },
  {
   "cell_type": "code",
   "execution_count": 100,
   "metadata": {},
   "outputs": [],
   "source": [
    "learn.save('p_third_00')"
   ]
  },
  {
   "cell_type": "code",
   "execution_count": 111,
   "metadata": {},
   "outputs": [],
   "source": [
    "learn.load('p_third_00');"
   ]
  },
  {
   "cell_type": "code",
   "execution_count": 112,
   "metadata": {},
   "outputs": [],
   "source": [
    "learn.unfreeze()"
   ]
  },
  {
   "cell_type": "code",
   "execution_count": 108,
   "metadata": {},
   "outputs": [
    {
     "data": {
      "text/html": [],
      "text/plain": [
       "<IPython.core.display.HTML object>"
      ]
     },
     "metadata": {},
     "output_type": "display_data"
    },
    {
     "name": "stdout",
     "output_type": "stream",
     "text": [
      "LR Finder is complete, type {learner_name}.recorder.plot() to see the graph.\n"
     ]
    }
   ],
   "source": [
    "learn.lr_find()"
   ]
  },
  {
   "cell_type": "code",
   "execution_count": 109,
   "metadata": {},
   "outputs": [
    {
     "data": {
      "image/png": "[encoded data removed]",
      "text/plain": [
       "<Figure size 432x288 with 1 Axes>"
      ]
     },
     "metadata": {
      "needs_background": "light"
     },
     "output_type": "display_data"
    }
   ],
   "source": [
    "learn.recorder.plot()"
   ]
  },
  {
   "cell_type": "code",
   "execution_count": 105,
   "metadata": {},
   "outputs": [
    {
     "data": {
      "text/html": [
       "<table border=\"1\" class=\"dataframe\">\n",
       "  <thead>\n",
       "    <tr style=\"text-align: left;\">\n",
       "      <th>epoch</th>\n",
       "      <th>train_loss</th>\n",
       "      <th>valid_loss</th>\n",
       "      <th>kappa_score</th>\n",
       "      <th>accuracy</th>\n",
       "      <th>error_rate</th>\n",
       "      <th>time</th>\n",
       "    </tr>\n",
       "  </thead>\n",
       "  <tbody>\n",
       "    <tr>\n",
       "      <td>0</td>\n",
       "      <td>0.441844</td>\n",
       "      <td>0.165471</td>\n",
       "      <td>0.891062</td>\n",
       "      <td>0.957014</td>\n",
       "      <td>0.042986</td>\n",
       "      <td>00:19</td>\n",
       "    </tr>\n",
       "    <tr>\n",
       "      <td>1</td>\n",
       "      <td>0.480180</td>\n",
       "      <td>0.165605</td>\n",
       "      <td>0.891062</td>\n",
       "      <td>0.957014</td>\n",
       "      <td>0.042986</td>\n",
       "      <td>00:18</td>\n",
       "    </tr>\n",
       "    <tr>\n",
       "      <td>2</td>\n",
       "      <td>0.427836</td>\n",
       "      <td>0.161405</td>\n",
       "      <td>0.878282</td>\n",
       "      <td>0.952489</td>\n",
       "      <td>0.047511</td>\n",
       "      <td>00:21</td>\n",
       "    </tr>\n",
       "    <tr>\n",
       "      <td>3</td>\n",
       "      <td>0.400363</td>\n",
       "      <td>0.162839</td>\n",
       "      <td>0.878282</td>\n",
       "      <td>0.952489</td>\n",
       "      <td>0.047511</td>\n",
       "      <td>00:21</td>\n",
       "    </tr>\n",
       "    <tr>\n",
       "      <td>4</td>\n",
       "      <td>0.376107</td>\n",
       "      <td>0.177801</td>\n",
       "      <td>0.897074</td>\n",
       "      <td>0.959276</td>\n",
       "      <td>0.040724</td>\n",
       "      <td>00:21</td>\n",
       "    </tr>\n",
       "    <tr>\n",
       "      <td>5</td>\n",
       "      <td>0.387273</td>\n",
       "      <td>0.170065</td>\n",
       "      <td>0.897074</td>\n",
       "      <td>0.959276</td>\n",
       "      <td>0.040724</td>\n",
       "      <td>00:21</td>\n",
       "    </tr>\n",
       "    <tr>\n",
       "      <td>6</td>\n",
       "      <td>0.383746</td>\n",
       "      <td>0.167400</td>\n",
       "      <td>0.885019</td>\n",
       "      <td>0.954751</td>\n",
       "      <td>0.045249</td>\n",
       "      <td>00:21</td>\n",
       "    </tr>\n",
       "    <tr>\n",
       "      <td>7</td>\n",
       "      <td>0.437120</td>\n",
       "      <td>0.165183</td>\n",
       "      <td>0.891062</td>\n",
       "      <td>0.957014</td>\n",
       "      <td>0.042986</td>\n",
       "      <td>00:19</td>\n",
       "    </tr>\n",
       "    <tr>\n",
       "      <td>8</td>\n",
       "      <td>0.421444</td>\n",
       "      <td>0.161403</td>\n",
       "      <td>0.885019</td>\n",
       "      <td>0.954751</td>\n",
       "      <td>0.045249</td>\n",
       "      <td>00:21</td>\n",
       "    </tr>\n",
       "    <tr>\n",
       "      <td>9</td>\n",
       "      <td>0.416692</td>\n",
       "      <td>0.160243</td>\n",
       "      <td>0.878282</td>\n",
       "      <td>0.952489</td>\n",
       "      <td>0.047511</td>\n",
       "      <td>00:21</td>\n",
       "    </tr>\n",
       "  </tbody>\n",
       "</table>"
      ],
      "text/plain": [
       "<IPython.core.display.HTML object>"
      ]
     },
     "metadata": {},
     "output_type": "display_data"
    }
   ],
   "source": [
    "learn.fit_one_cycle(10, 3e-6, moms=(0.8,0.7))"
   ]
  },
  {
   "cell_type": "code",
   "execution_count": 110,
   "metadata": {},
   "outputs": [
    {
     "data": {
      "text/html": [
       "<table border=\"1\" class=\"dataframe\">\n",
       "  <thead>\n",
       "    <tr style=\"text-align: left;\">\n",
       "      <th>epoch</th>\n",
       "      <th>train_loss</th>\n",
       "      <th>valid_loss</th>\n",
       "      <th>kappa_score</th>\n",
       "      <th>accuracy</th>\n",
       "      <th>error_rate</th>\n",
       "      <th>time</th>\n",
       "    </tr>\n",
       "  </thead>\n",
       "  <tbody>\n",
       "    <tr>\n",
       "      <td>0</td>\n",
       "      <td>0.356459</td>\n",
       "      <td>0.165581</td>\n",
       "      <td>0.891062</td>\n",
       "      <td>0.957014</td>\n",
       "      <td>0.042986</td>\n",
       "      <td>00:21</td>\n",
       "    </tr>\n",
       "    <tr>\n",
       "      <td>1</td>\n",
       "      <td>0.355822</td>\n",
       "      <td>0.164758</td>\n",
       "      <td>0.840901</td>\n",
       "      <td>0.938914</td>\n",
       "      <td>0.061086</td>\n",
       "      <td>00:23</td>\n",
       "    </tr>\n",
       "    <tr>\n",
       "      <td>2</td>\n",
       "      <td>0.390755</td>\n",
       "      <td>0.159253</td>\n",
       "      <td>0.878282</td>\n",
       "      <td>0.952489</td>\n",
       "      <td>0.047511</td>\n",
       "      <td>00:21</td>\n",
       "    </tr>\n",
       "    <tr>\n",
       "      <td>3</td>\n",
       "      <td>0.383302</td>\n",
       "      <td>0.164797</td>\n",
       "      <td>0.891062</td>\n",
       "      <td>0.957014</td>\n",
       "      <td>0.042986</td>\n",
       "      <td>00:22</td>\n",
       "    </tr>\n",
       "    <tr>\n",
       "      <td>4</td>\n",
       "      <td>0.363472</td>\n",
       "      <td>0.171405</td>\n",
       "      <td>0.897074</td>\n",
       "      <td>0.959276</td>\n",
       "      <td>0.040724</td>\n",
       "      <td>00:24</td>\n",
       "    </tr>\n",
       "    <tr>\n",
       "      <td>5</td>\n",
       "      <td>0.374327</td>\n",
       "      <td>0.161804</td>\n",
       "      <td>0.872832</td>\n",
       "      <td>0.950226</td>\n",
       "      <td>0.049774</td>\n",
       "      <td>00:22</td>\n",
       "    </tr>\n",
       "  </tbody>\n",
       "</table>"
      ],
      "text/plain": [
       "<IPython.core.display.HTML object>"
      ]
     },
     "metadata": {},
     "output_type": "display_data"
    }
   ],
   "source": [
    "learn.fit_one_cycle(6, 3e-6, moms=(0.8,0.7))"
   ]
  },
  {
   "cell_type": "code",
   "execution_count": 113,
   "metadata": {},
   "outputs": [
    {
     "data": {
      "text/html": [
       "<table border=\"1\" class=\"dataframe\">\n",
       "  <thead>\n",
       "    <tr style=\"text-align: left;\">\n",
       "      <th>epoch</th>\n",
       "      <th>train_loss</th>\n",
       "      <th>valid_loss</th>\n",
       "      <th>kappa_score</th>\n",
       "      <th>accuracy</th>\n",
       "      <th>error_rate</th>\n",
       "      <th>time</th>\n",
       "    </tr>\n",
       "  </thead>\n",
       "  <tbody>\n",
       "    <tr>\n",
       "      <td>0</td>\n",
       "      <td>0.501025</td>\n",
       "      <td>0.167998</td>\n",
       "      <td>0.891062</td>\n",
       "      <td>0.957014</td>\n",
       "      <td>0.042986</td>\n",
       "      <td>00:19</td>\n",
       "    </tr>\n",
       "    <tr>\n",
       "      <td>1</td>\n",
       "      <td>0.471323</td>\n",
       "      <td>0.157951</td>\n",
       "      <td>0.878282</td>\n",
       "      <td>0.952489</td>\n",
       "      <td>0.047511</td>\n",
       "      <td>00:19</td>\n",
       "    </tr>\n",
       "    <tr>\n",
       "      <td>2</td>\n",
       "      <td>0.459158</td>\n",
       "      <td>0.165942</td>\n",
       "      <td>0.891062</td>\n",
       "      <td>0.957014</td>\n",
       "      <td>0.042986</td>\n",
       "      <td>00:20</td>\n",
       "    </tr>\n",
       "    <tr>\n",
       "      <td>3</td>\n",
       "      <td>0.432921</td>\n",
       "      <td>0.185042</td>\n",
       "      <td>0.903053</td>\n",
       "      <td>0.961538</td>\n",
       "      <td>0.038462</td>\n",
       "      <td>00:22</td>\n",
       "    </tr>\n",
       "    <tr>\n",
       "      <td>4</td>\n",
       "      <td>0.448925</td>\n",
       "      <td>0.178353</td>\n",
       "      <td>0.897074</td>\n",
       "      <td>0.959276</td>\n",
       "      <td>0.040724</td>\n",
       "      <td>00:20</td>\n",
       "    </tr>\n",
       "  </tbody>\n",
       "</table>"
      ],
      "text/plain": [
       "<IPython.core.display.HTML object>"
      ]
     },
     "metadata": {},
     "output_type": "display_data"
    }
   ],
   "source": [
    "learn.fit_one_cycle(5, 3e-6, moms=(0.8,0.7))"
   ]
  },
  {
   "cell_type": "code",
   "execution_count": 114,
   "metadata": {},
   "outputs": [
    {
     "data": {
      "image/png": "[encoded data removed]",
      "text/plain": [
       "<Figure size 432x288 with 1 Axes>"
      ]
     },
     "metadata": {
      "needs_background": "light"
     },
     "output_type": "display_data"
    }
   ],
   "source": [
    "interp = ClassificationInterpretation.from_learner(learn)\n",
    "interp.plot_confusion_matrix()"
   ]
  },
  {
   "cell_type": "code",
   "execution_count": 115,
   "metadata": {},
   "outputs": [],
   "source": [
    "learn.save('p_fourth_00')"
   ]
  },
  {
   "cell_type": "code",
   "execution_count": 111,
   "metadata": {},
   "outputs": [],
   "source": [
    "learn.load('p_fourth_00');"
   ]
  },
  {
   "cell_type": "code",
   "execution_count": 112,
   "metadata": {},
   "outputs": [
    {
     "data": {
      "image/png": "[encoded data removed]",
      "text/plain": [
       "<Figure size 432x288 with 1 Axes>"
      ]
     },
     "metadata": {
      "needs_background": "light"
     },
     "output_type": "display_data"
    }
   ],
   "source": [
    "interp = ClassificationInterpretation.from_learner(learn)\n",
    "interp.plot_confusion_matrix()"
   ]
  },
  {
   "cell_type": "code",
   "execution_count": 152,
   "metadata": {},
   "outputs": [],
   "source": [
    "preds, _ = learn.get_preds(ds_type=DatasetType.Valid,ordered=True)"
   ]
  },
  {
   "cell_type": "code",
   "execution_count": 94,
   "metadata": {},
   "outputs": [
    {
     "data": {
      "text/plain": [
       "['Benign', 'Malignant']"
      ]
     },
     "execution_count": 94,
     "metadata": {},
     "output_type": "execute_result"
    }
   ],
   "source": [
    "learn.data.classes"
   ]
  },
  {
   "cell_type": "code",
   "execution_count": 150,
   "metadata": {},
   "outputs": [],
   "source": [
    "#preds"
   ]
  },
  {
   "cell_type": "code",
   "execution_count": 153,
   "metadata": {},
   "outputs": [],
   "source": [
    "labels = np.argmax(preds, 1)"
   ]
  },
  {
   "cell_type": "code",
   "execution_count": 154,
   "metadata": {},
   "outputs": [
    {
     "data": {
      "text/plain": [
       "442"
      ]
     },
     "execution_count": 154,
     "metadata": {},
     "output_type": "execute_result"
    }
   ],
   "source": [
    "len(labels)"
   ]
  },
  {
   "cell_type": "code",
   "execution_count": 155,
   "metadata": {},
   "outputs": [],
   "source": [
    "test['labels']=labels"
   ]
  },
  {
   "cell_type": "code",
   "execution_count": 156,
   "metadata": {},
   "outputs": [
    {
     "data": {
      "text/html": [
       "<div>\n",
       "<style scoped>\n",
       "    .dataframe tbody tr th:only-of-type {\n",
       "        vertical-align: middle;\n",
       "    }\n",
       "\n",
       "    .dataframe tbody tr th {\n",
       "        vertical-align: top;\n",
       "    }\n",
       "\n",
       "    .dataframe thead th {\n",
       "        text-align: right;\n",
       "    }\n",
       "</style>\n",
       "<table border=\"1\" class=\"dataframe\">\n",
       "  <thead>\n",
       "    <tr style=\"text-align: right;\">\n",
       "      <th></th>\n",
       "      <th>File Name</th>\n",
       "      <th>Path</th>\n",
       "      <th>Notes</th>\n",
       "      <th>text</th>\n",
       "      <th>labels</th>\n",
       "    </tr>\n",
       "  </thead>\n",
       "  <tbody>\n",
       "    <tr>\n",
       "      <th>781</th>\n",
       "      <td>fdb3f70d41a349a80b33b71924ec3f8a.txt</td>\n",
       "      <td>Benign</td>\n",
       "      <td>NaN</td>\n",
       "      <td>Source of Specimen\\nA\\t14-G Sono Bx Core-Left ...</td>\n",
       "      <td>0</td>\n",
       "    </tr>\n",
       "    <tr>\n",
       "      <th>1804</th>\n",
       "      <td>552d33e98cc356a86b0c9faa98a8f649.txt</td>\n",
       "      <td>Benign</td>\n",
       "      <td>HRL</td>\n",
       "      <td>Source of Specimen\\nA\\tRight breast core\\nClin...</td>\n",
       "      <td>0</td>\n",
       "    </tr>\n",
       "    <tr>\n",
       "      <th>1966</th>\n",
       "      <td>4bbc59e439a450d3fa0cec3aa5c668ff.txt</td>\n",
       "      <td>Benign</td>\n",
       "      <td>NaN</td>\n",
       "      <td>Source of Specimen\\nA\\t9G CORE BIOPSY BIGHT BR...</td>\n",
       "      <td>0</td>\n",
       "    </tr>\n",
       "    <tr>\n",
       "      <th>1723</th>\n",
       "      <td>990befce392fc9c645ee7ecba0920cb9.txt</td>\n",
       "      <td>Benign</td>\n",
       "      <td>NaN</td>\n",
       "      <td>Source of Specimen\\nA\\tRight breast core\\nClin...</td>\n",
       "      <td>0</td>\n",
       "    </tr>\n",
       "    <tr>\n",
       "      <th>1624</th>\n",
       "      <td>f5e74088b9d3cbf0095415d3d2ee523f.txt</td>\n",
       "      <td>Malignant</td>\n",
       "      <td>NaN</td>\n",
       "      <td>Source of Specimen\\nA\\tLeft breast core\\nClini...</td>\n",
       "      <td>1</td>\n",
       "    </tr>\n",
       "  </tbody>\n",
       "</table>\n",
       "</div>"
      ],
      "text/plain": [
       "                                File Name        Path Notes  \\\n",
       "781   fdb3f70d41a349a80b33b71924ec3f8a.txt     Benign   NaN   \n",
       "1804  552d33e98cc356a86b0c9faa98a8f649.txt     Benign   HRL   \n",
       "1966  4bbc59e439a450d3fa0cec3aa5c668ff.txt     Benign   NaN   \n",
       "1723  990befce392fc9c645ee7ecba0920cb9.txt     Benign   NaN   \n",
       "1624  f5e74088b9d3cbf0095415d3d2ee523f.txt  Malignant   NaN   \n",
       "\n",
       "                                                   text  labels  \n",
       "781   Source of Specimen\\nA\\t14-G Sono Bx Core-Left ...       0  \n",
       "1804  Source of Specimen\\nA\\tRight breast core\\nClin...       0  \n",
       "1966  Source of Specimen\\nA\\t9G CORE BIOPSY BIGHT BR...       0  \n",
       "1723  Source of Specimen\\nA\\tRight breast core\\nClin...       0  \n",
       "1624  Source of Specimen\\nA\\tLeft breast core\\nClini...       1  "
      ]
     },
     "execution_count": 156,
     "metadata": {},
     "output_type": "execute_result"
    }
   ],
   "source": [
    "test.head()"
   ]
  },
  {
   "cell_type": "code",
   "execution_count": 157,
   "metadata": {},
   "outputs": [],
   "source": [
    "#test['labels']"
   ]
  },
  {
   "cell_type": "code",
   "execution_count": 158,
   "metadata": {},
   "outputs": [],
   "source": [
    "def func(x):\n",
    "    if x==0:\n",
    "        return 'Benign'\n",
    "    else:\n",
    "        return 'Malignant'"
   ]
  },
  {
   "cell_type": "code",
   "execution_count": 159,
   "metadata": {},
   "outputs": [],
   "source": [
    "test['Predicted']=test['labels'].apply(func)"
   ]
  },
  {
   "cell_type": "code",
   "execution_count": 161,
   "metadata": {},
   "outputs": [],
   "source": [
    "#test.head()"
   ]
  },
  {
   "cell_type": "code",
   "execution_count": 162,
   "metadata": {},
   "outputs": [],
   "source": [
    "#test['Path']"
   ]
  },
  {
   "cell_type": "code",
   "execution_count": 163,
   "metadata": {},
   "outputs": [
    {
     "data": {
      "text/plain": [
       "111"
      ]
     },
     "execution_count": 163,
     "metadata": {},
     "output_type": "execute_result"
    }
   ],
   "source": [
    "((test['Predicted']=='Malignant') &(test['Path']=='Malignant')).sum()"
   ]
  },
  {
   "cell_type": "code",
   "execution_count": 164,
   "metadata": {},
   "outputs": [
    {
     "data": {
      "text/plain": [
       "313"
      ]
     },
     "execution_count": 164,
     "metadata": {},
     "output_type": "execute_result"
    }
   ],
   "source": [
    "((test['Predicted']=='Benign') &(test['Path']=='Benign')).sum()"
   ]
  },
  {
   "cell_type": "code",
   "execution_count": 169,
   "metadata": {},
   "outputs": [
    {
     "data": {
      "text/plain": [
       "18"
      ]
     },
     "execution_count": 169,
     "metadata": {},
     "output_type": "execute_result"
    }
   ],
   "source": [
    "(test[\"Predicted\"]!=test['Path']).sum()"
   ]
  },
  {
   "cell_type": "code",
   "execution_count": 170,
   "metadata": {},
   "outputs": [],
   "source": [
    "mis_clas_df=test[test[\"Predicted\"]!=test['Path']]"
   ]
  },
  {
   "cell_type": "code",
   "execution_count": 130,
   "metadata": {},
   "outputs": [],
   "source": [
    "#test_predictions_direct = [learn.data.classes[int(x)] for x in labels]"
   ]
  },
  {
   "cell_type": "code",
   "execution_count": 174,
   "metadata": {},
   "outputs": [
    {
     "data": {
      "text/plain": [
       "6"
      ]
     },
     "execution_count": 174,
     "metadata": {},
     "output_type": "execute_result"
    }
   ],
   "source": [
    "(mis_clas_df['Path']=='Malignant').sum()"
   ]
  },
  {
   "cell_type": "code",
   "execution_count": 173,
   "metadata": {},
   "outputs": [
    {
     "data": {
      "text/html": [
       "<div>\n",
       "<style scoped>\n",
       "    .dataframe tbody tr th:only-of-type {\n",
       "        vertical-align: middle;\n",
       "    }\n",
       "\n",
       "    .dataframe tbody tr th {\n",
       "        vertical-align: top;\n",
       "    }\n",
       "\n",
       "    .dataframe thead th {\n",
       "        text-align: right;\n",
       "    }\n",
       "</style>\n",
       "<table border=\"1\" class=\"dataframe\">\n",
       "  <thead>\n",
       "    <tr style=\"text-align: right;\">\n",
       "      <th></th>\n",
       "      <th>File Name</th>\n",
       "      <th>Path</th>\n",
       "      <th>Notes</th>\n",
       "      <th>text</th>\n",
       "      <th>labels</th>\n",
       "      <th>Predicted</th>\n",
       "    </tr>\n",
       "  </thead>\n",
       "  <tbody>\n",
       "    <tr>\n",
       "      <th>1222</th>\n",
       "      <td>21d07a7c3300b8fc16e17c229e599a2a.txt</td>\n",
       "      <td>Malignant</td>\n",
       "      <td>NaN</td>\n",
       "      <td>Addendum\\nImmunohistochemical investigation of...</td>\n",
       "      <td>0</td>\n",
       "      <td>Benign</td>\n",
       "    </tr>\n",
       "    <tr>\n",
       "      <th>164</th>\n",
       "      <td>1009b244568b4768f4c04dea70921b00.txt</td>\n",
       "      <td>Malignant</td>\n",
       "      <td>NaN</td>\n",
       "      <td>Source of Specimen\\nA\\t14 G CORE BX 12:00 LEFT...</td>\n",
       "      <td>0</td>\n",
       "      <td>Benign</td>\n",
       "    </tr>\n",
       "    <tr>\n",
       "      <th>135</th>\n",
       "      <td>bd4dd5f61b4e19fa6fbb610e37e1c097.txt</td>\n",
       "      <td>Malignant</td>\n",
       "      <td>NaN</td>\n",
       "      <td>Source of Specimen\\nA\\t14 GAUGE CORE LEFT AXIL...</td>\n",
       "      <td>0</td>\n",
       "      <td>Benign</td>\n",
       "    </tr>\n",
       "    <tr>\n",
       "      <th>802</th>\n",
       "      <td>c61825924ba2762602a37625c5b3ea93.txt</td>\n",
       "      <td>Malignant</td>\n",
       "      <td>NaN</td>\n",
       "      <td>Source of Specimen\\nA\\tLeft Axillary Lymph Nod...</td>\n",
       "      <td>0</td>\n",
       "      <td>Benign</td>\n",
       "    </tr>\n",
       "    <tr>\n",
       "      <th>1449</th>\n",
       "      <td>c89ecb7d8631446c22a8abdda70e9092.txt</td>\n",
       "      <td>Malignant</td>\n",
       "      <td>NaN</td>\n",
       "      <td>Source of Specimen\\nA\\tLeft breast with calcif...</td>\n",
       "      <td>0</td>\n",
       "      <td>Benign</td>\n",
       "    </tr>\n",
       "    <tr>\n",
       "      <th>1743</th>\n",
       "      <td>df8cdc476f7ca5bf816f1c7ff8824f22.txt</td>\n",
       "      <td>Malignant</td>\n",
       "      <td>NaN</td>\n",
       "      <td>Source of Specimen\\nA\\tLeft breast core axilla...</td>\n",
       "      <td>0</td>\n",
       "      <td>Benign</td>\n",
       "    </tr>\n",
       "  </tbody>\n",
       "</table>\n",
       "</div>"
      ],
      "text/plain": [
       "                                File Name        Path Notes  \\\n",
       "1222  21d07a7c3300b8fc16e17c229e599a2a.txt  Malignant   NaN   \n",
       "164   1009b244568b4768f4c04dea70921b00.txt  Malignant   NaN   \n",
       "135   bd4dd5f61b4e19fa6fbb610e37e1c097.txt  Malignant   NaN   \n",
       "802   c61825924ba2762602a37625c5b3ea93.txt  Malignant   NaN   \n",
       "1449  c89ecb7d8631446c22a8abdda70e9092.txt  Malignant   NaN   \n",
       "1743  df8cdc476f7ca5bf816f1c7ff8824f22.txt  Malignant   NaN   \n",
       "\n",
       "                                                   text  labels Predicted  \n",
       "1222  Addendum\\nImmunohistochemical investigation of...       0    Benign  \n",
       "164   Source of Specimen\\nA\\t14 G CORE BX 12:00 LEFT...       0    Benign  \n",
       "135   Source of Specimen\\nA\\t14 GAUGE CORE LEFT AXIL...       0    Benign  \n",
       "802   Source of Specimen\\nA\\tLeft Axillary Lymph Nod...       0    Benign  \n",
       "1449  Source of Specimen\\nA\\tLeft breast with calcif...       0    Benign  \n",
       "1743  Source of Specimen\\nA\\tLeft breast core axilla...       0    Benign  "
      ]
     },
     "execution_count": 173,
     "metadata": {},
     "output_type": "execute_result"
    }
   ],
   "source": [
    "mis_clas_df[mis_clas_df['Path']=='Malignant']"
   ]
  },
  {
   "cell_type": "code",
   "execution_count": 175,
   "metadata": {},
   "outputs": [],
   "source": [
    "df1=mis_clas_df[mis_clas_df['Path']=='Malignant']"
   ]
  },
  {
   "cell_type": "code",
   "execution_count": 181,
   "metadata": {},
   "outputs": [],
   "source": [
    "df1.to_csv('missed_malignant.csv')"
   ]
  },
  {
   "cell_type": "code",
   "execution_count": 177,
   "metadata": {},
   "outputs": [
    {
     "data": {
      "text/plain": [
       "12"
      ]
     },
     "execution_count": 177,
     "metadata": {},
     "output_type": "execute_result"
    }
   ],
   "source": [
    "(mis_clas_df['Path']=='Benign').sum()"
   ]
  },
  {
   "cell_type": "code",
   "execution_count": 178,
   "metadata": {},
   "outputs": [],
   "source": [
    "df2=mis_clas_df[mis_clas_df['Path']=='Benign'] #Benign"
   ]
  },
  {
   "cell_type": "code",
   "execution_count": 180,
   "metadata": {},
   "outputs": [
    {
     "data": {
      "text/html": [
       "<div>\n",
       "<style scoped>\n",
       "    .dataframe tbody tr th:only-of-type {\n",
       "        vertical-align: middle;\n",
       "    }\n",
       "\n",
       "    .dataframe tbody tr th {\n",
       "        vertical-align: top;\n",
       "    }\n",
       "\n",
       "    .dataframe thead th {\n",
       "        text-align: right;\n",
       "    }\n",
       "</style>\n",
       "<table border=\"1\" class=\"dataframe\">\n",
       "  <thead>\n",
       "    <tr style=\"text-align: right;\">\n",
       "      <th></th>\n",
       "      <th>File Name</th>\n",
       "      <th>Path</th>\n",
       "      <th>Notes</th>\n",
       "      <th>text</th>\n",
       "      <th>labels</th>\n",
       "      <th>Predicted</th>\n",
       "    </tr>\n",
       "  </thead>\n",
       "  <tbody>\n",
       "    <tr>\n",
       "      <th>1748</th>\n",
       "      <td>cb27076274f898ebee807491d9527440.txt</td>\n",
       "      <td>Benign</td>\n",
       "      <td>NaN</td>\n",
       "      <td>Addendum\\nImmunohistochemical ER/PgR and HER2 ...</td>\n",
       "      <td>1</td>\n",
       "      <td>Malignant</td>\n",
       "    </tr>\n",
       "    <tr>\n",
       "      <th>162</th>\n",
       "      <td>708a74e0d2426d20667bb594b45af3b9.txt</td>\n",
       "      <td>Benign</td>\n",
       "      <td>NaN</td>\n",
       "      <td>Source of Specimen\\nA\\tRIGHT BREAST SENTINEL N...</td>\n",
       "      <td>1</td>\n",
       "      <td>Malignant</td>\n",
       "    </tr>\n",
       "    <tr>\n",
       "      <th>1689</th>\n",
       "      <td>8c7c85c1d65506d68373c0cf9b0d6a1a.txt</td>\n",
       "      <td>Benign</td>\n",
       "      <td>NaN</td>\n",
       "      <td>Source of Specimen\\nA\\tRIGHT BREAST NEEDLE COR...</td>\n",
       "      <td>1</td>\n",
       "      <td>Malignant</td>\n",
       "    </tr>\n",
       "    <tr>\n",
       "      <th>1040</th>\n",
       "      <td>a83be285a275cca9bda178e8ff5be5d6.txt</td>\n",
       "      <td>Benign</td>\n",
       "      <td>NaN</td>\n",
       "      <td>Addendum\\nImmunohistochemical ER/PR and HER2/n...</td>\n",
       "      <td>1</td>\n",
       "      <td>Malignant</td>\n",
       "    </tr>\n",
       "    <tr>\n",
       "      <th>2004</th>\n",
       "      <td>8c5566cdd658c752ba5028e4f56e48db.txt</td>\n",
       "      <td>Benign</td>\n",
       "      <td>NaN</td>\n",
       "      <td>Source of Specimen\\nA\\tLeft Lymph Node FNA Cli...</td>\n",
       "      <td>1</td>\n",
       "      <td>Malignant</td>\n",
       "    </tr>\n",
       "    <tr>\n",
       "      <th>203</th>\n",
       "      <td>9e870d550157863765e58b47c3f987c0.txt</td>\n",
       "      <td>Benign</td>\n",
       "      <td>NaN</td>\n",
       "      <td>Source of Specimen\\nA\\tLEFT SENTINEL NODE #1\\n...</td>\n",
       "      <td>1</td>\n",
       "      <td>Malignant</td>\n",
       "    </tr>\n",
       "    <tr>\n",
       "      <th>868</th>\n",
       "      <td>aa797da4657d9bb96d7c311947eb6199.txt</td>\n",
       "      <td>Benign</td>\n",
       "      <td>NaN</td>\n",
       "      <td>Addendum\\nGenomic Health OncoType-DX Breast As...</td>\n",
       "      <td>1</td>\n",
       "      <td>Malignant</td>\n",
       "    </tr>\n",
       "    <tr>\n",
       "      <th>1008</th>\n",
       "      <td>2adaa96df353f6500cf9ca6bb946ef42.txt</td>\n",
       "      <td>Benign</td>\n",
       "      <td>HRL</td>\n",
       "      <td>Source of Specimen\\nA\\tRight Sentinel Node #1\\...</td>\n",
       "      <td>1</td>\n",
       "      <td>Malignant</td>\n",
       "    </tr>\n",
       "    <tr>\n",
       "      <th>1940</th>\n",
       "      <td>f2c9f4270b4749dab1d9b94019858b4b.txt</td>\n",
       "      <td>Benign</td>\n",
       "      <td>NaN</td>\n",
       "      <td>Addendum\\nPer clinician's request, the focus o...</td>\n",
       "      <td>1</td>\n",
       "      <td>Malignant</td>\n",
       "    </tr>\n",
       "    <tr>\n",
       "      <th>2118</th>\n",
       "      <td>6f171b512ff6ab81950a4439e8902084.txt</td>\n",
       "      <td>Benign</td>\n",
       "      <td>NaN</td>\n",
       "      <td>Source of Specimen\\nA\\tLeft Breast Bx\\n\\nThis ...</td>\n",
       "      <td>1</td>\n",
       "      <td>Malignant</td>\n",
       "    </tr>\n",
       "    <tr>\n",
       "      <th>1939</th>\n",
       "      <td>52b4812b8a5d9d02bbad62c39f734477.txt</td>\n",
       "      <td>Benign</td>\n",
       "      <td>NaN</td>\n",
       "      <td>Source of Specimen\\nA\\tBREAST LEFT 6:00\\n\\nThi...</td>\n",
       "      <td>1</td>\n",
       "      <td>Malignant</td>\n",
       "    </tr>\n",
       "    <tr>\n",
       "      <th>1758</th>\n",
       "      <td>2aa7f20ab3553a90108e1fbf335389fa.txt</td>\n",
       "      <td>Benign</td>\n",
       "      <td>NaN</td>\n",
       "      <td>Source of Specimen\\nA\\tRIGHT BREAST CORE BIOPS...</td>\n",
       "      <td>1</td>\n",
       "      <td>Malignant</td>\n",
       "    </tr>\n",
       "  </tbody>\n",
       "</table>\n",
       "</div>"
      ],
      "text/plain": [
       "                                File Name     Path Notes  \\\n",
       "1748  cb27076274f898ebee807491d9527440.txt  Benign   NaN   \n",
       "162   708a74e0d2426d20667bb594b45af3b9.txt  Benign   NaN   \n",
       "1689  8c7c85c1d65506d68373c0cf9b0d6a1a.txt  Benign   NaN   \n",
       "1040  a83be285a275cca9bda178e8ff5be5d6.txt  Benign   NaN   \n",
       "2004  8c5566cdd658c752ba5028e4f56e48db.txt  Benign   NaN   \n",
       "203   9e870d550157863765e58b47c3f987c0.txt  Benign   NaN   \n",
       "868   aa797da4657d9bb96d7c311947eb6199.txt  Benign   NaN   \n",
       "1008  2adaa96df353f6500cf9ca6bb946ef42.txt  Benign   HRL   \n",
       "1940  f2c9f4270b4749dab1d9b94019858b4b.txt  Benign   NaN   \n",
       "2118  6f171b512ff6ab81950a4439e8902084.txt  Benign   NaN   \n",
       "1939  52b4812b8a5d9d02bbad62c39f734477.txt  Benign   NaN   \n",
       "1758  2aa7f20ab3553a90108e1fbf335389fa.txt  Benign   NaN   \n",
       "\n",
       "                                                   text  labels  Predicted  \n",
       "1748  Addendum\\nImmunohistochemical ER/PgR and HER2 ...       1  Malignant  \n",
       "162   Source of Specimen\\nA\\tRIGHT BREAST SENTINEL N...       1  Malignant  \n",
       "1689  Source of Specimen\\nA\\tRIGHT BREAST NEEDLE COR...       1  Malignant  \n",
       "1040  Addendum\\nImmunohistochemical ER/PR and HER2/n...       1  Malignant  \n",
       "2004  Source of Specimen\\nA\\tLeft Lymph Node FNA Cli...       1  Malignant  \n",
       "203   Source of Specimen\\nA\\tLEFT SENTINEL NODE #1\\n...       1  Malignant  \n",
       "868   Addendum\\nGenomic Health OncoType-DX Breast As...       1  Malignant  \n",
       "1008  Source of Specimen\\nA\\tRight Sentinel Node #1\\...       1  Malignant  \n",
       "1940  Addendum\\nPer clinician's request, the focus o...       1  Malignant  \n",
       "2118  Source of Specimen\\nA\\tLeft Breast Bx\\n\\nThis ...       1  Malignant  \n",
       "1939  Source of Specimen\\nA\\tBREAST LEFT 6:00\\n\\nThi...       1  Malignant  \n",
       "1758  Source of Specimen\\nA\\tRIGHT BREAST CORE BIOPS...       1  Malignant  "
      ]
     },
     "execution_count": 180,
     "metadata": {},
     "output_type": "execute_result"
    }
   ],
   "source": [
    "df2"
   ]
  },
  {
   "cell_type": "code",
   "execution_count": 182,
   "metadata": {},
   "outputs": [],
   "source": [
    "df2.to_csv('missed_Benign.csv')"
   ]
  },
  {
   "cell_type": "code",
   "execution_count": null,
   "metadata": {},
   "outputs": [],
   "source": []
  }
 ],
 "metadata": {
  "kernelspec": {
   "display_name": "Python 3",
   "language": "python",
   "name": "python3"
  },
  "language_info": {
   "codemirror_mode": {
    "name": "ipython",
    "version": 3
   },
   "file_extension": ".py",
   "mimetype": "text/x-python",
   "name": "python",
   "nbconvert_exporter": "python",
   "pygments_lexer": "ipython3",
   "version": "3.7.6"
  }
 },
 "nbformat": 4,
 "nbformat_minor": 4
}
