{
 "cells": [
  {
   "cell_type": "code",
   "execution_count": 1,
   "metadata": {},
   "outputs": [],
   "source": [
    "%reload_ext autoreload\n",
    "%autoreload 2\n",
    "%matplotlib inline"
   ]
  },
  {
   "cell_type": "code",
   "execution_count": 2,
   "metadata": {},
   "outputs": [],
   "source": [
    "from fastai.text import *"
   ]
  },
  {
   "cell_type": "code",
   "execution_count": 3,
   "metadata": {},
   "outputs": [],
   "source": [
    "torch.cuda.set_device(2)"
   ]
  },
  {
   "cell_type": "markdown",
   "metadata": {},
   "source": [
    "# data 2015-2017"
   ]
  },
  {
   "cell_type": "code",
   "execution_count": 4,
   "metadata": {},
   "outputs": [],
   "source": [
    "df=pd.read_csv('/data2/datasets/medstar/breast_pathology/lookup 2015-2017.csv')"
   ]
  },
  {
   "cell_type": "code",
   "execution_count": 5,
   "metadata": {},
   "outputs": [
    {
     "data": {
      "text/html": [
       "<div>\n",
       "<style scoped>\n",
       "    .dataframe tbody tr th:only-of-type {\n",
       "        vertical-align: middle;\n",
       "    }\n",
       "\n",
       "    .dataframe tbody tr th {\n",
       "        vertical-align: top;\n",
       "    }\n",
       "\n",
       "    .dataframe thead th {\n",
       "        text-align: right;\n",
       "    }\n",
       "</style>\n",
       "<table border=\"1\" class=\"dataframe\">\n",
       "  <thead>\n",
       "    <tr style=\"text-align: right;\">\n",
       "      <th></th>\n",
       "      <th>Path</th>\n",
       "      <th>Notes</th>\n",
       "      <th>File name</th>\n",
       "    </tr>\n",
       "  </thead>\n",
       "  <tbody>\n",
       "    <tr>\n",
       "      <th>0</th>\n",
       "      <td>Benign</td>\n",
       "      <td>NaN</td>\n",
       "      <td>9ae0ad5a60c745805466caa5dd4e29a7.txt</td>\n",
       "    </tr>\n",
       "    <tr>\n",
       "      <th>1</th>\n",
       "      <td>Benign</td>\n",
       "      <td>NaN</td>\n",
       "      <td>ed607e409c73353f0d0ab94d5cca1b6e.txt</td>\n",
       "    </tr>\n",
       "    <tr>\n",
       "      <th>2</th>\n",
       "      <td>Malignant</td>\n",
       "      <td>NaN</td>\n",
       "      <td>ed607e409c73353f0d0ab94d5cca1b6e.txt</td>\n",
       "    </tr>\n",
       "    <tr>\n",
       "      <th>3</th>\n",
       "      <td>Benign</td>\n",
       "      <td>NaN</td>\n",
       "      <td>fbf2e75883507455721fa410cefe8213.txt</td>\n",
       "    </tr>\n",
       "    <tr>\n",
       "      <th>4</th>\n",
       "      <td>Benign</td>\n",
       "      <td>NaN</td>\n",
       "      <td>6aaec96d9a3c31aa9711bc453dbaea73.txt</td>\n",
       "    </tr>\n",
       "  </tbody>\n",
       "</table>\n",
       "</div>"
      ],
      "text/plain": [
       "        Path Notes                             File name\n",
       "0     Benign   NaN  9ae0ad5a60c745805466caa5dd4e29a7.txt\n",
       "1     Benign   NaN  ed607e409c73353f0d0ab94d5cca1b6e.txt\n",
       "2  Malignant   NaN  ed607e409c73353f0d0ab94d5cca1b6e.txt\n",
       "3     Benign   NaN  fbf2e75883507455721fa410cefe8213.txt\n",
       "4     Benign   NaN  6aaec96d9a3c31aa9711bc453dbaea73.txt"
      ]
     },
     "execution_count": 5,
     "metadata": {},
     "output_type": "execute_result"
    }
   ],
   "source": [
    "df.head()"
   ]
  },
  {
   "cell_type": "code",
   "execution_count": 6,
   "metadata": {},
   "outputs": [
    {
     "data": {
      "text/plain": [
       "Benign       1263\n",
       "Malignant     426\n",
       "EXCLUDE        10\n",
       "0               4\n",
       "Name: Path, dtype: int64"
      ]
     },
     "execution_count": 6,
     "metadata": {},
     "output_type": "execute_result"
    }
   ],
   "source": [
    "df['Path'].value_counts()"
   ]
  },
  {
   "cell_type": "code",
   "execution_count": 11,
   "metadata": {},
   "outputs": [
    {
     "data": {
      "text/plain": [
       "HRL    148\n",
       "Name: Notes, dtype: int64"
      ]
     },
     "execution_count": 11,
     "metadata": {},
     "output_type": "execute_result"
    }
   ],
   "source": [
    "df['Notes'].value_counts()"
   ]
  },
  {
   "cell_type": "code",
   "execution_count": 13,
   "metadata": {},
   "outputs": [
    {
     "data": {
      "text/plain": [
       "array([nan, 'HRL'], dtype=object)"
      ]
     },
     "execution_count": 13,
     "metadata": {},
     "output_type": "execute_result"
    }
   ],
   "source": [
    "df['Notes'].unique()"
   ]
  },
  {
   "cell_type": "code",
   "execution_count": 14,
   "metadata": {},
   "outputs": [],
   "source": [
    "def func(x):\n",
    "    text=open(os.path.join(path,x))\n",
    "    return text.read()"
   ]
  },
  {
   "cell_type": "code",
   "execution_count": 15,
   "metadata": {},
   "outputs": [],
   "source": [
    "path='/data2/datasets/medstar/breast_pathology/pathology_anonymized_report'"
   ]
  },
  {
   "cell_type": "code",
   "execution_count": 16,
   "metadata": {},
   "outputs": [
    {
     "data": {
      "text/plain": [
       "Index(['Path', 'Notes', 'File name'], dtype='object')"
      ]
     },
     "execution_count": 16,
     "metadata": {},
     "output_type": "execute_result"
    }
   ],
   "source": [
    "df.columns"
   ]
  },
  {
   "cell_type": "code",
   "execution_count": 17,
   "metadata": {},
   "outputs": [],
   "source": [
    "df['text']=df['File name'].apply(func)"
   ]
  },
  {
   "cell_type": "code",
   "execution_count": 18,
   "metadata": {},
   "outputs": [
    {
     "data": {
      "text/html": [
       "<div>\n",
       "<style scoped>\n",
       "    .dataframe tbody tr th:only-of-type {\n",
       "        vertical-align: middle;\n",
       "    }\n",
       "\n",
       "    .dataframe tbody tr th {\n",
       "        vertical-align: top;\n",
       "    }\n",
       "\n",
       "    .dataframe thead th {\n",
       "        text-align: right;\n",
       "    }\n",
       "</style>\n",
       "<table border=\"1\" class=\"dataframe\">\n",
       "  <thead>\n",
       "    <tr style=\"text-align: right;\">\n",
       "      <th></th>\n",
       "      <th>Path</th>\n",
       "      <th>Notes</th>\n",
       "      <th>File name</th>\n",
       "      <th>text</th>\n",
       "    </tr>\n",
       "  </thead>\n",
       "  <tbody>\n",
       "    <tr>\n",
       "      <th>0</th>\n",
       "      <td>Benign</td>\n",
       "      <td>NaN</td>\n",
       "      <td>9ae0ad5a60c745805466caa5dd4e29a7.txt</td>\n",
       "      <td>Source of Specimen\\nA\\tLeft Breast Cyst (9 o'c...</td>\n",
       "    </tr>\n",
       "    <tr>\n",
       "      <th>1</th>\n",
       "      <td>Benign</td>\n",
       "      <td>NaN</td>\n",
       "      <td>ed607e409c73353f0d0ab94d5cca1b6e.txt</td>\n",
       "      <td>Source of Specimen\\nA\\tRight breast cores\\nB\\t...</td>\n",
       "    </tr>\n",
       "    <tr>\n",
       "      <th>2</th>\n",
       "      <td>Malignant</td>\n",
       "      <td>NaN</td>\n",
       "      <td>ed607e409c73353f0d0ab94d5cca1b6e.txt</td>\n",
       "      <td>Source of Specimen\\nA\\tRight breast cores\\nB\\t...</td>\n",
       "    </tr>\n",
       "    <tr>\n",
       "      <th>3</th>\n",
       "      <td>Benign</td>\n",
       "      <td>NaN</td>\n",
       "      <td>fbf2e75883507455721fa410cefe8213.txt</td>\n",
       "      <td>Addendum\\nAfter discussion with a radiologist,...</td>\n",
       "    </tr>\n",
       "    <tr>\n",
       "      <th>4</th>\n",
       "      <td>Benign</td>\n",
       "      <td>NaN</td>\n",
       "      <td>6aaec96d9a3c31aa9711bc453dbaea73.txt</td>\n",
       "      <td>Source of Specimen\\nA\\tRight breast core bx\\nC...</td>\n",
       "    </tr>\n",
       "  </tbody>\n",
       "</table>\n",
       "</div>"
      ],
      "text/plain": [
       "        Path Notes                             File name  \\\n",
       "0     Benign   NaN  9ae0ad5a60c745805466caa5dd4e29a7.txt   \n",
       "1     Benign   NaN  ed607e409c73353f0d0ab94d5cca1b6e.txt   \n",
       "2  Malignant   NaN  ed607e409c73353f0d0ab94d5cca1b6e.txt   \n",
       "3     Benign   NaN  fbf2e75883507455721fa410cefe8213.txt   \n",
       "4     Benign   NaN  6aaec96d9a3c31aa9711bc453dbaea73.txt   \n",
       "\n",
       "                                                text  \n",
       "0  Source of Specimen\\nA\\tLeft Breast Cyst (9 o'c...  \n",
       "1  Source of Specimen\\nA\\tRight breast cores\\nB\\t...  \n",
       "2  Source of Specimen\\nA\\tRight breast cores\\nB\\t...  \n",
       "3  Addendum\\nAfter discussion with a radiologist,...  \n",
       "4  Source of Specimen\\nA\\tRight breast core bx\\nC...  "
      ]
     },
     "execution_count": 18,
     "metadata": {},
     "output_type": "execute_result"
    }
   ],
   "source": [
    "df.head()"
   ]
  },
  {
   "cell_type": "markdown",
   "metadata": {},
   "source": [
    "## drop EXCLUDE and O"
   ]
  },
  {
   "cell_type": "code",
   "execution_count": 19,
   "metadata": {},
   "outputs": [],
   "source": [
    "df=df[(df['Path']=='Benign') |(df['Path']=='Malignant')]"
   ]
  },
  {
   "cell_type": "code",
   "execution_count": 20,
   "metadata": {},
   "outputs": [
    {
     "data": {
      "text/plain": [
       "Benign       1263\n",
       "Malignant     426\n",
       "Name: Path, dtype: int64"
      ]
     },
     "execution_count": 20,
     "metadata": {},
     "output_type": "execute_result"
    }
   ],
   "source": [
    "df['Path'].value_counts()"
   ]
  },
  {
   "cell_type": "markdown",
   "metadata": {},
   "source": [
    "## drop duplicates"
   ]
  },
  {
   "cell_type": "code",
   "execution_count": 34,
   "metadata": {},
   "outputs": [
    {
     "data": {
      "text/plain": [
       "268"
      ]
     },
     "execution_count": 34,
     "metadata": {},
     "output_type": "execute_result"
    }
   ],
   "source": [
    "df.duplicated('File name').sum()"
   ]
  },
  {
   "cell_type": "code",
   "execution_count": 35,
   "metadata": {},
   "outputs": [],
   "source": [
    "df.drop_duplicates('File name',inplace=True)"
   ]
  },
  {
   "cell_type": "markdown",
   "metadata": {},
   "source": [
    "# data 2018"
   ]
  },
  {
   "cell_type": "code",
   "execution_count": 21,
   "metadata": {},
   "outputs": [],
   "source": [
    "data=pd.read_csv('/data2/datasets/medstar/breast_pathology/lookup.csv')"
   ]
  },
  {
   "cell_type": "code",
   "execution_count": 22,
   "metadata": {},
   "outputs": [
    {
     "data": {
      "text/html": [
       "<div>\n",
       "<style scoped>\n",
       "    .dataframe tbody tr th:only-of-type {\n",
       "        vertical-align: middle;\n",
       "    }\n",
       "\n",
       "    .dataframe tbody tr th {\n",
       "        vertical-align: top;\n",
       "    }\n",
       "\n",
       "    .dataframe thead th {\n",
       "        text-align: right;\n",
       "    }\n",
       "</style>\n",
       "<table border=\"1\" class=\"dataframe\">\n",
       "  <thead>\n",
       "    <tr style=\"text-align: right;\">\n",
       "      <th></th>\n",
       "      <th>File Name</th>\n",
       "      <th>Path</th>\n",
       "      <th>Notes</th>\n",
       "    </tr>\n",
       "  </thead>\n",
       "  <tbody>\n",
       "    <tr>\n",
       "      <th>0</th>\n",
       "      <td>522a68932d261e3d9c07db8f93073d05.txt</td>\n",
       "      <td>Benign</td>\n",
       "      <td>NaN</td>\n",
       "    </tr>\n",
       "    <tr>\n",
       "      <th>1</th>\n",
       "      <td>1554f75ecbb52e6ade28b3158e47e4a5.txt</td>\n",
       "      <td>Benign</td>\n",
       "      <td>NaN</td>\n",
       "    </tr>\n",
       "    <tr>\n",
       "      <th>2</th>\n",
       "      <td>df2c9febb31db2795e65a057507e3c9a.txt</td>\n",
       "      <td>Benign</td>\n",
       "      <td>NaN</td>\n",
       "    </tr>\n",
       "    <tr>\n",
       "      <th>3</th>\n",
       "      <td>0d41aa9f8d070227f0ee83f73b4480c1.txt</td>\n",
       "      <td>Benign</td>\n",
       "      <td>NaN</td>\n",
       "    </tr>\n",
       "    <tr>\n",
       "      <th>4</th>\n",
       "      <td>df610ecbbffe4c0fad802718425ee7b3.txt</td>\n",
       "      <td>Benign</td>\n",
       "      <td>NaN</td>\n",
       "    </tr>\n",
       "  </tbody>\n",
       "</table>\n",
       "</div>"
      ],
      "text/plain": [
       "                             File Name     Path Notes\n",
       "0  522a68932d261e3d9c07db8f93073d05.txt  Benign   NaN\n",
       "1  1554f75ecbb52e6ade28b3158e47e4a5.txt  Benign   NaN\n",
       "2  df2c9febb31db2795e65a057507e3c9a.txt  Benign   NaN\n",
       "3  0d41aa9f8d070227f0ee83f73b4480c1.txt  Benign   NaN\n",
       "4  df610ecbbffe4c0fad802718425ee7b3.txt  Benign   NaN"
      ]
     },
     "execution_count": 22,
     "metadata": {},
     "output_type": "execute_result"
    }
   ],
   "source": [
    "data.head()"
   ]
  },
  {
   "cell_type": "code",
   "execution_count": 23,
   "metadata": {},
   "outputs": [
    {
     "data": {
      "text/html": [
       "<div>\n",
       "<style scoped>\n",
       "    .dataframe tbody tr th:only-of-type {\n",
       "        vertical-align: middle;\n",
       "    }\n",
       "\n",
       "    .dataframe tbody tr th {\n",
       "        vertical-align: top;\n",
       "    }\n",
       "\n",
       "    .dataframe thead th {\n",
       "        text-align: right;\n",
       "    }\n",
       "</style>\n",
       "<table border=\"1\" class=\"dataframe\">\n",
       "  <thead>\n",
       "    <tr style=\"text-align: right;\">\n",
       "      <th></th>\n",
       "      <th>File Name</th>\n",
       "      <th>Path</th>\n",
       "      <th>Notes</th>\n",
       "    </tr>\n",
       "  </thead>\n",
       "  <tbody>\n",
       "    <tr>\n",
       "      <th>count</th>\n",
       "      <td>2658</td>\n",
       "      <td>2658</td>\n",
       "      <td>197</td>\n",
       "    </tr>\n",
       "    <tr>\n",
       "      <th>unique</th>\n",
       "      <td>2207</td>\n",
       "      <td>3</td>\n",
       "      <td>1</td>\n",
       "    </tr>\n",
       "    <tr>\n",
       "      <th>top</th>\n",
       "      <td>6310296a6e942e107bbd0da5bf082dbe.txt</td>\n",
       "      <td>Benign</td>\n",
       "      <td>HRL</td>\n",
       "    </tr>\n",
       "    <tr>\n",
       "      <th>freq</th>\n",
       "      <td>8</td>\n",
       "      <td>1924</td>\n",
       "      <td>197</td>\n",
       "    </tr>\n",
       "  </tbody>\n",
       "</table>\n",
       "</div>"
      ],
      "text/plain": [
       "                                  File Name     Path Notes\n",
       "count                                   2658    2658   197\n",
       "unique                                  2207       3     1\n",
       "top     6310296a6e942e107bbd0da5bf082dbe.txt  Benign   HRL\n",
       "freq                                       8    1924   197"
      ]
     },
     "execution_count": 23,
     "metadata": {},
     "output_type": "execute_result"
    }
   ],
   "source": [
    "data.describe()"
   ]
  },
  {
   "cell_type": "code",
   "execution_count": 24,
   "metadata": {},
   "outputs": [
    {
     "data": {
      "text/plain": [
       "Benign       1924\n",
       "Malignant     729\n",
       "benign          5\n",
       "Name: Path, dtype: int64"
      ]
     },
     "execution_count": 24,
     "metadata": {},
     "output_type": "execute_result"
    }
   ],
   "source": [
    "data['Path'].value_counts()"
   ]
  },
  {
   "cell_type": "code",
   "execution_count": 25,
   "metadata": {},
   "outputs": [
    {
     "data": {
      "text/plain": [
       "array(['Benign', 'Malignant', 'benign'], dtype=object)"
      ]
     },
     "execution_count": 25,
     "metadata": {},
     "output_type": "execute_result"
    }
   ],
   "source": [
    "data['Path'].unique()"
   ]
  },
  {
   "cell_type": "code",
   "execution_count": 26,
   "metadata": {},
   "outputs": [],
   "source": [
    "data['Path'].replace(regex='benign', value='Benign', inplace=True)"
   ]
  },
  {
   "cell_type": "code",
   "execution_count": 27,
   "metadata": {},
   "outputs": [
    {
     "data": {
      "text/plain": [
       "Benign       1929\n",
       "Malignant     729\n",
       "Name: Path, dtype: int64"
      ]
     },
     "execution_count": 27,
     "metadata": {},
     "output_type": "execute_result"
    }
   ],
   "source": [
    "data['Path'].value_counts()"
   ]
  },
  {
   "cell_type": "code",
   "execution_count": 28,
   "metadata": {},
   "outputs": [
    {
     "data": {
      "text/plain": [
       "HRL    197\n",
       "Name: Notes, dtype: int64"
      ]
     },
     "execution_count": 28,
     "metadata": {},
     "output_type": "execute_result"
    }
   ],
   "source": [
    "data['Notes'].value_counts()"
   ]
  },
  {
   "cell_type": "code",
   "execution_count": 29,
   "metadata": {},
   "outputs": [
    {
     "data": {
      "text/plain": [
       "array([nan, 'HRL'], dtype=object)"
      ]
     },
     "execution_count": 29,
     "metadata": {},
     "output_type": "execute_result"
    }
   ],
   "source": [
    "data['Notes'].unique()"
   ]
  },
  {
   "cell_type": "code",
   "execution_count": 30,
   "metadata": {},
   "outputs": [
    {
     "data": {
      "text/plain": [
       "0"
      ]
     },
     "execution_count": 30,
     "metadata": {},
     "output_type": "execute_result"
    }
   ],
   "source": [
    "data['File Name '].isna().sum()"
   ]
  },
  {
   "cell_type": "code",
   "execution_count": 31,
   "metadata": {},
   "outputs": [],
   "source": [
    "data['text']=data['File Name '].apply(func)"
   ]
  },
  {
   "cell_type": "code",
   "execution_count": 32,
   "metadata": {},
   "outputs": [
    {
     "data": {
      "text/html": [
       "<div>\n",
       "<style scoped>\n",
       "    .dataframe tbody tr th:only-of-type {\n",
       "        vertical-align: middle;\n",
       "    }\n",
       "\n",
       "    .dataframe tbody tr th {\n",
       "        vertical-align: top;\n",
       "    }\n",
       "\n",
       "    .dataframe thead th {\n",
       "        text-align: right;\n",
       "    }\n",
       "</style>\n",
       "<table border=\"1\" class=\"dataframe\">\n",
       "  <thead>\n",
       "    <tr style=\"text-align: right;\">\n",
       "      <th></th>\n",
       "      <th>File Name</th>\n",
       "      <th>Path</th>\n",
       "      <th>Notes</th>\n",
       "      <th>text</th>\n",
       "    </tr>\n",
       "  </thead>\n",
       "  <tbody>\n",
       "    <tr>\n",
       "      <th>0</th>\n",
       "      <td>522a68932d261e3d9c07db8f93073d05.txt</td>\n",
       "      <td>Benign</td>\n",
       "      <td>NaN</td>\n",
       "      <td>Final Diagnosis\\n\\nBREAST, LEFT, BIOPSY;\\n -\\t...</td>\n",
       "    </tr>\n",
       "    <tr>\n",
       "      <th>1</th>\n",
       "      <td>1554f75ecbb52e6ade28b3158e47e4a5.txt</td>\n",
       "      <td>Benign</td>\n",
       "      <td>NaN</td>\n",
       "      <td>Source of Specimen\\nA\\tBRST BX EXC MRG\\tLEFT B...</td>\n",
       "    </tr>\n",
       "    <tr>\n",
       "      <th>2</th>\n",
       "      <td>df2c9febb31db2795e65a057507e3c9a.txt</td>\n",
       "      <td>Benign</td>\n",
       "      <td>NaN</td>\n",
       "      <td>Source of Specimen\\nA\\tRIGHT BREAST 9 GAUGE\\n\\...</td>\n",
       "    </tr>\n",
       "    <tr>\n",
       "      <th>3</th>\n",
       "      <td>0d41aa9f8d070227f0ee83f73b4480c1.txt</td>\n",
       "      <td>Benign</td>\n",
       "      <td>NaN</td>\n",
       "      <td>Source of Specimen\\nA\\tLT BREAST BX  9 GAUGE\\n...</td>\n",
       "    </tr>\n",
       "    <tr>\n",
       "      <th>4</th>\n",
       "      <td>df610ecbbffe4c0fad802718425ee7b3.txt</td>\n",
       "      <td>Benign</td>\n",
       "      <td>NaN</td>\n",
       "      <td>Source of Specimen\\nA\\t9 GAUGE RT BREAST STERE...</td>\n",
       "    </tr>\n",
       "  </tbody>\n",
       "</table>\n",
       "</div>"
      ],
      "text/plain": [
       "                             File Name     Path Notes  \\\n",
       "0  522a68932d261e3d9c07db8f93073d05.txt  Benign   NaN   \n",
       "1  1554f75ecbb52e6ade28b3158e47e4a5.txt  Benign   NaN   \n",
       "2  df2c9febb31db2795e65a057507e3c9a.txt  Benign   NaN   \n",
       "3  0d41aa9f8d070227f0ee83f73b4480c1.txt  Benign   NaN   \n",
       "4  df610ecbbffe4c0fad802718425ee7b3.txt  Benign   NaN   \n",
       "\n",
       "                                                text  \n",
       "0  Final Diagnosis\\n\\nBREAST, LEFT, BIOPSY;\\n -\\t...  \n",
       "1  Source of Specimen\\nA\\tBRST BX EXC MRG\\tLEFT B...  \n",
       "2  Source of Specimen\\nA\\tRIGHT BREAST 9 GAUGE\\n\\...  \n",
       "3  Source of Specimen\\nA\\tLT BREAST BX  9 GAUGE\\n...  \n",
       "4  Source of Specimen\\nA\\t9 GAUGE RT BREAST STERE...  "
      ]
     },
     "execution_count": 32,
     "metadata": {},
     "output_type": "execute_result"
    }
   ],
   "source": [
    "data.head()"
   ]
  },
  {
   "cell_type": "code",
   "execution_count": 36,
   "metadata": {},
   "outputs": [
    {
     "data": {
      "text/plain": [
       "451"
      ]
     },
     "execution_count": 36,
     "metadata": {},
     "output_type": "execute_result"
    }
   ],
   "source": [
    "data.duplicated('File Name ').sum()"
   ]
  },
  {
   "cell_type": "code",
   "execution_count": 37,
   "metadata": {},
   "outputs": [
    {
     "data": {
      "text/plain": [
       "6310296a6e942e107bbd0da5bf082dbe.txt    8\n",
       "e15afda0f6a3ee205f908ff6816d4469.txt    5\n",
       "e001bc7376389d312b44c0776d7bc21c.txt    5\n",
       "48b8dcaf4b8b26b78322f65881879972.txt    4\n",
       "513c7d94a3e5994943ac015b40142590.txt    4\n",
       "                                       ..\n",
       "bb5d11af98ca596a364ea239225afa53.txt    1\n",
       "3cb85990fc8c3729bd5a742e475d86ee.txt    1\n",
       "fb16405043415c8890b662e4fa25db97.txt    1\n",
       "dac4809cdb7ddb4a75292f49304cf4c3.txt    1\n",
       "d441512892ab5862e801e4fa6e3fad45.txt    1\n",
       "Name: File Name , Length: 2207, dtype: int64"
      ]
     },
     "execution_count": 37,
     "metadata": {},
     "output_type": "execute_result"
    }
   ],
   "source": [
    "data['File Name '].value_counts()"
   ]
  },
  {
   "cell_type": "code",
   "execution_count": 45,
   "metadata": {},
   "outputs": [
    {
     "data": {
      "text/html": [
       "<div>\n",
       "<style scoped>\n",
       "    .dataframe tbody tr th:only-of-type {\n",
       "        vertical-align: middle;\n",
       "    }\n",
       "\n",
       "    .dataframe tbody tr th {\n",
       "        vertical-align: top;\n",
       "    }\n",
       "\n",
       "    .dataframe thead th {\n",
       "        text-align: right;\n",
       "    }\n",
       "</style>\n",
       "<table border=\"1\" class=\"dataframe\">\n",
       "  <thead>\n",
       "    <tr style=\"text-align: right;\">\n",
       "      <th></th>\n",
       "      <th>File Name</th>\n",
       "      <th>Path</th>\n",
       "      <th>Notes</th>\n",
       "      <th>text</th>\n",
       "    </tr>\n",
       "  </thead>\n",
       "  <tbody>\n",
       "    <tr>\n",
       "      <th>1405</th>\n",
       "      <td>6310296a6e942e107bbd0da5bf082dbe.txt</td>\n",
       "      <td>Malignant</td>\n",
       "      <td>NaN</td>\n",
       "      <td>Final Diagnosis\\nRight breast (7 o'clock), cor...</td>\n",
       "    </tr>\n",
       "    <tr>\n",
       "      <th>1406</th>\n",
       "      <td>6310296a6e942e107bbd0da5bf082dbe.txt</td>\n",
       "      <td>Malignant</td>\n",
       "      <td>NaN</td>\n",
       "      <td>Final Diagnosis\\nRight breast (7 o'clock), cor...</td>\n",
       "    </tr>\n",
       "    <tr>\n",
       "      <th>1408</th>\n",
       "      <td>6310296a6e942e107bbd0da5bf082dbe.txt</td>\n",
       "      <td>Malignant</td>\n",
       "      <td>NaN</td>\n",
       "      <td>Final Diagnosis\\nRight breast (7 o'clock), cor...</td>\n",
       "    </tr>\n",
       "    <tr>\n",
       "      <th>1409</th>\n",
       "      <td>6310296a6e942e107bbd0da5bf082dbe.txt</td>\n",
       "      <td>Malignant</td>\n",
       "      <td>NaN</td>\n",
       "      <td>Final Diagnosis\\nRight breast (7 o'clock), cor...</td>\n",
       "    </tr>\n",
       "    <tr>\n",
       "      <th>1411</th>\n",
       "      <td>6310296a6e942e107bbd0da5bf082dbe.txt</td>\n",
       "      <td>Malignant</td>\n",
       "      <td>NaN</td>\n",
       "      <td>Final Diagnosis\\nRight breast (7 o'clock), cor...</td>\n",
       "    </tr>\n",
       "    <tr>\n",
       "      <th>1412</th>\n",
       "      <td>6310296a6e942e107bbd0da5bf082dbe.txt</td>\n",
       "      <td>Malignant</td>\n",
       "      <td>NaN</td>\n",
       "      <td>Final Diagnosis\\nRight breast (7 o'clock), cor...</td>\n",
       "    </tr>\n",
       "    <tr>\n",
       "      <th>1422</th>\n",
       "      <td>6310296a6e942e107bbd0da5bf082dbe.txt</td>\n",
       "      <td>Benign</td>\n",
       "      <td>NaN</td>\n",
       "      <td>Final Diagnosis\\nRight breast (7 o'clock), cor...</td>\n",
       "    </tr>\n",
       "    <tr>\n",
       "      <th>1423</th>\n",
       "      <td>6310296a6e942e107bbd0da5bf082dbe.txt</td>\n",
       "      <td>Benign</td>\n",
       "      <td>NaN</td>\n",
       "      <td>Final Diagnosis\\nRight breast (7 o'clock), cor...</td>\n",
       "    </tr>\n",
       "  </tbody>\n",
       "</table>\n",
       "</div>"
      ],
      "text/plain": [
       "                                File Name        Path Notes  \\\n",
       "1405  6310296a6e942e107bbd0da5bf082dbe.txt  Malignant   NaN   \n",
       "1406  6310296a6e942e107bbd0da5bf082dbe.txt  Malignant   NaN   \n",
       "1408  6310296a6e942e107bbd0da5bf082dbe.txt  Malignant   NaN   \n",
       "1409  6310296a6e942e107bbd0da5bf082dbe.txt  Malignant   NaN   \n",
       "1411  6310296a6e942e107bbd0da5bf082dbe.txt  Malignant   NaN   \n",
       "1412  6310296a6e942e107bbd0da5bf082dbe.txt  Malignant   NaN   \n",
       "1422  6310296a6e942e107bbd0da5bf082dbe.txt     Benign   NaN   \n",
       "1423  6310296a6e942e107bbd0da5bf082dbe.txt     Benign   NaN   \n",
       "\n",
       "                                                   text  \n",
       "1405  Final Diagnosis\\nRight breast (7 o'clock), cor...  \n",
       "1406  Final Diagnosis\\nRight breast (7 o'clock), cor...  \n",
       "1408  Final Diagnosis\\nRight breast (7 o'clock), cor...  \n",
       "1409  Final Diagnosis\\nRight breast (7 o'clock), cor...  \n",
       "1411  Final Diagnosis\\nRight breast (7 o'clock), cor...  \n",
       "1412  Final Diagnosis\\nRight breast (7 o'clock), cor...  \n",
       "1422  Final Diagnosis\\nRight breast (7 o'clock), cor...  \n",
       "1423  Final Diagnosis\\nRight breast (7 o'clock), cor...  "
      ]
     },
     "execution_count": 45,
     "metadata": {},
     "output_type": "execute_result"
    }
   ],
   "source": [
    "data[data['File Name ']=='6310296a6e942e107bbd0da5bf082dbe.txt']"
   ]
  },
  {
   "cell_type": "code",
   "execution_count": 38,
   "metadata": {},
   "outputs": [],
   "source": [
    "data.drop_duplicates('File Name ',inplace=True)"
   ]
  },
  {
   "cell_type": "code",
   "execution_count": 48,
   "metadata": {},
   "outputs": [
    {
     "data": {
      "text/plain": [
       "0"
      ]
     },
     "execution_count": 48,
     "metadata": {},
     "output_type": "execute_result"
    }
   ],
   "source": [
    "data.duplicated().sum()"
   ]
  },
  {
   "cell_type": "markdown",
   "metadata": {},
   "source": [
    "# Concatenate the two data"
   ]
  },
  {
   "cell_type": "code",
   "execution_count": 39,
   "metadata": {},
   "outputs": [
    {
     "data": {
      "text/plain": [
       "Index(['Path', 'Notes', 'File name', 'text'], dtype='object')"
      ]
     },
     "execution_count": 39,
     "metadata": {},
     "output_type": "execute_result"
    }
   ],
   "source": [
    "df.columns"
   ]
  },
  {
   "cell_type": "code",
   "execution_count": 40,
   "metadata": {},
   "outputs": [
    {
     "data": {
      "text/plain": [
       "Index(['File Name ', 'Path', 'Notes', 'text'], dtype='object')"
      ]
     },
     "execution_count": 40,
     "metadata": {},
     "output_type": "execute_result"
    }
   ],
   "source": [
    "data.columns"
   ]
  },
  {
   "cell_type": "code",
   "execution_count": 41,
   "metadata": {},
   "outputs": [],
   "source": [
    "data.rename(columns={'File Name ':'File name'}, inplace=True)"
   ]
  },
  {
   "cell_type": "code",
   "execution_count": 42,
   "metadata": {},
   "outputs": [
    {
     "data": {
      "text/plain": [
       "Index(['File name', 'Path', 'Notes', 'text'], dtype='object')"
      ]
     },
     "execution_count": 42,
     "metadata": {},
     "output_type": "execute_result"
    }
   ],
   "source": [
    "data.columns"
   ]
  },
  {
   "cell_type": "code",
   "execution_count": 45,
   "metadata": {},
   "outputs": [
    {
     "data": {
      "text/html": [
       "<div>\n",
       "<style scoped>\n",
       "    .dataframe tbody tr th:only-of-type {\n",
       "        vertical-align: middle;\n",
       "    }\n",
       "\n",
       "    .dataframe tbody tr th {\n",
       "        vertical-align: top;\n",
       "    }\n",
       "\n",
       "    .dataframe thead th {\n",
       "        text-align: right;\n",
       "    }\n",
       "</style>\n",
       "<table border=\"1\" class=\"dataframe\">\n",
       "  <thead>\n",
       "    <tr style=\"text-align: right;\">\n",
       "      <th></th>\n",
       "      <th>Path</th>\n",
       "      <th>Notes</th>\n",
       "      <th>File name</th>\n",
       "      <th>text</th>\n",
       "    </tr>\n",
       "  </thead>\n",
       "  <tbody>\n",
       "    <tr>\n",
       "      <th>0</th>\n",
       "      <td>Benign</td>\n",
       "      <td>NaN</td>\n",
       "      <td>9ae0ad5a60c745805466caa5dd4e29a7.txt</td>\n",
       "      <td>Source of Specimen\\nA\\tLeft Breast Cyst (9 o'c...</td>\n",
       "    </tr>\n",
       "    <tr>\n",
       "      <th>1</th>\n",
       "      <td>Benign</td>\n",
       "      <td>NaN</td>\n",
       "      <td>ed607e409c73353f0d0ab94d5cca1b6e.txt</td>\n",
       "      <td>Source of Specimen\\nA\\tRight breast cores\\nB\\t...</td>\n",
       "    </tr>\n",
       "    <tr>\n",
       "      <th>3</th>\n",
       "      <td>Benign</td>\n",
       "      <td>NaN</td>\n",
       "      <td>fbf2e75883507455721fa410cefe8213.txt</td>\n",
       "      <td>Addendum\\nAfter discussion with a radiologist,...</td>\n",
       "    </tr>\n",
       "    <tr>\n",
       "      <th>4</th>\n",
       "      <td>Benign</td>\n",
       "      <td>NaN</td>\n",
       "      <td>6aaec96d9a3c31aa9711bc453dbaea73.txt</td>\n",
       "      <td>Source of Specimen\\nA\\tRight breast core bx\\nC...</td>\n",
       "    </tr>\n",
       "    <tr>\n",
       "      <th>5</th>\n",
       "      <td>Benign</td>\n",
       "      <td>NaN</td>\n",
       "      <td>7c6a5ffcad9f0b91b4189c2a504c4a42.txt</td>\n",
       "      <td>Source of Specimen\\nA\\tRight breast cores with...</td>\n",
       "    </tr>\n",
       "  </tbody>\n",
       "</table>\n",
       "</div>"
      ],
      "text/plain": [
       "     Path Notes                             File name  \\\n",
       "0  Benign   NaN  9ae0ad5a60c745805466caa5dd4e29a7.txt   \n",
       "1  Benign   NaN  ed607e409c73353f0d0ab94d5cca1b6e.txt   \n",
       "3  Benign   NaN  fbf2e75883507455721fa410cefe8213.txt   \n",
       "4  Benign   NaN  6aaec96d9a3c31aa9711bc453dbaea73.txt   \n",
       "5  Benign   NaN  7c6a5ffcad9f0b91b4189c2a504c4a42.txt   \n",
       "\n",
       "                                                text  \n",
       "0  Source of Specimen\\nA\\tLeft Breast Cyst (9 o'c...  \n",
       "1  Source of Specimen\\nA\\tRight breast cores\\nB\\t...  \n",
       "3  Addendum\\nAfter discussion with a radiologist,...  \n",
       "4  Source of Specimen\\nA\\tRight breast core bx\\nC...  \n",
       "5  Source of Specimen\\nA\\tRight breast cores with...  "
      ]
     },
     "execution_count": 45,
     "metadata": {},
     "output_type": "execute_result"
    }
   ],
   "source": [
    "result = pd.concat([df,data])\n",
    "result.head()"
   ]
  },
  {
   "cell_type": "code",
   "execution_count": 46,
   "metadata": {},
   "outputs": [
    {
     "data": {
      "text/plain": [
       "Benign       1624\n",
       "Malignant     583\n",
       "Name: Path, dtype: int64"
      ]
     },
     "execution_count": 46,
     "metadata": {},
     "output_type": "execute_result"
    }
   ],
   "source": [
    "data['Path'].value_counts()"
   ]
  },
  {
   "cell_type": "code",
   "execution_count": 47,
   "metadata": {},
   "outputs": [
    {
     "data": {
      "text/plain": [
       "Benign       1096\n",
       "Malignant     325\n",
       "Name: Path, dtype: int64"
      ]
     },
     "execution_count": 47,
     "metadata": {},
     "output_type": "execute_result"
    }
   ],
   "source": [
    "df['Path'].value_counts()"
   ]
  },
  {
   "cell_type": "code",
   "execution_count": 48,
   "metadata": {},
   "outputs": [
    {
     "data": {
      "text/plain": [
       "Benign       2720\n",
       "Malignant     908\n",
       "Name: Path, dtype: int64"
      ]
     },
     "execution_count": 48,
     "metadata": {},
     "output_type": "execute_result"
    }
   ],
   "source": [
    "result['Path'].value_counts()"
   ]
  },
  {
   "cell_type": "code",
   "execution_count": 49,
   "metadata": {},
   "outputs": [
    {
     "data": {
      "text/plain": [
       "2720"
      ]
     },
     "execution_count": 49,
     "metadata": {},
     "output_type": "execute_result"
    }
   ],
   "source": [
    "1624+1096"
   ]
  },
  {
   "cell_type": "code",
   "execution_count": 50,
   "metadata": {},
   "outputs": [
    {
     "data": {
      "text/plain": [
       "908"
      ]
     },
     "execution_count": 50,
     "metadata": {},
     "output_type": "execute_result"
    }
   ],
   "source": [
    "583+325"
   ]
  },
  {
   "cell_type": "code",
   "execution_count": 51,
   "metadata": {},
   "outputs": [],
   "source": [
    "result.to_csv('data_2015_2018.csv')"
   ]
  },
  {
   "cell_type": "markdown",
   "metadata": {},
   "source": [
    "# Preparing Pathology data"
   ]
  },
  {
   "cell_type": "code",
   "execution_count": 52,
   "metadata": {},
   "outputs": [],
   "source": [
    "df3=pd.DataFrame(result['text'])"
   ]
  },
  {
   "cell_type": "code",
   "execution_count": 53,
   "metadata": {},
   "outputs": [
    {
     "data": {
      "text/html": [
       "<div>\n",
       "<style scoped>\n",
       "    .dataframe tbody tr th:only-of-type {\n",
       "        vertical-align: middle;\n",
       "    }\n",
       "\n",
       "    .dataframe tbody tr th {\n",
       "        vertical-align: top;\n",
       "    }\n",
       "\n",
       "    .dataframe thead th {\n",
       "        text-align: right;\n",
       "    }\n",
       "</style>\n",
       "<table border=\"1\" class=\"dataframe\">\n",
       "  <thead>\n",
       "    <tr style=\"text-align: right;\">\n",
       "      <th></th>\n",
       "      <th>text</th>\n",
       "    </tr>\n",
       "  </thead>\n",
       "  <tbody>\n",
       "    <tr>\n",
       "      <th>0</th>\n",
       "      <td>Source of Specimen\\nA\\tLeft Breast Cyst (9 o'c...</td>\n",
       "    </tr>\n",
       "    <tr>\n",
       "      <th>1</th>\n",
       "      <td>Source of Specimen\\nA\\tRight breast cores\\nB\\t...</td>\n",
       "    </tr>\n",
       "    <tr>\n",
       "      <th>3</th>\n",
       "      <td>Addendum\\nAfter discussion with a radiologist,...</td>\n",
       "    </tr>\n",
       "    <tr>\n",
       "      <th>4</th>\n",
       "      <td>Source of Specimen\\nA\\tRight breast core bx\\nC...</td>\n",
       "    </tr>\n",
       "    <tr>\n",
       "      <th>5</th>\n",
       "      <td>Source of Specimen\\nA\\tRight breast cores with...</td>\n",
       "    </tr>\n",
       "  </tbody>\n",
       "</table>\n",
       "</div>"
      ],
      "text/plain": [
       "                                                text\n",
       "0  Source of Specimen\\nA\\tLeft Breast Cyst (9 o'c...\n",
       "1  Source of Specimen\\nA\\tRight breast cores\\nB\\t...\n",
       "3  Addendum\\nAfter discussion with a radiologist,...\n",
       "4  Source of Specimen\\nA\\tRight breast core bx\\nC...\n",
       "5  Source of Specimen\\nA\\tRight breast cores with..."
      ]
     },
     "execution_count": 53,
     "metadata": {},
     "output_type": "execute_result"
    }
   ],
   "source": [
    "df3.head()"
   ]
  },
  {
   "cell_type": "markdown",
   "metadata": {},
   "source": [
    "# Language Model"
   ]
  },
  {
   "cell_type": "code",
   "execution_count": 54,
   "metadata": {},
   "outputs": [],
   "source": [
    "bs = 64  \n",
    "mypath=Path('/data2/itahir/MedstarProject')\n",
    "data_lm = (TextList.from_df(df3, path, cols='text')\n",
    "                .split_by_rand_pct(0.1)\n",
    "                .label_for_lm()\n",
    "                .databunch(bs=bs))"
   ]
  },
  {
   "cell_type": "code",
   "execution_count": 55,
   "metadata": {},
   "outputs": [],
   "source": [
    "data_lm.save('/data2/itahir/MedstarProject/p_all_data_lm2.pkl')"
   ]
  },
  {
   "cell_type": "code",
   "execution_count": 15,
   "metadata": {},
   "outputs": [],
   "source": [
    "bs = 64  \n",
    "mypath=Path('/data2/itahir/MedstarProject')"
   ]
  },
  {
   "cell_type": "code",
   "execution_count": 5,
   "metadata": {},
   "outputs": [
    {
     "name": "stderr",
     "output_type": "stream",
     "text": [
      "/data2/itahir/anaconda3/lib/python3.7/site-packages/torch/serialization.py:593: SourceChangeWarning: source code of class 'torch.nn.modules.loss.CrossEntropyLoss' has changed. you can retrieve the original source code by accessing the object's source attribute or set `torch.nn.Module.dump_patches = True` and use the patch tool to revert the changes.\n",
      "  warnings.warn(msg, SourceChangeWarning)\n"
     ]
    }
   ],
   "source": [
    "data_lm = load_data(mypath, 'p_all_data_lm2.pkl', bs=bs)"
   ]
  },
  {
   "cell_type": "code",
   "execution_count": 58,
   "metadata": {},
   "outputs": [
    {
     "data": {
      "text/html": [
       "<table border=\"1\" class=\"dataframe\">\n",
       "  <thead>\n",
       "    <tr style=\"text-align: right;\">\n",
       "      <th>idx</th>\n",
       "      <th>text</th>\n",
       "    </tr>\n",
       "  </thead>\n",
       "  <tbody>\n",
       "    <tr>\n",
       "      <td>0</td>\n",
       "      <td>of yellow cyst fluid is received in xxmaj cytology , correctly labeled with the patient 's name and date of birth , which correspond to the identifiers submitted on the requisition form . \\n  xxmaj materials xxmaj prepared and xxmaj examined \\n  xxmaj diff - xxmaj quik stained direct smear / s : 1 \\n  xxmaj papanicolaou - stained thinprep smear / s ( prepared from cytolyt</td>\n",
       "    </tr>\n",
       "    <tr>\n",
       "      <td>1</td>\n",
       "      <td>assay is xxup fda cleared for in vitro diagnostic use for the determination of xxup her2 gene overexpression in paraffin - embedded , formalin - fixed tissue . xxmaj unless otherwise indicated , only the invasive component is considered for scoring . xxup her2 assay has not been validated on decalcified tissues . xxmaj results should be interpreted with caution given the likelihood of false negativity on decalcified specimens .</td>\n",
       "    </tr>\n",
       "    <tr>\n",
       "      <td>2</td>\n",
       "      <td>) xxmaj right breast with calcifications , stereotactic needle core biopsy : \\n  - \\t xxmaj multiple foci of atypical lobular hyperplasia with focal lobular carcinoma in situ with pagetoid spread to adjacent ducts . \\n \\n  - \\t xxmaj polarization reveals occasional foci of birefringent crystals consistent with calcium oxalate . \\n \\n  - \\t xxmaj no evidence of invasive malignancy . \\n \\n  (</td>\n",
       "    </tr>\n",
       "    <tr>\n",
       "      <td>3</td>\n",
       "      <td>specimen \\n  a \\t xxmaj right breast cores \\n  xxmaj clinical xxmaj information \\n  xxmaj new palpable mass in the right breast at 4:00 . xxmaj procedure : xxmaj ultrasound biopsy right breast . \\n \\n  xxmaj gross xxmaj description \\n  xxmaj the specimen is received in a single container . xxmaj this container is correctly labeled with the patient 's name and date of</td>\n",
       "    </tr>\n",
       "    <tr>\n",
       "      <td>4</td>\n",
       "      <td>xxunk with xxunk . j xxmaj clin xxmaj oncol . xxunk - xxunk . \\n  2 . \\t cobas ® xxup kras xxmaj mutation xxmaj test [ package insert]. xxmaj xxunk , xxup in : xxmaj roche xxmaj diagnostics ; xxunk / 2013 . \\n  _ \\n \\n  xxmaj addendum \\n  xxmaj molecular xxmaj diagnostics xxmaj laboratory xxmaj report \\n  xxup egfr xxmaj mutation xxmaj</td>\n",
       "    </tr>\n",
       "  </tbody>\n",
       "</table>"
      ],
      "text/plain": [
       "<IPython.core.display.HTML object>"
      ]
     },
     "metadata": {},
     "output_type": "display_data"
    }
   ],
   "source": [
    "data_lm.show_batch()"
   ]
  },
  {
   "cell_type": "code",
   "execution_count": 59,
   "metadata": {},
   "outputs": [],
   "source": [
    "learn = language_model_learner(data_lm, AWD_LSTM, drop_mult=0.3)"
   ]
  },
  {
   "cell_type": "code",
   "execution_count": 60,
   "metadata": {},
   "outputs": [
    {
     "data": {
      "text/html": [],
      "text/plain": [
       "<IPython.core.display.HTML object>"
      ]
     },
     "metadata": {},
     "output_type": "display_data"
    },
    {
     "name": "stdout",
     "output_type": "stream",
     "text": [
      "LR Finder is complete, type {learner_name}.recorder.plot() to see the graph.\n"
     ]
    }
   ],
   "source": [
    "learn.lr_find()"
   ]
  },
  {
   "cell_type": "code",
   "execution_count": 61,
   "metadata": {},
   "outputs": [
    {
     "data": {
      "image/png": "[encoded data removed]",
      "text/plain": [
       "<Figure size 432x288 with 1 Axes>"
      ]
     },
     "metadata": {
      "needs_background": "light"
     },
     "output_type": "display_data"
    }
   ],
   "source": [
    "learn.recorder.plot(skip_end=15)"
   ]
  },
  {
   "cell_type": "code",
   "execution_count": 62,
   "metadata": {},
   "outputs": [
    {
     "data": {
      "text/html": [
       "<table border=\"1\" class=\"dataframe\">\n",
       "  <thead>\n",
       "    <tr style=\"text-align: left;\">\n",
       "      <th>epoch</th>\n",
       "      <th>train_loss</th>\n",
       "      <th>valid_loss</th>\n",
       "      <th>accuracy</th>\n",
       "      <th>time</th>\n",
       "    </tr>\n",
       "  </thead>\n",
       "  <tbody>\n",
       "    <tr>\n",
       "      <td>0</td>\n",
       "      <td>0.697944</td>\n",
       "      <td>0.615323</td>\n",
       "      <td>0.858678</td>\n",
       "      <td>00:25</td>\n",
       "    </tr>\n",
       "  </tbody>\n",
       "</table>"
      ],
      "text/plain": [
       "<IPython.core.display.HTML object>"
      ]
     },
     "metadata": {},
     "output_type": "display_data"
    }
   ],
   "source": [
    "learn.fit_one_cycle(1, 1e-2, moms=(0.8,0.7))  "
   ]
  },
  {
   "cell_type": "code",
   "execution_count": 63,
   "metadata": {},
   "outputs": [],
   "source": [
    "learn.save('p_all_fit2_head')"
   ]
  },
  {
   "cell_type": "code",
   "execution_count": 64,
   "metadata": {},
   "outputs": [],
   "source": [
    "learn.load('p_all_fit2_head');"
   ]
  },
  {
   "cell_type": "code",
   "execution_count": 65,
   "metadata": {},
   "outputs": [],
   "source": [
    "learn.unfreeze()"
   ]
  },
  {
   "cell_type": "code",
   "execution_count": 66,
   "metadata": {},
   "outputs": [
    {
     "data": {
      "text/html": [],
      "text/plain": [
       "<IPython.core.display.HTML object>"
      ]
     },
     "metadata": {},
     "output_type": "display_data"
    },
    {
     "name": "stdout",
     "output_type": "stream",
     "text": [
      "LR Finder is complete, type {learner_name}.recorder.plot() to see the graph.\n",
      "Min numerical gradient: 2.75E-04\n",
      "Min loss divided by 10: 6.31E-08\n"
     ]
    },
    {
     "data": {
      "image/png": "[encoded data removed]",
      "text/plain": [
       "<Figure size 432x288 with 1 Axes>"
      ]
     },
     "metadata": {
      "needs_background": "light"
     },
     "output_type": "display_data"
    }
   ],
   "source": [
    "learn.lr_find()\n",
    "learn.recorder.plot(suggestion=True)"
   ]
  },
  {
   "cell_type": "code",
   "execution_count": 67,
   "metadata": {
    "scrolled": false
   },
   "outputs": [
    {
     "data": {
      "text/html": [
       "<table border=\"1\" class=\"dataframe\">\n",
       "  <thead>\n",
       "    <tr style=\"text-align: left;\">\n",
       "      <th>epoch</th>\n",
       "      <th>train_loss</th>\n",
       "      <th>valid_loss</th>\n",
       "      <th>accuracy</th>\n",
       "      <th>time</th>\n",
       "    </tr>\n",
       "  </thead>\n",
       "  <tbody>\n",
       "    <tr>\n",
       "      <td>0</td>\n",
       "      <td>0.629968</td>\n",
       "      <td>0.554933</td>\n",
       "      <td>0.868817</td>\n",
       "      <td>00:32</td>\n",
       "    </tr>\n",
       "    <tr>\n",
       "      <td>1</td>\n",
       "      <td>0.511437</td>\n",
       "      <td>0.488639</td>\n",
       "      <td>0.883027</td>\n",
       "      <td>00:32</td>\n",
       "    </tr>\n",
       "    <tr>\n",
       "      <td>2</td>\n",
       "      <td>0.458290</td>\n",
       "      <td>0.455702</td>\n",
       "      <td>0.889996</td>\n",
       "      <td>00:32</td>\n",
       "    </tr>\n",
       "    <tr>\n",
       "      <td>3</td>\n",
       "      <td>0.451374</td>\n",
       "      <td>0.448727</td>\n",
       "      <td>0.891665</td>\n",
       "      <td>00:33</td>\n",
       "    </tr>\n",
       "  </tbody>\n",
       "</table>"
      ],
      "text/plain": [
       "<IPython.core.display.HTML object>"
      ]
     },
     "metadata": {},
     "output_type": "display_data"
    }
   ],
   "source": [
    "learn.fit_one_cycle(4, slice(1e-6,1e-2), moms=(0.8,0.7))"
   ]
  },
  {
   "cell_type": "code",
   "execution_count": 68,
   "metadata": {},
   "outputs": [],
   "source": [
    "learn.save('p_all_fine_2tuned')"
   ]
  },
  {
   "cell_type": "code",
   "execution_count": 69,
   "metadata": {},
   "outputs": [],
   "source": [
    "learn.load('p_all_fine_2tuned');"
   ]
  },
  {
   "cell_type": "code",
   "execution_count": 70,
   "metadata": {},
   "outputs": [],
   "source": [
    "learn.unfreeze()"
   ]
  },
  {
   "cell_type": "code",
   "execution_count": 71,
   "metadata": {},
   "outputs": [
    {
     "data": {
      "text/html": [],
      "text/plain": [
       "<IPython.core.display.HTML object>"
      ]
     },
     "metadata": {},
     "output_type": "display_data"
    },
    {
     "name": "stdout",
     "output_type": "stream",
     "text": [
      "LR Finder is complete, type {learner_name}.recorder.plot() to see the graph.\n"
     ]
    },
    {
     "data": {
      "image/png": "[encoded data removed]",
      "text/plain": [
       "<Figure size 432x288 with 1 Axes>"
      ]
     },
     "metadata": {
      "needs_background": "light"
     },
     "output_type": "display_data"
    }
   ],
   "source": [
    "learn.lr_find()\n",
    "learn.recorder.plot(skip_end=15)"
   ]
  },
  {
   "cell_type": "code",
   "execution_count": 72,
   "metadata": {},
   "outputs": [
    {
     "data": {
      "text/html": [
       "<table border=\"1\" class=\"dataframe\">\n",
       "  <thead>\n",
       "    <tr style=\"text-align: left;\">\n",
       "      <th>epoch</th>\n",
       "      <th>train_loss</th>\n",
       "      <th>valid_loss</th>\n",
       "      <th>accuracy</th>\n",
       "      <th>time</th>\n",
       "    </tr>\n",
       "  </thead>\n",
       "  <tbody>\n",
       "    <tr>\n",
       "      <td>0</td>\n",
       "      <td>0.440955</td>\n",
       "      <td>0.448700</td>\n",
       "      <td>0.891607</td>\n",
       "      <td>00:33</td>\n",
       "    </tr>\n",
       "    <tr>\n",
       "      <td>1</td>\n",
       "      <td>0.424781</td>\n",
       "      <td>0.447233</td>\n",
       "      <td>0.891911</td>\n",
       "      <td>00:33</td>\n",
       "    </tr>\n",
       "    <tr>\n",
       "      <td>2</td>\n",
       "      <td>0.417419</td>\n",
       "      <td>0.446589</td>\n",
       "      <td>0.892040</td>\n",
       "      <td>00:33</td>\n",
       "    </tr>\n",
       "    <tr>\n",
       "      <td>3</td>\n",
       "      <td>0.423298</td>\n",
       "      <td>0.446401</td>\n",
       "      <td>0.892165</td>\n",
       "      <td>00:34</td>\n",
       "    </tr>\n",
       "  </tbody>\n",
       "</table>"
      ],
      "text/plain": [
       "<IPython.core.display.HTML object>"
      ]
     },
     "metadata": {},
     "output_type": "display_data"
    }
   ],
   "source": [
    "learn.fit_one_cycle(4, 1e-5, moms=(0.8,0.7))"
   ]
  },
  {
   "cell_type": "code",
   "execution_count": 73,
   "metadata": {},
   "outputs": [],
   "source": [
    "learn.save('p_all_fine_2tuned_10')"
   ]
  },
  {
   "cell_type": "code",
   "execution_count": 63,
   "metadata": {},
   "outputs": [],
   "source": [
    "learn.load('p_all_fine_2tuned_10');"
   ]
  },
  {
   "cell_type": "code",
   "execution_count": 74,
   "metadata": {},
   "outputs": [],
   "source": [
    "learn.save_encoder('p_all_fine_tuned_enc_6')"
   ]
  },
  {
   "cell_type": "markdown",
   "metadata": {},
   "source": [
    "# Data Split"
   ]
  },
  {
   "cell_type": "code",
   "execution_count": 5,
   "metadata": {},
   "outputs": [],
   "source": [
    "from sklearn.model_selection import StratifiedShuffleSplit"
   ]
  },
  {
   "cell_type": "code",
   "execution_count": 6,
   "metadata": {},
   "outputs": [],
   "source": [
    "split=StratifiedShuffleSplit(n_splits=1,test_size=0.2,random_state=42)"
   ]
  },
  {
   "cell_type": "code",
   "execution_count": 7,
   "metadata": {},
   "outputs": [],
   "source": [
    "#data.to_csv('p_data')"
   ]
  },
  {
   "cell_type": "code",
   "execution_count": 8,
   "metadata": {},
   "outputs": [],
   "source": [
    "data=pd.read_csv('data_2015_2018.csv')"
   ]
  },
  {
   "cell_type": "code",
   "execution_count": 9,
   "metadata": {},
   "outputs": [
    {
     "data": {
      "text/html": [
       "<div>\n",
       "<style scoped>\n",
       "    .dataframe tbody tr th:only-of-type {\n",
       "        vertical-align: middle;\n",
       "    }\n",
       "\n",
       "    .dataframe tbody tr th {\n",
       "        vertical-align: top;\n",
       "    }\n",
       "\n",
       "    .dataframe thead th {\n",
       "        text-align: right;\n",
       "    }\n",
       "</style>\n",
       "<table border=\"1\" class=\"dataframe\">\n",
       "  <thead>\n",
       "    <tr style=\"text-align: right;\">\n",
       "      <th></th>\n",
       "      <th>Unnamed: 0</th>\n",
       "      <th>Path</th>\n",
       "      <th>Notes</th>\n",
       "      <th>File name</th>\n",
       "      <th>text</th>\n",
       "    </tr>\n",
       "  </thead>\n",
       "  <tbody>\n",
       "    <tr>\n",
       "      <th>0</th>\n",
       "      <td>0</td>\n",
       "      <td>Benign</td>\n",
       "      <td>NaN</td>\n",
       "      <td>9ae0ad5a60c745805466caa5dd4e29a7.txt</td>\n",
       "      <td>Source of Specimen\\nA\\tLeft Breast Cyst (9 o'c...</td>\n",
       "    </tr>\n",
       "    <tr>\n",
       "      <th>1</th>\n",
       "      <td>1</td>\n",
       "      <td>Benign</td>\n",
       "      <td>NaN</td>\n",
       "      <td>ed607e409c73353f0d0ab94d5cca1b6e.txt</td>\n",
       "      <td>Source of Specimen\\nA\\tRight breast cores\\nB\\t...</td>\n",
       "    </tr>\n",
       "    <tr>\n",
       "      <th>2</th>\n",
       "      <td>3</td>\n",
       "      <td>Benign</td>\n",
       "      <td>NaN</td>\n",
       "      <td>fbf2e75883507455721fa410cefe8213.txt</td>\n",
       "      <td>Addendum\\nAfter discussion with a radiologist,...</td>\n",
       "    </tr>\n",
       "    <tr>\n",
       "      <th>3</th>\n",
       "      <td>4</td>\n",
       "      <td>Benign</td>\n",
       "      <td>NaN</td>\n",
       "      <td>6aaec96d9a3c31aa9711bc453dbaea73.txt</td>\n",
       "      <td>Source of Specimen\\nA\\tRight breast core bx\\nC...</td>\n",
       "    </tr>\n",
       "    <tr>\n",
       "      <th>4</th>\n",
       "      <td>5</td>\n",
       "      <td>Benign</td>\n",
       "      <td>NaN</td>\n",
       "      <td>7c6a5ffcad9f0b91b4189c2a504c4a42.txt</td>\n",
       "      <td>Source of Specimen\\nA\\tRight breast cores with...</td>\n",
       "    </tr>\n",
       "  </tbody>\n",
       "</table>\n",
       "</div>"
      ],
      "text/plain": [
       "   Unnamed: 0    Path Notes                             File name  \\\n",
       "0           0  Benign   NaN  9ae0ad5a60c745805466caa5dd4e29a7.txt   \n",
       "1           1  Benign   NaN  ed607e409c73353f0d0ab94d5cca1b6e.txt   \n",
       "2           3  Benign   NaN  fbf2e75883507455721fa410cefe8213.txt   \n",
       "3           4  Benign   NaN  6aaec96d9a3c31aa9711bc453dbaea73.txt   \n",
       "4           5  Benign   NaN  7c6a5ffcad9f0b91b4189c2a504c4a42.txt   \n",
       "\n",
       "                                                text  \n",
       "0  Source of Specimen\\nA\\tLeft Breast Cyst (9 o'c...  \n",
       "1  Source of Specimen\\nA\\tRight breast cores\\nB\\t...  \n",
       "2  Addendum\\nAfter discussion with a radiologist,...  \n",
       "3  Source of Specimen\\nA\\tRight breast core bx\\nC...  \n",
       "4  Source of Specimen\\nA\\tRight breast cores with...  "
      ]
     },
     "execution_count": 9,
     "metadata": {},
     "output_type": "execute_result"
    }
   ],
   "source": [
    "data.head()"
   ]
  },
  {
   "cell_type": "code",
   "execution_count": 10,
   "metadata": {},
   "outputs": [],
   "source": [
    "data.drop('Unnamed: 0', axis=1,inplace=True)"
   ]
  },
  {
   "cell_type": "code",
   "execution_count": 11,
   "metadata": {},
   "outputs": [
    {
     "data": {
      "text/plain": [
       "Index(['Path', 'Notes', 'File name', 'text'], dtype='object')"
      ]
     },
     "execution_count": 11,
     "metadata": {},
     "output_type": "execute_result"
    }
   ],
   "source": [
    "data.columns"
   ]
  },
  {
   "cell_type": "code",
   "execution_count": 12,
   "metadata": {},
   "outputs": [
    {
     "data": {
      "text/html": [
       "<div>\n",
       "<style scoped>\n",
       "    .dataframe tbody tr th:only-of-type {\n",
       "        vertical-align: middle;\n",
       "    }\n",
       "\n",
       "    .dataframe tbody tr th {\n",
       "        vertical-align: top;\n",
       "    }\n",
       "\n",
       "    .dataframe thead th {\n",
       "        text-align: right;\n",
       "    }\n",
       "</style>\n",
       "<table border=\"1\" class=\"dataframe\">\n",
       "  <thead>\n",
       "    <tr style=\"text-align: right;\">\n",
       "      <th></th>\n",
       "      <th>Path</th>\n",
       "      <th>Notes</th>\n",
       "      <th>File name</th>\n",
       "      <th>text</th>\n",
       "    </tr>\n",
       "  </thead>\n",
       "  <tbody>\n",
       "    <tr>\n",
       "      <th>0</th>\n",
       "      <td>Benign</td>\n",
       "      <td>NaN</td>\n",
       "      <td>9ae0ad5a60c745805466caa5dd4e29a7.txt</td>\n",
       "      <td>Source of Specimen\\nA\\tLeft Breast Cyst (9 o'c...</td>\n",
       "    </tr>\n",
       "    <tr>\n",
       "      <th>1</th>\n",
       "      <td>Benign</td>\n",
       "      <td>NaN</td>\n",
       "      <td>ed607e409c73353f0d0ab94d5cca1b6e.txt</td>\n",
       "      <td>Source of Specimen\\nA\\tRight breast cores\\nB\\t...</td>\n",
       "    </tr>\n",
       "    <tr>\n",
       "      <th>2</th>\n",
       "      <td>Benign</td>\n",
       "      <td>NaN</td>\n",
       "      <td>fbf2e75883507455721fa410cefe8213.txt</td>\n",
       "      <td>Addendum\\nAfter discussion with a radiologist,...</td>\n",
       "    </tr>\n",
       "    <tr>\n",
       "      <th>3</th>\n",
       "      <td>Benign</td>\n",
       "      <td>NaN</td>\n",
       "      <td>6aaec96d9a3c31aa9711bc453dbaea73.txt</td>\n",
       "      <td>Source of Specimen\\nA\\tRight breast core bx\\nC...</td>\n",
       "    </tr>\n",
       "    <tr>\n",
       "      <th>4</th>\n",
       "      <td>Benign</td>\n",
       "      <td>NaN</td>\n",
       "      <td>7c6a5ffcad9f0b91b4189c2a504c4a42.txt</td>\n",
       "      <td>Source of Specimen\\nA\\tRight breast cores with...</td>\n",
       "    </tr>\n",
       "  </tbody>\n",
       "</table>\n",
       "</div>"
      ],
      "text/plain": [
       "     Path Notes                             File name  \\\n",
       "0  Benign   NaN  9ae0ad5a60c745805466caa5dd4e29a7.txt   \n",
       "1  Benign   NaN  ed607e409c73353f0d0ab94d5cca1b6e.txt   \n",
       "2  Benign   NaN  fbf2e75883507455721fa410cefe8213.txt   \n",
       "3  Benign   NaN  6aaec96d9a3c31aa9711bc453dbaea73.txt   \n",
       "4  Benign   NaN  7c6a5ffcad9f0b91b4189c2a504c4a42.txt   \n",
       "\n",
       "                                                text  \n",
       "0  Source of Specimen\\nA\\tLeft Breast Cyst (9 o'c...  \n",
       "1  Source of Specimen\\nA\\tRight breast cores\\nB\\t...  \n",
       "2  Addendum\\nAfter discussion with a radiologist,...  \n",
       "3  Source of Specimen\\nA\\tRight breast core bx\\nC...  \n",
       "4  Source of Specimen\\nA\\tRight breast cores with...  "
      ]
     },
     "execution_count": 12,
     "metadata": {},
     "output_type": "execute_result"
    }
   ],
   "source": [
    "data.head()"
   ]
  },
  {
   "cell_type": "code",
   "execution_count": 13,
   "metadata": {},
   "outputs": [
    {
     "data": {
      "text/plain": [
       "Benign       2720\n",
       "Malignant     908\n",
       "Name: Path, dtype: int64"
      ]
     },
     "execution_count": 13,
     "metadata": {},
     "output_type": "execute_result"
    }
   ],
   "source": [
    "data['Path'].value_counts()"
   ]
  },
  {
   "cell_type": "code",
   "execution_count": 14,
   "metadata": {},
   "outputs": [],
   "source": [
    "for train_index, test_index in split.split(data,data['Path']):\n",
    "    train=data.loc[train_index]\n",
    "    test=data.loc[test_index]"
   ]
  },
  {
   "cell_type": "markdown",
   "metadata": {},
   "source": [
    "# Classifier"
   ]
  },
  {
   "cell_type": "code",
   "execution_count": 84,
   "metadata": {},
   "outputs": [],
   "source": [
    "data_clas = TextDataBunch.from_df(path=mypath, train_df=train, valid_df=test, text_cols=['text'], label_cols='Path', \n",
    "                                  vocab=data_lm.vocab)"
   ]
  },
  {
   "cell_type": "code",
   "execution_count": 85,
   "metadata": {},
   "outputs": [],
   "source": [
    "data_clas.save('p_all_data_clas.pkl')"
   ]
  },
  {
   "cell_type": "code",
   "execution_count": 16,
   "metadata": {},
   "outputs": [
    {
     "name": "stderr",
     "output_type": "stream",
     "text": [
      "/data2/itahir/anaconda3/lib/python3.7/site-packages/torch/serialization.py:593: SourceChangeWarning: source code of class 'torch.nn.modules.loss.CrossEntropyLoss' has changed. you can retrieve the original source code by accessing the object's source attribute or set `torch.nn.Module.dump_patches = True` and use the patch tool to revert the changes.\n",
      "  warnings.warn(msg, SourceChangeWarning)\n"
     ]
    }
   ],
   "source": [
    "data_clas = load_data(mypath, 'p_all_data_clas.pkl', bs=bs)"
   ]
  },
  {
   "cell_type": "code",
   "execution_count": 17,
   "metadata": {},
   "outputs": [
    {
     "data": {
      "text/html": [
       "<table border=\"1\" class=\"dataframe\">\n",
       "  <thead>\n",
       "    <tr style=\"text-align: right;\">\n",
       "      <th>text</th>\n",
       "      <th>target</th>\n",
       "    </tr>\n",
       "  </thead>\n",
       "  <tbody>\n",
       "    <tr>\n",
       "      <td>xxbos xxmaj addendum \\n  xxmaj molecular xxmaj diagnostics xxmaj laboratory xxmaj report \\n  xxup her-2 xxmaj gene xxmaj amplification by xxmaj fluorescent xxmaj in - xxmaj situ xxmaj hybridization ( xxup fish ) \\n \\n  xxmaj tissue / block : \\t xxup a7 \\n \\n  xxmaj number of invasive tumor cells counted : \\t 40 xxmaj cells \\n \\n  xxup her-2 / xxup cen 17</td>\n",
       "      <td>Malignant</td>\n",
       "    </tr>\n",
       "    <tr>\n",
       "      <td>xxbos xxmaj addendum \\n  xxmaj oncotype - xxup dx xxmaj breast xxmaj cancer xxmaj assay was performed at xxmaj genomic xxmaj health . a report has been received and summarized as follows : \\n \\n  [ xxmaj for xxmaj specimen \" xxup xxunk \" representing right breast cancer ] \\n  xxmaj breast cancer recurrence score = 16 . \\n  xxup er xxmaj score = 7.2 (</td>\n",
       "      <td>Malignant</td>\n",
       "    </tr>\n",
       "    <tr>\n",
       "      <td>xxbos xxmaj addendum \\n  xxmaj immunohistochemical xxup er / pgr and xxup her2 xxmaj assay \\n  xxup cap xxmaj posting xxmaj december 2014 \\n \\n  xxmaj specimen : xxmaj right central breast ( xxmaj block xxup a8 ) \\n \\n  xxmaj estrogen xxmaj receptor ( xxup er ) : \\t\\t\\t \\n  xxup positive \\n  xxmaj percentage of cells with nuclear positivity : xxmaj focally</td>\n",
       "      <td>Benign</td>\n",
       "    </tr>\n",
       "    <tr>\n",
       "      <td>xxbos xxmaj addendum \\n  xxmaj molecular xxmaj diagnostics xxmaj laboratory xxmaj report \\n  xxup her-2 xxmaj gene xxmaj amplification by xxmaj fluorescent xxmaj in - xxmaj situ xxmaj hybridization ( xxup fish ) \\n \\n  xxmaj tissue : \\t  xxmaj left breast ( xxmaj block \" xxup a1 \" ) \\n \\n  xxmaj interpretation : xxmaj negative for xxmaj amplification . \\n \\n  xxmaj</td>\n",
       "      <td>Malignant</td>\n",
       "    </tr>\n",
       "    <tr>\n",
       "      <td>xxbos xxmaj source of xxmaj specimen \\n  a \\t xxmaj right breast central mass \\n  b \\t xxmaj right breast axillary tail \\n  c \\t xxmaj right axilla lymph node \\n  d \\t xxmaj left breast retroareolar mass \\n  xxmaj clinical xxmaj information \\n  xxmaj new suspicious right breast masses and axillary lymphadenopathy . xxmaj new suspicious mass in the retroareolar left breast .</td>\n",
       "      <td>Benign</td>\n",
       "    </tr>\n",
       "  </tbody>\n",
       "</table>"
      ],
      "text/plain": [
       "<IPython.core.display.HTML object>"
      ]
     },
     "metadata": {},
     "output_type": "display_data"
    }
   ],
   "source": [
    "data_clas.show_batch()"
   ]
  },
  {
   "cell_type": "code",
   "execution_count": 4,
   "metadata": {},
   "outputs": [],
   "source": [
    "kappa = KappaScore()\n",
    "kappa.weights = \"quadratic\""
   ]
  },
  {
   "cell_type": "code",
   "execution_count": 19,
   "metadata": {},
   "outputs": [],
   "source": [
    "learn = text_classifier_learner(data_clas, AWD_LSTM, drop_mult=0.3,metrics=[kappa, accuracy, error_rate])\n",
    "learn.load_encoder('p_all_fine_tuned_enc_6'); #p_fine_tuned_enc_6"
   ]
  },
  {
   "cell_type": "code",
   "execution_count": 91,
   "metadata": {},
   "outputs": [
    {
     "data": {
      "text/html": [],
      "text/plain": [
       "<IPython.core.display.HTML object>"
      ]
     },
     "metadata": {},
     "output_type": "display_data"
    },
    {
     "name": "stdout",
     "output_type": "stream",
     "text": [
      "LR Finder is complete, type {learner_name}.recorder.plot() to see the graph.\n"
     ]
    }
   ],
   "source": [
    "learn.lr_find()"
   ]
  },
  {
   "cell_type": "code",
   "execution_count": 92,
   "metadata": {},
   "outputs": [
    {
     "data": {
      "image/png": "[encoded data removed]",
      "text/plain": [
       "<Figure size 432x288 with 1 Axes>"
      ]
     },
     "metadata": {
      "needs_background": "light"
     },
     "output_type": "display_data"
    }
   ],
   "source": [
    "learn.recorder.plot()"
   ]
  },
  {
   "cell_type": "code",
   "execution_count": 93,
   "metadata": {},
   "outputs": [
    {
     "data": {
      "text/html": [
       "<table border=\"1\" class=\"dataframe\">\n",
       "  <thead>\n",
       "    <tr style=\"text-align: left;\">\n",
       "      <th>epoch</th>\n",
       "      <th>train_loss</th>\n",
       "      <th>valid_loss</th>\n",
       "      <th>kappa_score</th>\n",
       "      <th>accuracy</th>\n",
       "      <th>error_rate</th>\n",
       "      <th>time</th>\n",
       "    </tr>\n",
       "  </thead>\n",
       "  <tbody>\n",
       "    <tr>\n",
       "      <td>0</td>\n",
       "      <td>0.522167</td>\n",
       "      <td>0.297974</td>\n",
       "      <td>0.883483</td>\n",
       "      <td>0.954545</td>\n",
       "      <td>0.045455</td>\n",
       "      <td>00:16</td>\n",
       "    </tr>\n",
       "  </tbody>\n",
       "</table>"
      ],
      "text/plain": [
       "<IPython.core.display.HTML object>"
      ]
     },
     "metadata": {},
     "output_type": "display_data"
    }
   ],
   "source": [
    "learn.fit_one_cycle(1,1e-2, moms=(0.8,0.7)) "
   ]
  },
  {
   "cell_type": "code",
   "execution_count": 94,
   "metadata": {},
   "outputs": [
    {
     "data": {
      "image/png": "[encoded data removed]",
      "text/plain": [
       "<Figure size 432x288 with 1 Axes>"
      ]
     },
     "metadata": {
      "needs_background": "light"
     },
     "output_type": "display_data"
    }
   ],
   "source": [
    "interp = ClassificationInterpretation.from_learner(learn)\n",
    "interp.plot_confusion_matrix()"
   ]
  },
  {
   "cell_type": "code",
   "execution_count": 95,
   "metadata": {},
   "outputs": [],
   "source": [
    "learn.save('p_all_first-00')"
   ]
  },
  {
   "cell_type": "code",
   "execution_count": 96,
   "metadata": {},
   "outputs": [],
   "source": [
    "learn.load('p_all_first-00');"
   ]
  },
  {
   "cell_type": "code",
   "execution_count": 97,
   "metadata": {},
   "outputs": [],
   "source": [
    "learn.freeze_to(-2)"
   ]
  },
  {
   "cell_type": "code",
   "execution_count": 98,
   "metadata": {},
   "outputs": [
    {
     "data": {
      "text/html": [],
      "text/plain": [
       "<IPython.core.display.HTML object>"
      ]
     },
     "metadata": {},
     "output_type": "display_data"
    },
    {
     "name": "stdout",
     "output_type": "stream",
     "text": [
      "LR Finder is complete, type {learner_name}.recorder.plot() to see the graph.\n"
     ]
    }
   ],
   "source": [
    "learn.lr_find()"
   ]
  },
  {
   "cell_type": "code",
   "execution_count": 99,
   "metadata": {},
   "outputs": [
    {
     "data": {
      "image/png": "[encoded data removed]",
      "text/plain": [
       "<Figure size 432x288 with 1 Axes>"
      ]
     },
     "metadata": {
      "needs_background": "light"
     },
     "output_type": "display_data"
    }
   ],
   "source": [
    "learn.recorder.plot()"
   ]
  },
  {
   "cell_type": "code",
   "execution_count": 102,
   "metadata": {},
   "outputs": [
    {
     "data": {
      "text/html": [
       "<table border=\"1\" class=\"dataframe\">\n",
       "  <thead>\n",
       "    <tr style=\"text-align: left;\">\n",
       "      <th>epoch</th>\n",
       "      <th>train_loss</th>\n",
       "      <th>valid_loss</th>\n",
       "      <th>kappa_score</th>\n",
       "      <th>accuracy</th>\n",
       "      <th>error_rate</th>\n",
       "      <th>time</th>\n",
       "    </tr>\n",
       "  </thead>\n",
       "  <tbody>\n",
       "    <tr>\n",
       "      <td>0</td>\n",
       "      <td>0.479990</td>\n",
       "      <td>0.149569</td>\n",
       "      <td>0.897716</td>\n",
       "      <td>0.961433</td>\n",
       "      <td>0.038567</td>\n",
       "      <td>00:18</td>\n",
       "    </tr>\n",
       "  </tbody>\n",
       "</table>"
      ],
      "text/plain": [
       "<IPython.core.display.HTML object>"
      ]
     },
     "metadata": {},
     "output_type": "display_data"
    }
   ],
   "source": [
    "learn.freeze_to(-2)\n",
    "learn.fit_one_cycle(1, slice(1e-5,1e-4), moms=(0.8,0.7)) # first 1e-6,1e-4"
   ]
  },
  {
   "cell_type": "code",
   "execution_count": 103,
   "metadata": {},
   "outputs": [
    {
     "data": {
      "image/png": "[encoded data removed]",
      "text/plain": [
       "<Figure size 432x288 with 1 Axes>"
      ]
     },
     "metadata": {
      "needs_background": "light"
     },
     "output_type": "display_data"
    }
   ],
   "source": [
    "interp = ClassificationInterpretation.from_learner(learn)\n",
    "interp.plot_confusion_matrix()"
   ]
  },
  {
   "cell_type": "code",
   "execution_count": 104,
   "metadata": {},
   "outputs": [],
   "source": [
    "learn.save('p_all_second_00')"
   ]
  },
  {
   "cell_type": "code",
   "execution_count": 105,
   "metadata": {},
   "outputs": [],
   "source": [
    "learn.load('p_all_second_00');"
   ]
  },
  {
   "cell_type": "code",
   "execution_count": 106,
   "metadata": {},
   "outputs": [],
   "source": [
    "learn.freeze_to(-3)"
   ]
  },
  {
   "cell_type": "code",
   "execution_count": 107,
   "metadata": {},
   "outputs": [
    {
     "data": {
      "text/html": [],
      "text/plain": [
       "<IPython.core.display.HTML object>"
      ]
     },
     "metadata": {},
     "output_type": "display_data"
    },
    {
     "name": "stdout",
     "output_type": "stream",
     "text": [
      "LR Finder is complete, type {learner_name}.recorder.plot() to see the graph.\n"
     ]
    }
   ],
   "source": [
    "learn.lr_find()"
   ]
  },
  {
   "cell_type": "code",
   "execution_count": 108,
   "metadata": {},
   "outputs": [
    {
     "data": {
      "image/png": "[encoded data removed]",
      "text/plain": [
       "<Figure size 432x288 with 1 Axes>"
      ]
     },
     "metadata": {
      "needs_background": "light"
     },
     "output_type": "display_data"
    }
   ],
   "source": [
    "learn.recorder.plot()"
   ]
  },
  {
   "cell_type": "code",
   "execution_count": 109,
   "metadata": {},
   "outputs": [
    {
     "data": {
      "text/html": [
       "<table border=\"1\" class=\"dataframe\">\n",
       "  <thead>\n",
       "    <tr style=\"text-align: left;\">\n",
       "      <th>epoch</th>\n",
       "      <th>train_loss</th>\n",
       "      <th>valid_loss</th>\n",
       "      <th>kappa_score</th>\n",
       "      <th>accuracy</th>\n",
       "      <th>error_rate</th>\n",
       "      <th>time</th>\n",
       "    </tr>\n",
       "  </thead>\n",
       "  <tbody>\n",
       "    <tr>\n",
       "      <td>0</td>\n",
       "      <td>0.385827</td>\n",
       "      <td>0.153029</td>\n",
       "      <td>0.916133</td>\n",
       "      <td>0.968320</td>\n",
       "      <td>0.031680</td>\n",
       "      <td>00:28</td>\n",
       "    </tr>\n",
       "  </tbody>\n",
       "</table>"
      ],
      "text/plain": [
       "<IPython.core.display.HTML object>"
      ]
     },
     "metadata": {},
     "output_type": "display_data"
    }
   ],
   "source": [
    "learn.freeze_to(-3)\n",
    "learn.fit_one_cycle(1, slice(1e-6,1e-3), moms=(0.8,0.7)) "
   ]
  },
  {
   "cell_type": "code",
   "execution_count": 110,
   "metadata": {},
   "outputs": [
    {
     "data": {
      "image/png": "[encoded data removed]",
      "text/plain": [
       "<Figure size 432x288 with 1 Axes>"
      ]
     },
     "metadata": {
      "needs_background": "light"
     },
     "output_type": "display_data"
    }
   ],
   "source": [
    "interp = ClassificationInterpretation.from_learner(learn)\n",
    "interp.plot_confusion_matrix()"
   ]
  },
  {
   "cell_type": "code",
   "execution_count": 111,
   "metadata": {},
   "outputs": [],
   "source": [
    "learn.save('p_all_third_00')"
   ]
  },
  {
   "cell_type": "code",
   "execution_count": 112,
   "metadata": {},
   "outputs": [],
   "source": [
    "learn.load('p_all_third_00');"
   ]
  },
  {
   "cell_type": "code",
   "execution_count": 113,
   "metadata": {},
   "outputs": [],
   "source": [
    "learn.unfreeze()"
   ]
  },
  {
   "cell_type": "code",
   "execution_count": 114,
   "metadata": {},
   "outputs": [
    {
     "data": {
      "text/html": [],
      "text/plain": [
       "<IPython.core.display.HTML object>"
      ]
     },
     "metadata": {},
     "output_type": "display_data"
    },
    {
     "name": "stdout",
     "output_type": "stream",
     "text": [
      "LR Finder is complete, type {learner_name}.recorder.plot() to see the graph.\n"
     ]
    }
   ],
   "source": [
    "learn.lr_find()"
   ]
  },
  {
   "cell_type": "code",
   "execution_count": 115,
   "metadata": {},
   "outputs": [
    {
     "data": {
      "image/png": "[encoded data removed]",
      "text/plain": [
       "<Figure size 432x288 with 1 Axes>"
      ]
     },
     "metadata": {
      "needs_background": "light"
     },
     "output_type": "display_data"
    }
   ],
   "source": [
    "learn.recorder.plot()"
   ]
  },
  {
   "cell_type": "code",
   "execution_count": 116,
   "metadata": {},
   "outputs": [
    {
     "data": {
      "text/html": [
       "<table border=\"1\" class=\"dataframe\">\n",
       "  <thead>\n",
       "    <tr style=\"text-align: left;\">\n",
       "      <th>epoch</th>\n",
       "      <th>train_loss</th>\n",
       "      <th>valid_loss</th>\n",
       "      <th>kappa_score</th>\n",
       "      <th>accuracy</th>\n",
       "      <th>error_rate</th>\n",
       "      <th>time</th>\n",
       "    </tr>\n",
       "  </thead>\n",
       "  <tbody>\n",
       "    <tr>\n",
       "      <td>0</td>\n",
       "      <td>0.582995</td>\n",
       "      <td>0.202092</td>\n",
       "      <td>0.855693</td>\n",
       "      <td>0.946281</td>\n",
       "      <td>0.053719</td>\n",
       "      <td>00:35</td>\n",
       "    </tr>\n",
       "    <tr>\n",
       "      <td>1</td>\n",
       "      <td>0.610688</td>\n",
       "      <td>0.107605</td>\n",
       "      <td>0.912962</td>\n",
       "      <td>0.966942</td>\n",
       "      <td>0.033058</td>\n",
       "      <td>00:30</td>\n",
       "    </tr>\n",
       "    <tr>\n",
       "      <td>2</td>\n",
       "      <td>0.557585</td>\n",
       "      <td>0.258462</td>\n",
       "      <td>0.920502</td>\n",
       "      <td>0.969697</td>\n",
       "      <td>0.030303</td>\n",
       "      <td>00:31</td>\n",
       "    </tr>\n",
       "    <tr>\n",
       "      <td>3</td>\n",
       "      <td>0.411642</td>\n",
       "      <td>0.113770</td>\n",
       "      <td>0.930970</td>\n",
       "      <td>0.973829</td>\n",
       "      <td>0.026171</td>\n",
       "      <td>00:35</td>\n",
       "    </tr>\n",
       "    <tr>\n",
       "      <td>4</td>\n",
       "      <td>0.381526</td>\n",
       "      <td>0.125060</td>\n",
       "      <td>0.930970</td>\n",
       "      <td>0.973829</td>\n",
       "      <td>0.026171</td>\n",
       "      <td>00:32</td>\n",
       "    </tr>\n",
       "  </tbody>\n",
       "</table>"
      ],
      "text/plain": [
       "<IPython.core.display.HTML object>"
      ]
     },
     "metadata": {},
     "output_type": "display_data"
    }
   ],
   "source": [
    "learn.fit_one_cycle(5, slice(1e-4,1e-1), moms=(0.8,0.7))"
   ]
  },
  {
   "cell_type": "code",
   "execution_count": 117,
   "metadata": {},
   "outputs": [
    {
     "data": {
      "image/png": "[encoded data removed]",
      "text/plain": [
       "<Figure size 432x288 with 1 Axes>"
      ]
     },
     "metadata": {
      "needs_background": "light"
     },
     "output_type": "display_data"
    }
   ],
   "source": [
    "interp = ClassificationInterpretation.from_learner(learn)\n",
    "interp.plot_confusion_matrix()"
   ]
  },
  {
   "cell_type": "code",
   "execution_count": 118,
   "metadata": {},
   "outputs": [],
   "source": [
    "learn.save('p_all_fourth_00')"
   ]
  },
  {
   "cell_type": "code",
   "execution_count": 119,
   "metadata": {},
   "outputs": [
    {
     "data": {
      "image/png": "[encoded data removed]",
      "text/plain": [
       "<Figure size 432x288 with 1 Axes>"
      ]
     },
     "metadata": {
      "needs_background": "light"
     },
     "output_type": "display_data"
    }
   ],
   "source": [
    "interp = ClassificationInterpretation.from_learner(learn)\n",
    "interp.plot_confusion_matrix()"
   ]
  },
  {
   "cell_type": "code",
   "execution_count": 20,
   "metadata": {},
   "outputs": [],
   "source": [
    "learn.load('p_all_fourth_00');"
   ]
  },
  {
   "cell_type": "code",
   "execution_count": 21,
   "metadata": {},
   "outputs": [
    {
     "data": {
      "image/png": "[encoded data removed]",
      "text/plain": [
       "<Figure size 432x288 with 1 Axes>"
      ]
     },
     "metadata": {
      "needs_background": "light"
     },
     "output_type": "display_data"
    }
   ],
   "source": [
    "interp = ClassificationInterpretation.from_learner(learn)\n",
    "interp.plot_confusion_matrix()"
   ]
  },
  {
   "cell_type": "code",
   "execution_count": 120,
   "metadata": {},
   "outputs": [],
   "source": [
    "preds, _ = learn.get_preds(ds_type=DatasetType.Valid,ordered=True)"
   ]
  },
  {
   "cell_type": "code",
   "execution_count": 121,
   "metadata": {},
   "outputs": [
    {
     "data": {
      "text/plain": [
       "['Benign', 'Malignant']"
      ]
     },
     "execution_count": 121,
     "metadata": {},
     "output_type": "execute_result"
    }
   ],
   "source": [
    "learn.data.classes"
   ]
  },
  {
   "cell_type": "code",
   "execution_count": 122,
   "metadata": {},
   "outputs": [],
   "source": [
    "labels = np.argmax(preds, 1)"
   ]
  },
  {
   "cell_type": "code",
   "execution_count": 123,
   "metadata": {},
   "outputs": [
    {
     "data": {
      "text/plain": [
       "726"
      ]
     },
     "execution_count": 123,
     "metadata": {},
     "output_type": "execute_result"
    }
   ],
   "source": [
    "len(labels)"
   ]
  },
  {
   "cell_type": "code",
   "execution_count": 124,
   "metadata": {},
   "outputs": [],
   "source": [
    "test['labels']=labels"
   ]
  },
  {
   "cell_type": "code",
   "execution_count": 125,
   "metadata": {},
   "outputs": [],
   "source": [
    "test['Predicted']=[learn.data.classes[int(x)] for x in labels]"
   ]
  },
  {
   "cell_type": "code",
   "execution_count": 128,
   "metadata": {},
   "outputs": [
    {
     "data": {
      "text/html": [
       "<div>\n",
       "<style scoped>\n",
       "    .dataframe tbody tr th:only-of-type {\n",
       "        vertical-align: middle;\n",
       "    }\n",
       "\n",
       "    .dataframe tbody tr th {\n",
       "        vertical-align: top;\n",
       "    }\n",
       "\n",
       "    .dataframe thead th {\n",
       "        text-align: right;\n",
       "    }\n",
       "</style>\n",
       "<table border=\"1\" class=\"dataframe\">\n",
       "  <thead>\n",
       "    <tr style=\"text-align: right;\">\n",
       "      <th></th>\n",
       "      <th>Path</th>\n",
       "      <th>Notes</th>\n",
       "      <th>File name</th>\n",
       "      <th>text</th>\n",
       "      <th>labels</th>\n",
       "      <th>Predicted</th>\n",
       "    </tr>\n",
       "  </thead>\n",
       "  <tbody>\n",
       "    <tr>\n",
       "      <th>110</th>\n",
       "      <td>Malignant</td>\n",
       "      <td>NaN</td>\n",
       "      <td>a51bd919c4bf55a48c982026ed8d4f25.txt</td>\n",
       "      <td>Addendum\\nMolecular Diagnostics Laboratory Rep...</td>\n",
       "      <td>1</td>\n",
       "      <td>Malignant</td>\n",
       "    </tr>\n",
       "    <tr>\n",
       "      <th>1148</th>\n",
       "      <td>Benign</td>\n",
       "      <td>NaN</td>\n",
       "      <td>44fd9c7d8e1c1007246f7852516d6f73.txt</td>\n",
       "      <td>Source of Specimen\\nA\\tRight breast\\nClinical ...</td>\n",
       "      <td>0</td>\n",
       "      <td>Benign</td>\n",
       "    </tr>\n",
       "    <tr>\n",
       "      <th>3469</th>\n",
       "      <td>Benign</td>\n",
       "      <td>NaN</td>\n",
       "      <td>96b38d83b430e9893694da86391784f4.txt</td>\n",
       "      <td>Source of Specimen\\nA\\tLeft breast 2 o'clock m...</td>\n",
       "      <td>0</td>\n",
       "      <td>Benign</td>\n",
       "    </tr>\n",
       "    <tr>\n",
       "      <th>3299</th>\n",
       "      <td>Benign</td>\n",
       "      <td>NaN</td>\n",
       "      <td>e64dabb2cf11e725abe12c107ef0660f.txt</td>\n",
       "      <td>Source of Specimen\\nA\\tRight breast core\\nClin...</td>\n",
       "      <td>0</td>\n",
       "      <td>Benign</td>\n",
       "    </tr>\n",
       "    <tr>\n",
       "      <th>2187</th>\n",
       "      <td>Benign</td>\n",
       "      <td>NaN</td>\n",
       "      <td>36082d51425b1577bf72993742ae9abf.txt</td>\n",
       "      <td>Source of Specimen\\nA\\t9-G Cores with Catt\\nB\\...</td>\n",
       "      <td>0</td>\n",
       "      <td>Benign</td>\n",
       "    </tr>\n",
       "  </tbody>\n",
       "</table>\n",
       "</div>"
      ],
      "text/plain": [
       "           Path Notes                             File name  \\\n",
       "110   Malignant   NaN  a51bd919c4bf55a48c982026ed8d4f25.txt   \n",
       "1148     Benign   NaN  44fd9c7d8e1c1007246f7852516d6f73.txt   \n",
       "3469     Benign   NaN  96b38d83b430e9893694da86391784f4.txt   \n",
       "3299     Benign   NaN  e64dabb2cf11e725abe12c107ef0660f.txt   \n",
       "2187     Benign   NaN  36082d51425b1577bf72993742ae9abf.txt   \n",
       "\n",
       "                                                   text  labels  Predicted  \n",
       "110   Addendum\\nMolecular Diagnostics Laboratory Rep...       1  Malignant  \n",
       "1148  Source of Specimen\\nA\\tRight breast\\nClinical ...       0     Benign  \n",
       "3469  Source of Specimen\\nA\\tLeft breast 2 o'clock m...       0     Benign  \n",
       "3299  Source of Specimen\\nA\\tRight breast core\\nClin...       0     Benign  \n",
       "2187  Source of Specimen\\nA\\t9-G Cores with Catt\\nB\\...       0     Benign  "
      ]
     },
     "execution_count": 128,
     "metadata": {},
     "output_type": "execute_result"
    }
   ],
   "source": [
    "test.head()"
   ]
  },
  {
   "cell_type": "code",
   "execution_count": 131,
   "metadata": {},
   "outputs": [
    {
     "data": {
      "text/plain": [
       "532"
      ]
     },
     "execution_count": 131,
     "metadata": {},
     "output_type": "execute_result"
    }
   ],
   "source": [
    "((test['Predicted']=='Benign') &(test['Path']=='Benign')).sum()"
   ]
  },
  {
   "cell_type": "code",
   "execution_count": 130,
   "metadata": {},
   "outputs": [
    {
     "data": {
      "text/plain": [
       "175"
      ]
     },
     "execution_count": 130,
     "metadata": {},
     "output_type": "execute_result"
    }
   ],
   "source": [
    "((test['Predicted']=='Malignant') &(test['Path']=='Malignant')).sum()"
   ]
  },
  {
   "cell_type": "code",
   "execution_count": 132,
   "metadata": {},
   "outputs": [
    {
     "data": {
      "text/plain": [
       "12"
      ]
     },
     "execution_count": 132,
     "metadata": {},
     "output_type": "execute_result"
    }
   ],
   "source": [
    "((test['Predicted']=='Malignant') &(test['Path']=='Benign')).sum()"
   ]
  },
  {
   "cell_type": "code",
   "execution_count": 133,
   "metadata": {},
   "outputs": [
    {
     "data": {
      "text/plain": [
       "7"
      ]
     },
     "execution_count": 133,
     "metadata": {},
     "output_type": "execute_result"
    }
   ],
   "source": [
    "((test['Predicted']=='Benign') &(test['Path']=='Malignant')).sum()"
   ]
  },
  {
   "cell_type": "code",
   "execution_count": 134,
   "metadata": {},
   "outputs": [
    {
     "data": {
      "text/html": [
       "<div>\n",
       "<style scoped>\n",
       "    .dataframe tbody tr th:only-of-type {\n",
       "        vertical-align: middle;\n",
       "    }\n",
       "\n",
       "    .dataframe tbody tr th {\n",
       "        vertical-align: top;\n",
       "    }\n",
       "\n",
       "    .dataframe thead th {\n",
       "        text-align: right;\n",
       "    }\n",
       "</style>\n",
       "<table border=\"1\" class=\"dataframe\">\n",
       "  <thead>\n",
       "    <tr style=\"text-align: right;\">\n",
       "      <th></th>\n",
       "      <th>Path</th>\n",
       "      <th>Notes</th>\n",
       "      <th>File name</th>\n",
       "      <th>text</th>\n",
       "      <th>labels</th>\n",
       "      <th>Predicted</th>\n",
       "    </tr>\n",
       "  </thead>\n",
       "  <tbody>\n",
       "    <tr>\n",
       "      <th>502</th>\n",
       "      <td>Benign</td>\n",
       "      <td>NaN</td>\n",
       "      <td>8fbcc2c5fa22580fdcd7696d2363f25c.txt</td>\n",
       "      <td>Source of Specimen\\nA\\tLeft breast cores\\nB\\tR...</td>\n",
       "      <td>1</td>\n",
       "      <td>Malignant</td>\n",
       "    </tr>\n",
       "    <tr>\n",
       "      <th>1599</th>\n",
       "      <td>Benign</td>\n",
       "      <td>HRL</td>\n",
       "      <td>899363e903653fadeb372e62fd850cc3.txt</td>\n",
       "      <td>Source of Specimen\\nA\\t9 G CORE BX LEFT BREAST...</td>\n",
       "      <td>1</td>\n",
       "      <td>Malignant</td>\n",
       "    </tr>\n",
       "    <tr>\n",
       "      <th>2623</th>\n",
       "      <td>Benign</td>\n",
       "      <td>NaN</td>\n",
       "      <td>b9e5a2472fcad8e77df065888655ec82.txt</td>\n",
       "      <td>Source of Specimen\\nA\\tRight 9-G with Calcific...</td>\n",
       "      <td>1</td>\n",
       "      <td>Malignant</td>\n",
       "    </tr>\n",
       "    <tr>\n",
       "      <th>2388</th>\n",
       "      <td>Benign</td>\n",
       "      <td>NaN</td>\n",
       "      <td>c948b6cb988d64abb1635760ba6f4b70.txt</td>\n",
       "      <td>Addendum\\nMolecular Diagnostics Laboratory Rep...</td>\n",
       "      <td>1</td>\n",
       "      <td>Malignant</td>\n",
       "    </tr>\n",
       "    <tr>\n",
       "      <th>43</th>\n",
       "      <td>Benign</td>\n",
       "      <td>NaN</td>\n",
       "      <td>a754029bf8ac1a3a9d33d675fff9cb23.txt</td>\n",
       "      <td>Source of Specimen\\nA\\tRight Axillary Lymph No...</td>\n",
       "      <td>1</td>\n",
       "      <td>Malignant</td>\n",
       "    </tr>\n",
       "    <tr>\n",
       "      <th>3110</th>\n",
       "      <td>Benign</td>\n",
       "      <td>NaN</td>\n",
       "      <td>8c7c85c1d65506d68373c0cf9b0d6a1a.txt</td>\n",
       "      <td>Source of Specimen\\nA\\tRIGHT BREAST NEEDLE COR...</td>\n",
       "      <td>1</td>\n",
       "      <td>Malignant</td>\n",
       "    </tr>\n",
       "    <tr>\n",
       "      <th>3360</th>\n",
       "      <td>Benign</td>\n",
       "      <td>NaN</td>\n",
       "      <td>52b4812b8a5d9d02bbad62c39f734477.txt</td>\n",
       "      <td>Source of Specimen\\nA\\tBREAST LEFT 6:00\\n\\nThi...</td>\n",
       "      <td>1</td>\n",
       "      <td>Malignant</td>\n",
       "    </tr>\n",
       "    <tr>\n",
       "      <th>3090</th>\n",
       "      <td>Benign</td>\n",
       "      <td>NaN</td>\n",
       "      <td>759644a9a2390412a67f53b2013f5cc3.txt</td>\n",
       "      <td>Addendum\\nDeeper sections of specimen \"C\" repr...</td>\n",
       "      <td>1</td>\n",
       "      <td>Malignant</td>\n",
       "    </tr>\n",
       "    <tr>\n",
       "      <th>2429</th>\n",
       "      <td>Benign</td>\n",
       "      <td>HRL</td>\n",
       "      <td>2adaa96df353f6500cf9ca6bb946ef42.txt</td>\n",
       "      <td>Source of Specimen\\nA\\tRight Sentinel Node #1\\...</td>\n",
       "      <td>1</td>\n",
       "      <td>Malignant</td>\n",
       "    </tr>\n",
       "    <tr>\n",
       "      <th>2228</th>\n",
       "      <td>Benign</td>\n",
       "      <td>NaN</td>\n",
       "      <td>5316edfedab8fd9bf2c07614a0ffe853.txt</td>\n",
       "      <td>Source of Specimen\\nA\\tLeft Breast Cyst FNA Cl...</td>\n",
       "      <td>1</td>\n",
       "      <td>Malignant</td>\n",
       "    </tr>\n",
       "    <tr>\n",
       "      <th>1583</th>\n",
       "      <td>Benign</td>\n",
       "      <td>NaN</td>\n",
       "      <td>708a74e0d2426d20667bb594b45af3b9.txt</td>\n",
       "      <td>Source of Specimen\\nA\\tRIGHT BREAST SENTINEL N...</td>\n",
       "      <td>1</td>\n",
       "      <td>Malignant</td>\n",
       "    </tr>\n",
       "    <tr>\n",
       "      <th>1</th>\n",
       "      <td>Benign</td>\n",
       "      <td>NaN</td>\n",
       "      <td>ed607e409c73353f0d0ab94d5cca1b6e.txt</td>\n",
       "      <td>Source of Specimen\\nA\\tRight breast cores\\nB\\t...</td>\n",
       "      <td>1</td>\n",
       "      <td>Malignant</td>\n",
       "    </tr>\n",
       "  </tbody>\n",
       "</table>\n",
       "</div>"
      ],
      "text/plain": [
       "        Path Notes                             File name  \\\n",
       "502   Benign   NaN  8fbcc2c5fa22580fdcd7696d2363f25c.txt   \n",
       "1599  Benign   HRL  899363e903653fadeb372e62fd850cc3.txt   \n",
       "2623  Benign   NaN  b9e5a2472fcad8e77df065888655ec82.txt   \n",
       "2388  Benign   NaN  c948b6cb988d64abb1635760ba6f4b70.txt   \n",
       "43    Benign   NaN  a754029bf8ac1a3a9d33d675fff9cb23.txt   \n",
       "3110  Benign   NaN  8c7c85c1d65506d68373c0cf9b0d6a1a.txt   \n",
       "3360  Benign   NaN  52b4812b8a5d9d02bbad62c39f734477.txt   \n",
       "3090  Benign   NaN  759644a9a2390412a67f53b2013f5cc3.txt   \n",
       "2429  Benign   HRL  2adaa96df353f6500cf9ca6bb946ef42.txt   \n",
       "2228  Benign   NaN  5316edfedab8fd9bf2c07614a0ffe853.txt   \n",
       "1583  Benign   NaN  708a74e0d2426d20667bb594b45af3b9.txt   \n",
       "1     Benign   NaN  ed607e409c73353f0d0ab94d5cca1b6e.txt   \n",
       "\n",
       "                                                   text  labels  Predicted  \n",
       "502   Source of Specimen\\nA\\tLeft breast cores\\nB\\tR...       1  Malignant  \n",
       "1599  Source of Specimen\\nA\\t9 G CORE BX LEFT BREAST...       1  Malignant  \n",
       "2623  Source of Specimen\\nA\\tRight 9-G with Calcific...       1  Malignant  \n",
       "2388  Addendum\\nMolecular Diagnostics Laboratory Rep...       1  Malignant  \n",
       "43    Source of Specimen\\nA\\tRight Axillary Lymph No...       1  Malignant  \n",
       "3110  Source of Specimen\\nA\\tRIGHT BREAST NEEDLE COR...       1  Malignant  \n",
       "3360  Source of Specimen\\nA\\tBREAST LEFT 6:00\\n\\nThi...       1  Malignant  \n",
       "3090  Addendum\\nDeeper sections of specimen \"C\" repr...       1  Malignant  \n",
       "2429  Source of Specimen\\nA\\tRight Sentinel Node #1\\...       1  Malignant  \n",
       "2228  Source of Specimen\\nA\\tLeft Breast Cyst FNA Cl...       1  Malignant  \n",
       "1583  Source of Specimen\\nA\\tRIGHT BREAST SENTINEL N...       1  Malignant  \n",
       "1     Source of Specimen\\nA\\tRight breast cores\\nB\\t...       1  Malignant  "
      ]
     },
     "execution_count": 134,
     "metadata": {},
     "output_type": "execute_result"
    }
   ],
   "source": [
    "test[(test['Predicted']=='Malignant') &(test['Path']=='Benign')]"
   ]
  },
  {
   "cell_type": "code",
   "execution_count": 135,
   "metadata": {},
   "outputs": [],
   "source": [
    "df1=test[(test['Predicted']=='Malignant') &(test['Path']=='Benign')]"
   ]
  },
  {
   "cell_type": "code",
   "execution_count": 136,
   "metadata": {},
   "outputs": [],
   "source": [
    "df1.to_csv('misBenign_all_step1.csv')"
   ]
  },
  {
   "cell_type": "code",
   "execution_count": 137,
   "metadata": {},
   "outputs": [
    {
     "data": {
      "text/html": [
       "<div>\n",
       "<style scoped>\n",
       "    .dataframe tbody tr th:only-of-type {\n",
       "        vertical-align: middle;\n",
       "    }\n",
       "\n",
       "    .dataframe tbody tr th {\n",
       "        vertical-align: top;\n",
       "    }\n",
       "\n",
       "    .dataframe thead th {\n",
       "        text-align: right;\n",
       "    }\n",
       "</style>\n",
       "<table border=\"1\" class=\"dataframe\">\n",
       "  <thead>\n",
       "    <tr style=\"text-align: right;\">\n",
       "      <th></th>\n",
       "      <th>Path</th>\n",
       "      <th>Notes</th>\n",
       "      <th>File name</th>\n",
       "      <th>text</th>\n",
       "      <th>labels</th>\n",
       "      <th>Predicted</th>\n",
       "    </tr>\n",
       "  </thead>\n",
       "  <tbody>\n",
       "    <tr>\n",
       "      <th>1100</th>\n",
       "      <td>Malignant</td>\n",
       "      <td>NaN</td>\n",
       "      <td>30d7c29afb40105fe4d035b358ef8dc9.txt</td>\n",
       "      <td>Addendum\\nOn immunohistochemistry analysis, pa...</td>\n",
       "      <td>0</td>\n",
       "      <td>Benign</td>\n",
       "    </tr>\n",
       "    <tr>\n",
       "      <th>3475</th>\n",
       "      <td>Malignant</td>\n",
       "      <td>NaN</td>\n",
       "      <td>292f2035f7cd9ff7872cb07c0142852e.txt</td>\n",
       "      <td>Source of Specimen\\nA\\tR breast mass at 6:00\\n...</td>\n",
       "      <td>0</td>\n",
       "      <td>Benign</td>\n",
       "    </tr>\n",
       "    <tr>\n",
       "      <th>1585</th>\n",
       "      <td>Malignant</td>\n",
       "      <td>NaN</td>\n",
       "      <td>1009b244568b4768f4c04dea70921b00.txt</td>\n",
       "      <td>Source of Specimen\\nA\\t14 G CORE BX 12:00 LEFT...</td>\n",
       "      <td>0</td>\n",
       "      <td>Benign</td>\n",
       "    </tr>\n",
       "    <tr>\n",
       "      <th>3368</th>\n",
       "      <td>Malignant</td>\n",
       "      <td>NaN</td>\n",
       "      <td>a00fd3530877c447a8a53159c27242a9.txt</td>\n",
       "      <td>Addendum\\nThis case is presented in the Breast...</td>\n",
       "      <td>0</td>\n",
       "      <td>Benign</td>\n",
       "    </tr>\n",
       "    <tr>\n",
       "      <th>634</th>\n",
       "      <td>Malignant</td>\n",
       "      <td>NaN</td>\n",
       "      <td>3572f9db8a6a7d24bb45a5a5cf2e5392.txt</td>\n",
       "      <td>Source of Specimen\\nA\\tLeft facial lesion\\nCli...</td>\n",
       "      <td>0</td>\n",
       "      <td>Benign</td>\n",
       "    </tr>\n",
       "    <tr>\n",
       "      <th>2793</th>\n",
       "      <td>Malignant</td>\n",
       "      <td>NaN</td>\n",
       "      <td>05217385eb4679e2fedf2a9c2a904d0c.txt</td>\n",
       "      <td>Addendum\\nDeeper sections of right breast skin...</td>\n",
       "      <td>0</td>\n",
       "      <td>Benign</td>\n",
       "    </tr>\n",
       "    <tr>\n",
       "      <th>2643</th>\n",
       "      <td>Malignant</td>\n",
       "      <td>NaN</td>\n",
       "      <td>21d07a7c3300b8fc16e17c229e599a2a.txt</td>\n",
       "      <td>Addendum\\nImmunohistochemical investigation of...</td>\n",
       "      <td>0</td>\n",
       "      <td>Benign</td>\n",
       "    </tr>\n",
       "  </tbody>\n",
       "</table>\n",
       "</div>"
      ],
      "text/plain": [
       "           Path Notes                             File name  \\\n",
       "1100  Malignant   NaN  30d7c29afb40105fe4d035b358ef8dc9.txt   \n",
       "3475  Malignant   NaN  292f2035f7cd9ff7872cb07c0142852e.txt   \n",
       "1585  Malignant   NaN  1009b244568b4768f4c04dea70921b00.txt   \n",
       "3368  Malignant   NaN  a00fd3530877c447a8a53159c27242a9.txt   \n",
       "634   Malignant   NaN  3572f9db8a6a7d24bb45a5a5cf2e5392.txt   \n",
       "2793  Malignant   NaN  05217385eb4679e2fedf2a9c2a904d0c.txt   \n",
       "2643  Malignant   NaN  21d07a7c3300b8fc16e17c229e599a2a.txt   \n",
       "\n",
       "                                                   text  labels Predicted  \n",
       "1100  Addendum\\nOn immunohistochemistry analysis, pa...       0    Benign  \n",
       "3475  Source of Specimen\\nA\\tR breast mass at 6:00\\n...       0    Benign  \n",
       "1585  Source of Specimen\\nA\\t14 G CORE BX 12:00 LEFT...       0    Benign  \n",
       "3368  Addendum\\nThis case is presented in the Breast...       0    Benign  \n",
       "634   Source of Specimen\\nA\\tLeft facial lesion\\nCli...       0    Benign  \n",
       "2793  Addendum\\nDeeper sections of right breast skin...       0    Benign  \n",
       "2643  Addendum\\nImmunohistochemical investigation of...       0    Benign  "
      ]
     },
     "execution_count": 137,
     "metadata": {},
     "output_type": "execute_result"
    }
   ],
   "source": [
    "test[(test['Predicted']=='Benign') &(test['Path']=='Malignant')]"
   ]
  },
  {
   "cell_type": "code",
   "execution_count": 138,
   "metadata": {},
   "outputs": [],
   "source": [
    "df2=test[(test['Predicted']=='Benign') &(test['Path']=='Malignant')]"
   ]
  },
  {
   "cell_type": "code",
   "execution_count": 139,
   "metadata": {},
   "outputs": [],
   "source": [
    "df2.to_csv('misMalignant_all_step1.csv')"
   ]
  },
  {
   "cell_type": "markdown",
   "metadata": {},
   "source": [
    "# After Doctor review of Misclassification"
   ]
  },
  {
   "cell_type": "code",
   "execution_count": null,
   "metadata": {},
   "outputs": [],
   "source": []
  },
  {
   "cell_type": "markdown",
   "metadata": {},
   "source": [
    "# Model Exportation"
   ]
  },
  {
   "cell_type": "code",
   "execution_count": 20,
   "metadata": {},
   "outputs": [],
   "source": [
    "learn.export()"
   ]
  },
  {
   "cell_type": "code",
   "execution_count": 60,
   "metadata": {},
   "outputs": [
    {
     "data": {
      "text/plain": [
       "PosixPath('/data2/itahir/MedstarProject')"
      ]
     },
     "execution_count": 60,
     "metadata": {},
     "output_type": "execute_result"
    }
   ],
   "source": [
    "learn.path "
   ]
  },
  {
   "cell_type": "code",
   "execution_count": 33,
   "metadata": {},
   "outputs": [],
   "source": [
    "exportpath=learn.path "
   ]
  },
  {
   "cell_type": "code",
   "execution_count": 34,
   "metadata": {},
   "outputs": [],
   "source": [
    "learn_inf = load_learner(exportpath)"
   ]
  },
  {
   "cell_type": "code",
   "execution_count": 35,
   "metadata": {},
   "outputs": [
    {
     "data": {
      "text/plain": [
       "(Category Malignant, tensor(1), tensor([0.4708, 0.5292]))"
      ]
     },
     "execution_count": 35,
     "metadata": {},
     "output_type": "execute_result"
    }
   ],
   "source": [
    "learn_inf.predict('/data2/datasets/medstar/breast_pathology/pathology_anonymized_report/ba4ab5b2824d39865b5d81dc259f905f.txt')"
   ]
  },
  {
   "cell_type": "markdown",
   "metadata": {},
   "source": [
    "# Production"
   ]
  },
  {
   "cell_type": "code",
   "execution_count": 36,
   "metadata": {},
   "outputs": [],
   "source": [
    "from fastai import *\n",
    "from nbdev.showdoc import *\n",
    "from ipywidgets import widgets\n",
    "from pandas.api.types import CategoricalDtype"
   ]
  },
  {
   "cell_type": "code",
   "execution_count": 49,
   "metadata": {},
   "outputs": [],
   "source": [
    "from ipywidgets import VBox"
   ]
  },
  {
   "cell_type": "code",
   "execution_count": 55,
   "metadata": {},
   "outputs": [
    {
     "data": {
      "application/vnd.jupyter.widget-view+json": {
       "model_id": "d1ed0fcf915d44c8a24276056d67b08d",
       "version_major": 2,
       "version_minor": 0
      },
      "text/plain": [
       "FileUpload(value={}, description='Upload')"
      ]
     },
     "metadata": {},
     "output_type": "display_data"
    }
   ],
   "source": [
    "btn_upload = widgets.FileUpload()\n",
    "btn_upload"
   ]
  },
  {
   "cell_type": "code",
   "execution_count": 38,
   "metadata": {},
   "outputs": [
    {
     "data": {
      "text/plain": [
       "[b'\\nSource of Specimen\\nA\\tRIGHT BREAST 9 GAUGE\\nClinical Information\\nAGE female with microcalcifications in the inferomedial aspect of right breast.  Procedure: Stereotactic biopsy.\\nGross Description\\nThe specimen is submitted in one part.\\n\\nSpecimen A is received in a single container with formalin and is labeled \"right breast 9-gauge, six samples\".  It consists of a 2.4 x 1.5 x 0.2 cm aggregation of seven core biopsies of tan pale to yellow soft breast tissue.  The specimen is entirely submitted for microscopy.\\n\\nA:\\tRight breast 9-gauge, six samples, 2 (0)\\n\\nSurgical Pathology Technologist:  FIRSTNAME LASTNAME\\nResident Pathologist:  FIRSTNAME LASTNAME\\n\\nThis report may contain tests developed by the Molecular Diagnostic Laboratory at Georgetown University Hospital.  These tests have not been approved by the U.S. Food and Drug Administration.  The FDA has determined that such approval is not necessary.  These tests are used for clinical purposes.  This report may also contain images which are for informational purposes only and not to be used for a diagnosis.\\nFinal Diagnosis\\nBREAST, RIGHT, NEEDLE CORE BIOPSY:\\n -\\tMULTIPLE FOCI OF BENIGN DUCT EPITHELIAL HYPERPLASIA WITHOUT ATYPIA, MICROCALCIFICATION, FIBROCYSTIC CHANGE WITH APOCRINE METAPLASIA AND FOCAL PRESENCE OF MUCINOUS AND COLLAGENOUS SPHERULOSIS.\\n\\n -\\tNO EVIDENCE OF MALIGNANCY.']"
      ]
     },
     "execution_count": 38,
     "metadata": {},
     "output_type": "execute_result"
    }
   ],
   "source": [
    "btn_upload.data"
   ]
  },
  {
   "cell_type": "code",
   "execution_count": 39,
   "metadata": {},
   "outputs": [
    {
     "data": {
      "text/plain": [
       "(Category Malignant, tensor(1), tensor([0.4994, 0.5006]))"
      ]
     },
     "execution_count": 39,
     "metadata": {},
     "output_type": "execute_result"
    }
   ],
   "source": [
    "learn_inf.predict(btn_upload.data)"
   ]
  },
  {
   "cell_type": "code",
   "execution_count": 40,
   "metadata": {},
   "outputs": [],
   "source": [
    "pred,pred_idx,probs=learn_inf.predict(btn_upload.data)"
   ]
  },
  {
   "cell_type": "code",
   "execution_count": 41,
   "metadata": {},
   "outputs": [
    {
     "name": "stdout",
     "output_type": "stream",
     "text": [
      "Malignant\n"
     ]
    },
    {
     "data": {
      "text/plain": [
       "(None, 1)"
      ]
     },
     "execution_count": 41,
     "metadata": {},
     "output_type": "execute_result"
    }
   ],
   "source": [
    "print(pred),pred_idx.item()"
   ]
  },
  {
   "cell_type": "code",
   "execution_count": 42,
   "metadata": {},
   "outputs": [
    {
     "data": {
      "text/plain": [
       "0.49939069151878357"
      ]
     },
     "execution_count": 42,
     "metadata": {},
     "output_type": "execute_result"
    }
   ],
   "source": [
    "probs[0].item()"
   ]
  },
  {
   "cell_type": "code",
   "execution_count": 43,
   "metadata": {},
   "outputs": [
    {
     "data": {
      "application/vnd.jupyter.widget-view+json": {
       "model_id": "035793878936448d80c89e62210a8a22",
       "version_major": 2,
       "version_minor": 0
      },
      "text/plain": [
       "Output()"
      ]
     },
     "metadata": {},
     "output_type": "display_data"
    }
   ],
   "source": [
    "out_pl = widgets.Output()\n",
    "out_pl.clear_output()\n",
    "with out_pl: display(btn_upload.data)\n",
    "out_pl"
   ]
  },
  {
   "cell_type": "code",
   "execution_count": 44,
   "metadata": {},
   "outputs": [
    {
     "data": {
      "application/vnd.jupyter.widget-view+json": {
       "model_id": "4c7c362d8d034d28aff33cad6bbd9c34",
       "version_major": 2,
       "version_minor": 0
      },
      "text/plain": [
       "Button(description='Classify', style=ButtonStyle())"
      ]
     },
     "metadata": {},
     "output_type": "display_data"
    }
   ],
   "source": [
    "btn_run = widgets.Button(description='Classify')\n",
    "btn_run"
   ]
  },
  {
   "cell_type": "code",
   "execution_count": 45,
   "metadata": {},
   "outputs": [
    {
     "data": {
      "application/vnd.jupyter.widget-view+json": {
       "model_id": "207e1ca3470646c7bedcc424476b54d0",
       "version_major": 2,
       "version_minor": 0
      },
      "text/plain": [
       "Label(value='Prediction: Malignant; Probability: 0.5006')"
      ]
     },
     "metadata": {},
     "output_type": "display_data"
    }
   ],
   "source": [
    "lbl_pred = widgets.Label()\n",
    "lbl_pred.value = f'Prediction: {pred}; Probability: {probs[pred_idx]:.04f}'\n",
    "lbl_pred"
   ]
  },
  {
   "cell_type": "code",
   "execution_count": 56,
   "metadata": {},
   "outputs": [],
   "source": [
    "def on_click_classify(change):\n",
    "    pred,pred_idx,probs = learn_inf.predict(btn_upload.data)\n",
    "    lbl_pred.value = f'Prediction: {pred}; Probability: {probs[pred_idx]:.04f}'\n",
    "\n",
    "btn_run.on_click(on_click_classify)"
   ]
  },
  {
   "cell_type": "code",
   "execution_count": 57,
   "metadata": {},
   "outputs": [],
   "source": [
    "btn_upload = widgets.FileUpload()"
   ]
  },
  {
   "cell_type": "code",
   "execution_count": 59,
   "metadata": {},
   "outputs": [
    {
     "data": {
      "application/vnd.jupyter.widget-view+json": {
       "model_id": "dbcbc78827d949c7a90abba3508e387e",
       "version_major": 2,
       "version_minor": 0
      },
      "text/plain": [
       "VBox(children=(Label(value='Select the report!'), FileUpload(value={}, description='Upload'), Button(descripti…"
      ]
     },
     "metadata": {},
     "output_type": "display_data"
    }
   ],
   "source": [
    "VBox([widgets.Label('Select the report!'), \n",
    "      btn_upload, btn_run, out_pl, lbl_pred])"
   ]
  },
  {
   "cell_type": "code",
   "execution_count": null,
   "metadata": {},
   "outputs": [],
   "source": []
  }
 ],
 "metadata": {
  "kernelspec": {
   "display_name": "Python 3",
   "language": "python",
   "name": "python3"
  },
  "language_info": {
   "codemirror_mode": {
    "name": "ipython",
    "version": 3
   },
   "file_extension": ".py",
   "mimetype": "text/x-python",
   "name": "python",
   "nbconvert_exporter": "python",
   "pygments_lexer": "ipython3",
   "version": "3.7.6"
  }
 },
 "nbformat": 4,
 "nbformat_minor": 4
}
